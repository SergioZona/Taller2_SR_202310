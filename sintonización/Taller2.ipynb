{
 "cells": [
  {
   "cell_type": "markdown",
   "id": "98c8b70c-91ef-43ad-92e0-0e38be745c28",
   "metadata": {
    "id": "497T5nW-MzMF",
    "tags": []
   },
   "source": [
    "# **Taller 2**\n",
    "### **Integrantes:**\n",
    "* Diego Felipe Carvajal Lombo (201911910)\n",
    "* Brenda Catalina Barahona Pinilla (201812721)\n",
    "* Sergio Julian Zona Moreno (201914936)"
   ]
  },
  {
   "cell_type": "markdown",
   "id": "bc103ddf-9cf6-4a77-a845-40cb38d04039",
   "metadata": {
    "tags": []
   },
   "source": [
    "# **Carga y muestreo de los datos**"
   ]
  },
  {
   "cell_type": "code",
   "execution_count": 1,
   "id": "0e68c6ad-2a15-424b-937f-c96e98ff6b08",
   "metadata": {
    "ExecuteTime": {
     "end_time": "2023-02-10T03:40:59.672027Z",
     "start_time": "2023-02-10T03:40:59.660012Z"
    },
    "execution": {
     "iopub.execute_input": "2023-05-07T20:22:16.569084Z",
     "iopub.status.busy": "2023-05-07T20:22:16.568668Z",
     "iopub.status.idle": "2023-05-07T20:22:17.339673Z",
     "shell.execute_reply": "2023-05-07T20:22:17.338074Z",
     "shell.execute_reply.started": "2023-05-07T20:22:16.569053Z"
    },
    "id": "0e68c6ad-2a15-424b-937f-c96e98ff6b08",
    "tags": []
   },
   "outputs": [],
   "source": [
    "# Importación de librerias\n",
    "seed = 2023\n",
    "import pandas as pd\n",
    "import numpy as np"
   ]
  },
  {
   "cell_type": "markdown",
   "id": "583da28d-1fb5-4d7a-a530-a28f22756004",
   "metadata": {
    "tags": []
   },
   "source": [
    "# **Carga de datos**"
   ]
  },
  {
   "cell_type": "code",
   "execution_count": 3,
   "id": "cda3b693-62f8-4943-ad37-04655c8f87b2",
   "metadata": {
    "ExecuteTime": {
     "end_time": "2023-02-10T03:41:42.554593Z",
     "start_time": "2023-02-10T03:41:01.815021Z"
    },
    "execution": {
     "iopub.execute_input": "2023-05-07T20:22:22.948034Z",
     "iopub.status.busy": "2023-05-07T20:22:22.947242Z",
     "iopub.status.idle": "2023-05-07T20:22:22.952735Z",
     "shell.execute_reply": "2023-05-07T20:22:22.951756Z",
     "shell.execute_reply.started": "2023-05-07T20:22:22.948005Z"
    },
    "id": "cda3b693-62f8-4943-ad37-04655c8f87b2",
    "tags": []
   },
   "outputs": [],
   "source": [
    "# read a portion of the JSON file into a pandas DataFrame\n",
    "def load_json(path):    \n",
    "    chunk_size = 50000\n",
    "    df = pd.read_json(path, lines=True, nrows=chunk_size, encoding='utf-8')\n",
    "    return df"
   ]
  },
  {
   "cell_type": "code",
   "execution_count": 5,
   "id": "9af2cc6a-51cb-47c3-96c3-0a052ef6dd51",
   "metadata": {
    "execution": {
     "iopub.execute_input": "2023-05-07T20:22:30.158275Z",
     "iopub.status.busy": "2023-05-07T20:22:30.157500Z",
     "iopub.status.idle": "2023-05-07T20:22:31.693109Z",
     "shell.execute_reply": "2023-05-07T20:22:31.692366Z",
     "shell.execute_reply.started": "2023-05-07T20:22:30.158244Z"
    },
    "tags": []
   },
   "outputs": [
    {
     "data": {
      "text/html": [
       "<div>\n",
       "<style scoped>\n",
       "    .dataframe tbody tr th:only-of-type {\n",
       "        vertical-align: middle;\n",
       "    }\n",
       "\n",
       "    .dataframe tbody tr th {\n",
       "        vertical-align: top;\n",
       "    }\n",
       "\n",
       "    .dataframe thead th {\n",
       "        text-align: right;\n",
       "    }\n",
       "</style>\n",
       "<table border=\"1\" class=\"dataframe\">\n",
       "  <thead>\n",
       "    <tr style=\"text-align: right;\">\n",
       "      <th></th>\n",
       "      <th>business_id</th>\n",
       "      <th>name</th>\n",
       "      <th>address</th>\n",
       "      <th>city</th>\n",
       "      <th>state</th>\n",
       "      <th>postal_code</th>\n",
       "      <th>latitude</th>\n",
       "      <th>longitude</th>\n",
       "      <th>stars</th>\n",
       "      <th>review_count</th>\n",
       "      <th>is_open</th>\n",
       "      <th>attributes</th>\n",
       "      <th>categories</th>\n",
       "      <th>hours</th>\n",
       "    </tr>\n",
       "  </thead>\n",
       "  <tbody>\n",
       "    <tr>\n",
       "      <th>0</th>\n",
       "      <td>Pns2l4eNsfO8kk83dixA6A</td>\n",
       "      <td>Abby Rappoport, LAC, CMQ</td>\n",
       "      <td>1616 Chapala St, Ste 2</td>\n",
       "      <td>Santa Barbara</td>\n",
       "      <td>CA</td>\n",
       "      <td>93101</td>\n",
       "      <td>34.426679</td>\n",
       "      <td>-119.711197</td>\n",
       "      <td>5.0</td>\n",
       "      <td>7</td>\n",
       "      <td>0</td>\n",
       "      <td>{'ByAppointmentOnly': 'True'}</td>\n",
       "      <td>Doctors, Traditional Chinese Medicine, Naturop...</td>\n",
       "      <td>None</td>\n",
       "    </tr>\n",
       "    <tr>\n",
       "      <th>1</th>\n",
       "      <td>mpf3x-BjTdTEA3yCZrAYPw</td>\n",
       "      <td>The UPS Store</td>\n",
       "      <td>87 Grasso Plaza Shopping Center</td>\n",
       "      <td>Affton</td>\n",
       "      <td>MO</td>\n",
       "      <td>63123</td>\n",
       "      <td>38.551126</td>\n",
       "      <td>-90.335695</td>\n",
       "      <td>3.0</td>\n",
       "      <td>15</td>\n",
       "      <td>1</td>\n",
       "      <td>{'BusinessAcceptsCreditCards': 'True'}</td>\n",
       "      <td>Shipping Centers, Local Services, Notaries, Ma...</td>\n",
       "      <td>{'Monday': '0:0-0:0', 'Tuesday': '8:0-18:30', ...</td>\n",
       "    </tr>\n",
       "    <tr>\n",
       "      <th>2</th>\n",
       "      <td>tUFrWirKiKi_TAnsVWINQQ</td>\n",
       "      <td>Target</td>\n",
       "      <td>5255 E Broadway Blvd</td>\n",
       "      <td>Tucson</td>\n",
       "      <td>AZ</td>\n",
       "      <td>85711</td>\n",
       "      <td>32.223236</td>\n",
       "      <td>-110.880452</td>\n",
       "      <td>3.5</td>\n",
       "      <td>22</td>\n",
       "      <td>0</td>\n",
       "      <td>{'BikeParking': 'True', 'BusinessAcceptsCredit...</td>\n",
       "      <td>Department Stores, Shopping, Fashion, Home &amp; G...</td>\n",
       "      <td>{'Monday': '8:0-22:0', 'Tuesday': '8:0-22:0', ...</td>\n",
       "    </tr>\n",
       "    <tr>\n",
       "      <th>3</th>\n",
       "      <td>MTSW4McQd7CbVtyjqoe9mw</td>\n",
       "      <td>St Honore Pastries</td>\n",
       "      <td>935 Race St</td>\n",
       "      <td>Philadelphia</td>\n",
       "      <td>PA</td>\n",
       "      <td>19107</td>\n",
       "      <td>39.955505</td>\n",
       "      <td>-75.155564</td>\n",
       "      <td>4.0</td>\n",
       "      <td>80</td>\n",
       "      <td>1</td>\n",
       "      <td>{'RestaurantsDelivery': 'False', 'OutdoorSeati...</td>\n",
       "      <td>Restaurants, Food, Bubble Tea, Coffee &amp; Tea, B...</td>\n",
       "      <td>{'Monday': '7:0-20:0', 'Tuesday': '7:0-20:0', ...</td>\n",
       "    </tr>\n",
       "    <tr>\n",
       "      <th>4</th>\n",
       "      <td>mWMc6_wTdE0EUBKIGXDVfA</td>\n",
       "      <td>Perkiomen Valley Brewery</td>\n",
       "      <td>101 Walnut St</td>\n",
       "      <td>Green Lane</td>\n",
       "      <td>PA</td>\n",
       "      <td>18054</td>\n",
       "      <td>40.338183</td>\n",
       "      <td>-75.471659</td>\n",
       "      <td>4.5</td>\n",
       "      <td>13</td>\n",
       "      <td>1</td>\n",
       "      <td>{'BusinessAcceptsCreditCards': 'True', 'Wheelc...</td>\n",
       "      <td>Brewpubs, Breweries, Food</td>\n",
       "      <td>{'Wednesday': '14:0-22:0', 'Thursday': '16:0-2...</td>\n",
       "    </tr>\n",
       "    <tr>\n",
       "      <th>...</th>\n",
       "      <td>...</td>\n",
       "      <td>...</td>\n",
       "      <td>...</td>\n",
       "      <td>...</td>\n",
       "      <td>...</td>\n",
       "      <td>...</td>\n",
       "      <td>...</td>\n",
       "      <td>...</td>\n",
       "      <td>...</td>\n",
       "      <td>...</td>\n",
       "      <td>...</td>\n",
       "      <td>...</td>\n",
       "      <td>...</td>\n",
       "      <td>...</td>\n",
       "    </tr>\n",
       "    <tr>\n",
       "      <th>49995</th>\n",
       "      <td>GAgosZDSlzC5WpGrb0ic4g</td>\n",
       "      <td>Perry Anthony Salon &amp; Spa</td>\n",
       "      <td>5331 Limestone Rd</td>\n",
       "      <td>Wilmington</td>\n",
       "      <td>DE</td>\n",
       "      <td>19808</td>\n",
       "      <td>39.746909</td>\n",
       "      <td>-75.698912</td>\n",
       "      <td>4.0</td>\n",
       "      <td>17</td>\n",
       "      <td>1</td>\n",
       "      <td>{'BusinessParking': '{'garage': False, 'street...</td>\n",
       "      <td>Beauty &amp; Spas, Hair Salons, Fitness &amp; Instruct...</td>\n",
       "      <td>{'Monday': '9:30-20:0', 'Tuesday': '9:30-20:0'...</td>\n",
       "    </tr>\n",
       "    <tr>\n",
       "      <th>49996</th>\n",
       "      <td>EUvjJe90Hxh6wznY9qEbsQ</td>\n",
       "      <td>Fantastic Sams Cut &amp; Color</td>\n",
       "      <td>3150 Tampa Rd</td>\n",
       "      <td>Oldsmar</td>\n",
       "      <td>FL</td>\n",
       "      <td>34677</td>\n",
       "      <td>28.049983</td>\n",
       "      <td>-82.698013</td>\n",
       "      <td>3.5</td>\n",
       "      <td>12</td>\n",
       "      <td>1</td>\n",
       "      <td>{'GoodForKids': 'True', 'BikeParking': 'False'...</td>\n",
       "      <td>Hair Salons, Beauty &amp; Spas, Hair Removal, Barbers</td>\n",
       "      <td>{'Monday': '9:0-19:0', 'Tuesday': '9:0-19:0', ...</td>\n",
       "    </tr>\n",
       "    <tr>\n",
       "      <th>49997</th>\n",
       "      <td>Wig7D8bw0nvsZ9mM6EGpSA</td>\n",
       "      <td>Sun Valley Express</td>\n",
       "      <td>6903 W Targee St</td>\n",
       "      <td>Boise</td>\n",
       "      <td>ID</td>\n",
       "      <td>83709</td>\n",
       "      <td>43.582506</td>\n",
       "      <td>-116.267858</td>\n",
       "      <td>3.0</td>\n",
       "      <td>8</td>\n",
       "      <td>1</td>\n",
       "      <td>{'WiFi': 'u'free''}</td>\n",
       "      <td>Public Transportation, Limos, Airport Shuttles...</td>\n",
       "      <td>{'Monday': '0:0-0:0', 'Tuesday': '8:0-15:30', ...</td>\n",
       "    </tr>\n",
       "    <tr>\n",
       "      <th>49998</th>\n",
       "      <td>_Hxa4-Dj0C4NqcJZ-J1_PA</td>\n",
       "      <td>Public Storage</td>\n",
       "      <td>6117 Charlotte Pike</td>\n",
       "      <td>Nashville</td>\n",
       "      <td>TN</td>\n",
       "      <td>37209</td>\n",
       "      <td>36.147023</td>\n",
       "      <td>-86.868538</td>\n",
       "      <td>4.0</td>\n",
       "      <td>8</td>\n",
       "      <td>1</td>\n",
       "      <td>{'BusinessAcceptsCreditCards': 'True'}</td>\n",
       "      <td>Self Storage, Local Services</td>\n",
       "      <td>{'Monday': '9:30-18:0', 'Tuesday': '9:30-18:0'...</td>\n",
       "    </tr>\n",
       "    <tr>\n",
       "      <th>49999</th>\n",
       "      <td>wKHS2tE5VMGiL6VWPAXESA</td>\n",
       "      <td>Goodland Jiu Jitsu</td>\n",
       "      <td>5140 Hollister Ave</td>\n",
       "      <td>Goleta</td>\n",
       "      <td>CA</td>\n",
       "      <td>93111</td>\n",
       "      <td>34.435834</td>\n",
       "      <td>-119.802921</td>\n",
       "      <td>4.5</td>\n",
       "      <td>8</td>\n",
       "      <td>1</td>\n",
       "      <td>{'GoodForKids': 'True', 'BusinessParking': '{'...</td>\n",
       "      <td>Brazilian Jiu-jitsu, Martial Arts, Active Life...</td>\n",
       "      <td>{'Monday': '6:30-20:0', 'Tuesday': '6:30-20:0'...</td>\n",
       "    </tr>\n",
       "  </tbody>\n",
       "</table>\n",
       "<p>50000 rows × 14 columns</p>\n",
       "</div>"
      ],
      "text/plain": [
       "                  business_id                        name  \\\n",
       "0      Pns2l4eNsfO8kk83dixA6A    Abby Rappoport, LAC, CMQ   \n",
       "1      mpf3x-BjTdTEA3yCZrAYPw               The UPS Store   \n",
       "2      tUFrWirKiKi_TAnsVWINQQ                      Target   \n",
       "3      MTSW4McQd7CbVtyjqoe9mw          St Honore Pastries   \n",
       "4      mWMc6_wTdE0EUBKIGXDVfA    Perkiomen Valley Brewery   \n",
       "...                       ...                         ...   \n",
       "49995  GAgosZDSlzC5WpGrb0ic4g   Perry Anthony Salon & Spa   \n",
       "49996  EUvjJe90Hxh6wznY9qEbsQ  Fantastic Sams Cut & Color   \n",
       "49997  Wig7D8bw0nvsZ9mM6EGpSA          Sun Valley Express   \n",
       "49998  _Hxa4-Dj0C4NqcJZ-J1_PA              Public Storage   \n",
       "49999  wKHS2tE5VMGiL6VWPAXESA          Goodland Jiu Jitsu   \n",
       "\n",
       "                               address           city state postal_code  \\\n",
       "0               1616 Chapala St, Ste 2  Santa Barbara    CA       93101   \n",
       "1      87 Grasso Plaza Shopping Center         Affton    MO       63123   \n",
       "2                 5255 E Broadway Blvd         Tucson    AZ       85711   \n",
       "3                          935 Race St   Philadelphia    PA       19107   \n",
       "4                        101 Walnut St     Green Lane    PA       18054   \n",
       "...                                ...            ...   ...         ...   \n",
       "49995                5331 Limestone Rd     Wilmington    DE       19808   \n",
       "49996                    3150 Tampa Rd        Oldsmar    FL       34677   \n",
       "49997                 6903 W Targee St          Boise    ID       83709   \n",
       "49998              6117 Charlotte Pike      Nashville    TN       37209   \n",
       "49999               5140 Hollister Ave         Goleta    CA       93111   \n",
       "\n",
       "        latitude   longitude  stars  review_count  is_open  \\\n",
       "0      34.426679 -119.711197    5.0             7        0   \n",
       "1      38.551126  -90.335695    3.0            15        1   \n",
       "2      32.223236 -110.880452    3.5            22        0   \n",
       "3      39.955505  -75.155564    4.0            80        1   \n",
       "4      40.338183  -75.471659    4.5            13        1   \n",
       "...          ...         ...    ...           ...      ...   \n",
       "49995  39.746909  -75.698912    4.0            17        1   \n",
       "49996  28.049983  -82.698013    3.5            12        1   \n",
       "49997  43.582506 -116.267858    3.0             8        1   \n",
       "49998  36.147023  -86.868538    4.0             8        1   \n",
       "49999  34.435834 -119.802921    4.5             8        1   \n",
       "\n",
       "                                              attributes  \\\n",
       "0                          {'ByAppointmentOnly': 'True'}   \n",
       "1                 {'BusinessAcceptsCreditCards': 'True'}   \n",
       "2      {'BikeParking': 'True', 'BusinessAcceptsCredit...   \n",
       "3      {'RestaurantsDelivery': 'False', 'OutdoorSeati...   \n",
       "4      {'BusinessAcceptsCreditCards': 'True', 'Wheelc...   \n",
       "...                                                  ...   \n",
       "49995  {'BusinessParking': '{'garage': False, 'street...   \n",
       "49996  {'GoodForKids': 'True', 'BikeParking': 'False'...   \n",
       "49997                                {'WiFi': 'u'free''}   \n",
       "49998             {'BusinessAcceptsCreditCards': 'True'}   \n",
       "49999  {'GoodForKids': 'True', 'BusinessParking': '{'...   \n",
       "\n",
       "                                              categories  \\\n",
       "0      Doctors, Traditional Chinese Medicine, Naturop...   \n",
       "1      Shipping Centers, Local Services, Notaries, Ma...   \n",
       "2      Department Stores, Shopping, Fashion, Home & G...   \n",
       "3      Restaurants, Food, Bubble Tea, Coffee & Tea, B...   \n",
       "4                              Brewpubs, Breweries, Food   \n",
       "...                                                  ...   \n",
       "49995  Beauty & Spas, Hair Salons, Fitness & Instruct...   \n",
       "49996  Hair Salons, Beauty & Spas, Hair Removal, Barbers   \n",
       "49997  Public Transportation, Limos, Airport Shuttles...   \n",
       "49998                       Self Storage, Local Services   \n",
       "49999  Brazilian Jiu-jitsu, Martial Arts, Active Life...   \n",
       "\n",
       "                                                   hours  \n",
       "0                                                   None  \n",
       "1      {'Monday': '0:0-0:0', 'Tuesday': '8:0-18:30', ...  \n",
       "2      {'Monday': '8:0-22:0', 'Tuesday': '8:0-22:0', ...  \n",
       "3      {'Monday': '7:0-20:0', 'Tuesday': '7:0-20:0', ...  \n",
       "4      {'Wednesday': '14:0-22:0', 'Thursday': '16:0-2...  \n",
       "...                                                  ...  \n",
       "49995  {'Monday': '9:30-20:0', 'Tuesday': '9:30-20:0'...  \n",
       "49996  {'Monday': '9:0-19:0', 'Tuesday': '9:0-19:0', ...  \n",
       "49997  {'Monday': '0:0-0:0', 'Tuesday': '8:0-15:30', ...  \n",
       "49998  {'Monday': '9:30-18:0', 'Tuesday': '9:30-18:0'...  \n",
       "49999  {'Monday': '6:30-20:0', 'Tuesday': '6:30-20:0'...  \n",
       "\n",
       "[50000 rows x 14 columns]"
      ]
     },
     "execution_count": 5,
     "metadata": {},
     "output_type": "execute_result"
    }
   ],
   "source": [
    "# Charge df_tip\n",
    "df_business = load_json('data/json/yelp_academic_dataset_business.json')\n",
    "df_business"
   ]
  },
  {
   "cell_type": "code",
   "execution_count": 6,
   "id": "89eb58b6-297c-42de-bf41-4d31e6cc942c",
   "metadata": {
    "execution": {
     "iopub.execute_input": "2023-05-07T20:22:31.694553Z",
     "iopub.status.busy": "2023-05-07T20:22:31.694330Z",
     "iopub.status.idle": "2023-05-07T20:22:33.955945Z",
     "shell.execute_reply": "2023-05-07T20:22:33.954821Z",
     "shell.execute_reply.started": "2023-05-07T20:22:31.694534Z"
    },
    "tags": []
   },
   "outputs": [
    {
     "data": {
      "text/html": [
       "<div>\n",
       "<style scoped>\n",
       "    .dataframe tbody tr th:only-of-type {\n",
       "        vertical-align: middle;\n",
       "    }\n",
       "\n",
       "    .dataframe tbody tr th {\n",
       "        vertical-align: top;\n",
       "    }\n",
       "\n",
       "    .dataframe thead th {\n",
       "        text-align: right;\n",
       "    }\n",
       "</style>\n",
       "<table border=\"1\" class=\"dataframe\">\n",
       "  <thead>\n",
       "    <tr style=\"text-align: right;\">\n",
       "      <th></th>\n",
       "      <th>business_id</th>\n",
       "      <th>date</th>\n",
       "    </tr>\n",
       "  </thead>\n",
       "  <tbody>\n",
       "    <tr>\n",
       "      <th>0</th>\n",
       "      <td>---kPU91CF4Lq2-WlRu9Lw</td>\n",
       "      <td>2020-03-13 21:10:56, 2020-06-02 22:18:06, 2020...</td>\n",
       "    </tr>\n",
       "    <tr>\n",
       "      <th>1</th>\n",
       "      <td>--0iUa4sNDFiZFrAdIWhZQ</td>\n",
       "      <td>2010-09-13 21:43:09, 2011-05-04 23:08:15, 2011...</td>\n",
       "    </tr>\n",
       "    <tr>\n",
       "      <th>2</th>\n",
       "      <td>--30_8IhuyMHbSOcNWd6DQ</td>\n",
       "      <td>2013-06-14 23:29:17, 2014-08-13 23:20:22</td>\n",
       "    </tr>\n",
       "    <tr>\n",
       "      <th>3</th>\n",
       "      <td>--7PUidqRWpRSpXebiyxTg</td>\n",
       "      <td>2011-02-15 17:12:00, 2011-07-28 02:46:10, 2012...</td>\n",
       "    </tr>\n",
       "    <tr>\n",
       "      <th>4</th>\n",
       "      <td>--7jw19RH9JKXgFohspgQw</td>\n",
       "      <td>2014-04-21 20:42:11, 2014-04-28 21:04:46, 2014...</td>\n",
       "    </tr>\n",
       "    <tr>\n",
       "      <th>...</th>\n",
       "      <td>...</td>\n",
       "      <td>...</td>\n",
       "    </tr>\n",
       "    <tr>\n",
       "      <th>49995</th>\n",
       "      <td>NJaR_2hke7NNAC6l1Ohr8g</td>\n",
       "      <td>2015-01-16 02:17:10, 2015-01-16 04:45:59, 2015...</td>\n",
       "    </tr>\n",
       "    <tr>\n",
       "      <th>49996</th>\n",
       "      <td>NJcoVbVwnYigsQVDOgl29Q</td>\n",
       "      <td>2013-07-27 23:05:38, 2013-08-10 22:42:26, 2013...</td>\n",
       "    </tr>\n",
       "    <tr>\n",
       "      <th>49997</th>\n",
       "      <td>NJe5fkia_63rdKXRdJlmkA</td>\n",
       "      <td>2018-12-08 02:43:45, 2018-12-09 23:34:42, 2018...</td>\n",
       "    </tr>\n",
       "    <tr>\n",
       "      <th>49998</th>\n",
       "      <td>NJg2ookzRGD2Ej-VNpuY-w</td>\n",
       "      <td>2010-11-02 23:09:05, 2010-11-05 14:10:24, 2011...</td>\n",
       "    </tr>\n",
       "    <tr>\n",
       "      <th>49999</th>\n",
       "      <td>NJhWEmpgMTo_QtndFqu3Hg</td>\n",
       "      <td>2018-04-03 01:12:08, 2018-04-11 00:48:20, 2018...</td>\n",
       "    </tr>\n",
       "  </tbody>\n",
       "</table>\n",
       "<p>50000 rows × 2 columns</p>\n",
       "</div>"
      ],
      "text/plain": [
       "                  business_id  \\\n",
       "0      ---kPU91CF4Lq2-WlRu9Lw   \n",
       "1      --0iUa4sNDFiZFrAdIWhZQ   \n",
       "2      --30_8IhuyMHbSOcNWd6DQ   \n",
       "3      --7PUidqRWpRSpXebiyxTg   \n",
       "4      --7jw19RH9JKXgFohspgQw   \n",
       "...                       ...   \n",
       "49995  NJaR_2hke7NNAC6l1Ohr8g   \n",
       "49996  NJcoVbVwnYigsQVDOgl29Q   \n",
       "49997  NJe5fkia_63rdKXRdJlmkA   \n",
       "49998  NJg2ookzRGD2Ej-VNpuY-w   \n",
       "49999  NJhWEmpgMTo_QtndFqu3Hg   \n",
       "\n",
       "                                                    date  \n",
       "0      2020-03-13 21:10:56, 2020-06-02 22:18:06, 2020...  \n",
       "1      2010-09-13 21:43:09, 2011-05-04 23:08:15, 2011...  \n",
       "2               2013-06-14 23:29:17, 2014-08-13 23:20:22  \n",
       "3      2011-02-15 17:12:00, 2011-07-28 02:46:10, 2012...  \n",
       "4      2014-04-21 20:42:11, 2014-04-28 21:04:46, 2014...  \n",
       "...                                                  ...  \n",
       "49995  2015-01-16 02:17:10, 2015-01-16 04:45:59, 2015...  \n",
       "49996  2013-07-27 23:05:38, 2013-08-10 22:42:26, 2013...  \n",
       "49997  2018-12-08 02:43:45, 2018-12-09 23:34:42, 2018...  \n",
       "49998  2010-11-02 23:09:05, 2010-11-05 14:10:24, 2011...  \n",
       "49999  2018-04-03 01:12:08, 2018-04-11 00:48:20, 2018...  \n",
       "\n",
       "[50000 rows x 2 columns]"
      ]
     },
     "execution_count": 6,
     "metadata": {},
     "output_type": "execute_result"
    }
   ],
   "source": [
    "# Charge df_checkin\n",
    "df_checkin = load_json('data/json/yelp_academic_dataset_checkin.json')\n",
    "df_checkin"
   ]
  },
  {
   "cell_type": "code",
   "execution_count": 7,
   "id": "798deb20-dbbf-48e1-b743-3f6ea3f45050",
   "metadata": {
    "execution": {
     "iopub.execute_input": "2023-05-07T20:22:33.957580Z",
     "iopub.status.busy": "2023-05-07T20:22:33.956961Z",
     "iopub.status.idle": "2023-05-07T20:22:35.180749Z",
     "shell.execute_reply": "2023-05-07T20:22:35.179881Z",
     "shell.execute_reply.started": "2023-05-07T20:22:33.957560Z"
    },
    "tags": []
   },
   "outputs": [
    {
     "data": {
      "text/html": [
       "<div>\n",
       "<style scoped>\n",
       "    .dataframe tbody tr th:only-of-type {\n",
       "        vertical-align: middle;\n",
       "    }\n",
       "\n",
       "    .dataframe tbody tr th {\n",
       "        vertical-align: top;\n",
       "    }\n",
       "\n",
       "    .dataframe thead th {\n",
       "        text-align: right;\n",
       "    }\n",
       "</style>\n",
       "<table border=\"1\" class=\"dataframe\">\n",
       "  <thead>\n",
       "    <tr style=\"text-align: right;\">\n",
       "      <th></th>\n",
       "      <th>review_id</th>\n",
       "      <th>user_id</th>\n",
       "      <th>business_id</th>\n",
       "      <th>stars</th>\n",
       "      <th>useful</th>\n",
       "      <th>funny</th>\n",
       "      <th>cool</th>\n",
       "      <th>text</th>\n",
       "      <th>date</th>\n",
       "    </tr>\n",
       "  </thead>\n",
       "  <tbody>\n",
       "    <tr>\n",
       "      <th>0</th>\n",
       "      <td>KU_O5udG6zpxOg-VcAEodg</td>\n",
       "      <td>mh_-eMZ6K5RLWhZyISBhwA</td>\n",
       "      <td>XQfwVwDr-v0ZS3_CbbE5Xw</td>\n",
       "      <td>3</td>\n",
       "      <td>0</td>\n",
       "      <td>0</td>\n",
       "      <td>0</td>\n",
       "      <td>If you decide to eat here, just be aware it is...</td>\n",
       "      <td>2018-07-07 22:09:11</td>\n",
       "    </tr>\n",
       "    <tr>\n",
       "      <th>1</th>\n",
       "      <td>BiTunyQ73aT9WBnpR9DZGw</td>\n",
       "      <td>OyoGAe7OKpv6SyGZT5g77Q</td>\n",
       "      <td>7ATYjTIgM3jUlt4UM3IypQ</td>\n",
       "      <td>5</td>\n",
       "      <td>1</td>\n",
       "      <td>0</td>\n",
       "      <td>1</td>\n",
       "      <td>I've taken a lot of spin classes over the year...</td>\n",
       "      <td>2012-01-03 15:28:18</td>\n",
       "    </tr>\n",
       "    <tr>\n",
       "      <th>2</th>\n",
       "      <td>saUsX_uimxRlCVr67Z4Jig</td>\n",
       "      <td>8g_iMtfSiwikVnbP2etR0A</td>\n",
       "      <td>YjUWPpI6HXG530lwP-fb2A</td>\n",
       "      <td>3</td>\n",
       "      <td>0</td>\n",
       "      <td>0</td>\n",
       "      <td>0</td>\n",
       "      <td>Family diner. Had the buffet. Eclectic assortm...</td>\n",
       "      <td>2014-02-05 20:30:30</td>\n",
       "    </tr>\n",
       "    <tr>\n",
       "      <th>3</th>\n",
       "      <td>AqPFMleE6RsU23_auESxiA</td>\n",
       "      <td>_7bHUi9Uuf5__HHc_Q8guQ</td>\n",
       "      <td>kxX2SOes4o-D3ZQBkiMRfA</td>\n",
       "      <td>5</td>\n",
       "      <td>1</td>\n",
       "      <td>0</td>\n",
       "      <td>1</td>\n",
       "      <td>Wow!  Yummy, different,  delicious.   Our favo...</td>\n",
       "      <td>2015-01-04 00:01:03</td>\n",
       "    </tr>\n",
       "    <tr>\n",
       "      <th>4</th>\n",
       "      <td>Sx8TMOWLNuJBWer-0pcmoA</td>\n",
       "      <td>bcjbaE6dDog4jkNY91ncLQ</td>\n",
       "      <td>e4Vwtrqf-wpJfwesgvdgxQ</td>\n",
       "      <td>4</td>\n",
       "      <td>1</td>\n",
       "      <td>0</td>\n",
       "      <td>1</td>\n",
       "      <td>Cute interior and owner (?) gave us tour of up...</td>\n",
       "      <td>2017-01-14 20:54:15</td>\n",
       "    </tr>\n",
       "    <tr>\n",
       "      <th>...</th>\n",
       "      <td>...</td>\n",
       "      <td>...</td>\n",
       "      <td>...</td>\n",
       "      <td>...</td>\n",
       "      <td>...</td>\n",
       "      <td>...</td>\n",
       "      <td>...</td>\n",
       "      <td>...</td>\n",
       "      <td>...</td>\n",
       "    </tr>\n",
       "    <tr>\n",
       "      <th>49995</th>\n",
       "      <td>V_bNx4GEH8ChNNA0GPMrOA</td>\n",
       "      <td>_-x9v81zddshIEwRirV7kQ</td>\n",
       "      <td>GBTPC53ZrG1ZBY3DT8Mbcw</td>\n",
       "      <td>4</td>\n",
       "      <td>0</td>\n",
       "      <td>0</td>\n",
       "      <td>0</td>\n",
       "      <td>Came here first for breakfast and had their yu...</td>\n",
       "      <td>2016-10-29 00:54:49</td>\n",
       "    </tr>\n",
       "    <tr>\n",
       "      <th>49996</th>\n",
       "      <td>5beIdB00qToFzllb4alZNQ</td>\n",
       "      <td>VEOTasfs8zYs7grZ4C5Xfw</td>\n",
       "      <td>EQ-TZ2eeD_E0BHuvoaeG5Q</td>\n",
       "      <td>2</td>\n",
       "      <td>0</td>\n",
       "      <td>0</td>\n",
       "      <td>0</td>\n",
       "      <td>Food was good. I had a decent breakfast but no...</td>\n",
       "      <td>2017-08-09 13:12:33</td>\n",
       "    </tr>\n",
       "    <tr>\n",
       "      <th>49997</th>\n",
       "      <td>rjFWnq1zQTRzCyqV0jzZHw</td>\n",
       "      <td>AT_p7NkLqd50ugp3wjFg2Q</td>\n",
       "      <td>_RFqyBgklIBqOAM-zzV_WQ</td>\n",
       "      <td>3</td>\n",
       "      <td>0</td>\n",
       "      <td>1</td>\n",
       "      <td>0</td>\n",
       "      <td>It's cool that Second Image is trying. They so...</td>\n",
       "      <td>2010-07-11 21:41:35</td>\n",
       "    </tr>\n",
       "    <tr>\n",
       "      <th>49998</th>\n",
       "      <td>8LRFPHiso_kuCseg5BJx8A</td>\n",
       "      <td>NSCNU_j0vSdeRMIme3H0rg</td>\n",
       "      <td>8agPzX-O-8LEDjDNloSdzQ</td>\n",
       "      <td>4</td>\n",
       "      <td>1</td>\n",
       "      <td>0</td>\n",
       "      <td>1</td>\n",
       "      <td>Best shrimp on the beach!  Steamed to order, d...</td>\n",
       "      <td>2017-04-09 23:23:56</td>\n",
       "    </tr>\n",
       "    <tr>\n",
       "      <th>49999</th>\n",
       "      <td>5C6u-caMG39RkvDuAYSVew</td>\n",
       "      <td>TnLZ2QkrO9WpzDLLORvJtQ</td>\n",
       "      <td>M0c99tzIJPIbrY_RAO7KSQ</td>\n",
       "      <td>4</td>\n",
       "      <td>0</td>\n",
       "      <td>0</td>\n",
       "      <td>0</td>\n",
       "      <td>The hotel is very nice and clean, and looks fa...</td>\n",
       "      <td>2016-08-06 02:17:10</td>\n",
       "    </tr>\n",
       "  </tbody>\n",
       "</table>\n",
       "<p>50000 rows × 9 columns</p>\n",
       "</div>"
      ],
      "text/plain": [
       "                    review_id                 user_id             business_id  \\\n",
       "0      KU_O5udG6zpxOg-VcAEodg  mh_-eMZ6K5RLWhZyISBhwA  XQfwVwDr-v0ZS3_CbbE5Xw   \n",
       "1      BiTunyQ73aT9WBnpR9DZGw  OyoGAe7OKpv6SyGZT5g77Q  7ATYjTIgM3jUlt4UM3IypQ   \n",
       "2      saUsX_uimxRlCVr67Z4Jig  8g_iMtfSiwikVnbP2etR0A  YjUWPpI6HXG530lwP-fb2A   \n",
       "3      AqPFMleE6RsU23_auESxiA  _7bHUi9Uuf5__HHc_Q8guQ  kxX2SOes4o-D3ZQBkiMRfA   \n",
       "4      Sx8TMOWLNuJBWer-0pcmoA  bcjbaE6dDog4jkNY91ncLQ  e4Vwtrqf-wpJfwesgvdgxQ   \n",
       "...                       ...                     ...                     ...   \n",
       "49995  V_bNx4GEH8ChNNA0GPMrOA  _-x9v81zddshIEwRirV7kQ  GBTPC53ZrG1ZBY3DT8Mbcw   \n",
       "49996  5beIdB00qToFzllb4alZNQ  VEOTasfs8zYs7grZ4C5Xfw  EQ-TZ2eeD_E0BHuvoaeG5Q   \n",
       "49997  rjFWnq1zQTRzCyqV0jzZHw  AT_p7NkLqd50ugp3wjFg2Q  _RFqyBgklIBqOAM-zzV_WQ   \n",
       "49998  8LRFPHiso_kuCseg5BJx8A  NSCNU_j0vSdeRMIme3H0rg  8agPzX-O-8LEDjDNloSdzQ   \n",
       "49999  5C6u-caMG39RkvDuAYSVew  TnLZ2QkrO9WpzDLLORvJtQ  M0c99tzIJPIbrY_RAO7KSQ   \n",
       "\n",
       "       stars  useful  funny  cool  \\\n",
       "0          3       0      0     0   \n",
       "1          5       1      0     1   \n",
       "2          3       0      0     0   \n",
       "3          5       1      0     1   \n",
       "4          4       1      0     1   \n",
       "...      ...     ...    ...   ...   \n",
       "49995      4       0      0     0   \n",
       "49996      2       0      0     0   \n",
       "49997      3       0      1     0   \n",
       "49998      4       1      0     1   \n",
       "49999      4       0      0     0   \n",
       "\n",
       "                                                    text                date  \n",
       "0      If you decide to eat here, just be aware it is... 2018-07-07 22:09:11  \n",
       "1      I've taken a lot of spin classes over the year... 2012-01-03 15:28:18  \n",
       "2      Family diner. Had the buffet. Eclectic assortm... 2014-02-05 20:30:30  \n",
       "3      Wow!  Yummy, different,  delicious.   Our favo... 2015-01-04 00:01:03  \n",
       "4      Cute interior and owner (?) gave us tour of up... 2017-01-14 20:54:15  \n",
       "...                                                  ...                 ...  \n",
       "49995  Came here first for breakfast and had their yu... 2016-10-29 00:54:49  \n",
       "49996  Food was good. I had a decent breakfast but no... 2017-08-09 13:12:33  \n",
       "49997  It's cool that Second Image is trying. They so... 2010-07-11 21:41:35  \n",
       "49998  Best shrimp on the beach!  Steamed to order, d... 2017-04-09 23:23:56  \n",
       "49999  The hotel is very nice and clean, and looks fa... 2016-08-06 02:17:10  \n",
       "\n",
       "[50000 rows x 9 columns]"
      ]
     },
     "execution_count": 7,
     "metadata": {},
     "output_type": "execute_result"
    }
   ],
   "source": [
    "# Charge df_review\n",
    "df_review = load_json('data/json/yelp_academic_dataset_review.json')\n",
    "df_review"
   ]
  },
  {
   "cell_type": "code",
   "execution_count": 8,
   "id": "162264ab-a068-45ae-839f-3e7718328e40",
   "metadata": {
    "execution": {
     "iopub.execute_input": "2023-05-07T20:22:35.182620Z",
     "iopub.status.busy": "2023-05-07T20:22:35.182197Z",
     "iopub.status.idle": "2023-05-07T20:22:35.674113Z",
     "shell.execute_reply": "2023-05-07T20:22:35.673269Z",
     "shell.execute_reply.started": "2023-05-07T20:22:35.182590Z"
    },
    "tags": []
   },
   "outputs": [
    {
     "data": {
      "text/html": [
       "<div>\n",
       "<style scoped>\n",
       "    .dataframe tbody tr th:only-of-type {\n",
       "        vertical-align: middle;\n",
       "    }\n",
       "\n",
       "    .dataframe tbody tr th {\n",
       "        vertical-align: top;\n",
       "    }\n",
       "\n",
       "    .dataframe thead th {\n",
       "        text-align: right;\n",
       "    }\n",
       "</style>\n",
       "<table border=\"1\" class=\"dataframe\">\n",
       "  <thead>\n",
       "    <tr style=\"text-align: right;\">\n",
       "      <th></th>\n",
       "      <th>user_id</th>\n",
       "      <th>business_id</th>\n",
       "      <th>text</th>\n",
       "      <th>date</th>\n",
       "      <th>compliment_count</th>\n",
       "    </tr>\n",
       "  </thead>\n",
       "  <tbody>\n",
       "    <tr>\n",
       "      <th>0</th>\n",
       "      <td>AGNUgVwnZUey3gcPCJ76iw</td>\n",
       "      <td>3uLgwr0qeCNMjKenHJwPGQ</td>\n",
       "      <td>Avengers time with the ladies.</td>\n",
       "      <td>2012-05-18 02:17:21</td>\n",
       "      <td>0</td>\n",
       "    </tr>\n",
       "    <tr>\n",
       "      <th>1</th>\n",
       "      <td>NBN4MgHP9D3cw--SnauTkA</td>\n",
       "      <td>QoezRbYQncpRqyrLH6Iqjg</td>\n",
       "      <td>They have lots of good deserts and tasty cuban...</td>\n",
       "      <td>2013-02-05 18:35:10</td>\n",
       "      <td>0</td>\n",
       "    </tr>\n",
       "    <tr>\n",
       "      <th>2</th>\n",
       "      <td>-copOvldyKh1qr-vzkDEvw</td>\n",
       "      <td>MYoRNLb5chwjQe3c_k37Gg</td>\n",
       "      <td>It's open even when you think it isn't</td>\n",
       "      <td>2013-08-18 00:56:08</td>\n",
       "      <td>0</td>\n",
       "    </tr>\n",
       "    <tr>\n",
       "      <th>3</th>\n",
       "      <td>FjMQVZjSqY8syIO-53KFKw</td>\n",
       "      <td>hV-bABTK-glh5wj31ps_Jw</td>\n",
       "      <td>Very decent fried chicken</td>\n",
       "      <td>2017-06-27 23:05:38</td>\n",
       "      <td>0</td>\n",
       "    </tr>\n",
       "    <tr>\n",
       "      <th>4</th>\n",
       "      <td>ld0AperBXk1h6UbqmM80zw</td>\n",
       "      <td>_uN0OudeJ3Zl_tf6nxg5ww</td>\n",
       "      <td>Appetizers.. platter special for lunch</td>\n",
       "      <td>2012-10-06 19:43:09</td>\n",
       "      <td>0</td>\n",
       "    </tr>\n",
       "    <tr>\n",
       "      <th>...</th>\n",
       "      <td>...</td>\n",
       "      <td>...</td>\n",
       "      <td>...</td>\n",
       "      <td>...</td>\n",
       "      <td>...</td>\n",
       "    </tr>\n",
       "    <tr>\n",
       "      <th>49995</th>\n",
       "      <td>OUD1t1__WFnaodS4y6o28g</td>\n",
       "      <td>Kup9m2JnUJrnnULc9zjDQQ</td>\n",
       "      <td>Chai smoothie is really good. All foods are bl...</td>\n",
       "      <td>2015-04-24 15:20:21</td>\n",
       "      <td>0</td>\n",
       "    </tr>\n",
       "    <tr>\n",
       "      <th>49996</th>\n",
       "      <td>VJFpYkhQye1VTXsJND9HHw</td>\n",
       "      <td>WE3D52UfHvvVdTHgzJ_1vw</td>\n",
       "      <td>Worst bar in America lol this place is terrible!</td>\n",
       "      <td>2016-12-25 05:54:41</td>\n",
       "      <td>0</td>\n",
       "    </tr>\n",
       "    <tr>\n",
       "      <th>49997</th>\n",
       "      <td>R53y0qIWqJZxnbyWNDbrMg</td>\n",
       "      <td>X6_5_b4gVKo83VPn0FyONw</td>\n",
       "      <td>Free \"upsize\" 8/14-8/16</td>\n",
       "      <td>2015-08-14 18:20:25</td>\n",
       "      <td>0</td>\n",
       "    </tr>\n",
       "    <tr>\n",
       "      <th>49998</th>\n",
       "      <td>7xQYlgl7YKX8RfbB5SdK_Q</td>\n",
       "      <td>Yb04s8ffQODSYWyNmrCjGw</td>\n",
       "      <td>Try the new organic pedicure for a treat!</td>\n",
       "      <td>2012-03-25 17:45:40</td>\n",
       "      <td>0</td>\n",
       "    </tr>\n",
       "    <tr>\n",
       "      <th>49999</th>\n",
       "      <td>JxA595MQSkNqzSfMXYWatw</td>\n",
       "      <td>z6qtUn2bSaTpFJ5lqy_1rw</td>\n",
       "      <td>Terrible bathroom. Neglected but beautifully d...</td>\n",
       "      <td>2012-03-18 06:16:49</td>\n",
       "      <td>0</td>\n",
       "    </tr>\n",
       "  </tbody>\n",
       "</table>\n",
       "<p>50000 rows × 5 columns</p>\n",
       "</div>"
      ],
      "text/plain": [
       "                      user_id             business_id  \\\n",
       "0      AGNUgVwnZUey3gcPCJ76iw  3uLgwr0qeCNMjKenHJwPGQ   \n",
       "1      NBN4MgHP9D3cw--SnauTkA  QoezRbYQncpRqyrLH6Iqjg   \n",
       "2      -copOvldyKh1qr-vzkDEvw  MYoRNLb5chwjQe3c_k37Gg   \n",
       "3      FjMQVZjSqY8syIO-53KFKw  hV-bABTK-glh5wj31ps_Jw   \n",
       "4      ld0AperBXk1h6UbqmM80zw  _uN0OudeJ3Zl_tf6nxg5ww   \n",
       "...                       ...                     ...   \n",
       "49995  OUD1t1__WFnaodS4y6o28g  Kup9m2JnUJrnnULc9zjDQQ   \n",
       "49996  VJFpYkhQye1VTXsJND9HHw  WE3D52UfHvvVdTHgzJ_1vw   \n",
       "49997  R53y0qIWqJZxnbyWNDbrMg  X6_5_b4gVKo83VPn0FyONw   \n",
       "49998  7xQYlgl7YKX8RfbB5SdK_Q  Yb04s8ffQODSYWyNmrCjGw   \n",
       "49999  JxA595MQSkNqzSfMXYWatw  z6qtUn2bSaTpFJ5lqy_1rw   \n",
       "\n",
       "                                                    text                date  \\\n",
       "0                         Avengers time with the ladies. 2012-05-18 02:17:21   \n",
       "1      They have lots of good deserts and tasty cuban... 2013-02-05 18:35:10   \n",
       "2                 It's open even when you think it isn't 2013-08-18 00:56:08   \n",
       "3                              Very decent fried chicken 2017-06-27 23:05:38   \n",
       "4                 Appetizers.. platter special for lunch 2012-10-06 19:43:09   \n",
       "...                                                  ...                 ...   \n",
       "49995  Chai smoothie is really good. All foods are bl... 2015-04-24 15:20:21   \n",
       "49996   Worst bar in America lol this place is terrible! 2016-12-25 05:54:41   \n",
       "49997                            Free \"upsize\" 8/14-8/16 2015-08-14 18:20:25   \n",
       "49998          Try the new organic pedicure for a treat! 2012-03-25 17:45:40   \n",
       "49999  Terrible bathroom. Neglected but beautifully d... 2012-03-18 06:16:49   \n",
       "\n",
       "       compliment_count  \n",
       "0                     0  \n",
       "1                     0  \n",
       "2                     0  \n",
       "3                     0  \n",
       "4                     0  \n",
       "...                 ...  \n",
       "49995                 0  \n",
       "49996                 0  \n",
       "49997                 0  \n",
       "49998                 0  \n",
       "49999                 0  \n",
       "\n",
       "[50000 rows x 5 columns]"
      ]
     },
     "execution_count": 8,
     "metadata": {},
     "output_type": "execute_result"
    }
   ],
   "source": [
    "# Charge df_tip\n",
    "df_tip = load_json('data/json/yelp_academic_dataset_tip.json')\n",
    "df_tip"
   ]
  },
  {
   "cell_type": "code",
   "execution_count": 9,
   "id": "65c8310d-2e8a-45c7-b790-a62f508c23e0",
   "metadata": {
    "execution": {
     "iopub.execute_input": "2023-05-07T20:22:35.675647Z",
     "iopub.status.busy": "2023-05-07T20:22:35.675252Z",
     "iopub.status.idle": "2023-05-07T20:22:40.145546Z",
     "shell.execute_reply": "2023-05-07T20:22:40.144838Z",
     "shell.execute_reply.started": "2023-05-07T20:22:35.675625Z"
    },
    "tags": []
   },
   "outputs": [
    {
     "data": {
      "text/html": [
       "<div>\n",
       "<style scoped>\n",
       "    .dataframe tbody tr th:only-of-type {\n",
       "        vertical-align: middle;\n",
       "    }\n",
       "\n",
       "    .dataframe tbody tr th {\n",
       "        vertical-align: top;\n",
       "    }\n",
       "\n",
       "    .dataframe thead th {\n",
       "        text-align: right;\n",
       "    }\n",
       "</style>\n",
       "<table border=\"1\" class=\"dataframe\">\n",
       "  <thead>\n",
       "    <tr style=\"text-align: right;\">\n",
       "      <th></th>\n",
       "      <th>user_id</th>\n",
       "      <th>name</th>\n",
       "      <th>review_count</th>\n",
       "      <th>yelping_since</th>\n",
       "      <th>useful</th>\n",
       "      <th>funny</th>\n",
       "      <th>cool</th>\n",
       "      <th>elite</th>\n",
       "      <th>friends</th>\n",
       "      <th>fans</th>\n",
       "      <th>...</th>\n",
       "      <th>compliment_more</th>\n",
       "      <th>compliment_profile</th>\n",
       "      <th>compliment_cute</th>\n",
       "      <th>compliment_list</th>\n",
       "      <th>compliment_note</th>\n",
       "      <th>compliment_plain</th>\n",
       "      <th>compliment_cool</th>\n",
       "      <th>compliment_funny</th>\n",
       "      <th>compliment_writer</th>\n",
       "      <th>compliment_photos</th>\n",
       "    </tr>\n",
       "  </thead>\n",
       "  <tbody>\n",
       "    <tr>\n",
       "      <th>0</th>\n",
       "      <td>qVc8ODYU5SZjKXVBgXdI7w</td>\n",
       "      <td>Walker</td>\n",
       "      <td>585</td>\n",
       "      <td>2007-01-25 16:47:26</td>\n",
       "      <td>7217</td>\n",
       "      <td>1259</td>\n",
       "      <td>5994</td>\n",
       "      <td>2007</td>\n",
       "      <td>NSCy54eWehBJyZdG2iE84w, pe42u7DcCH2QmI81NX-8qA...</td>\n",
       "      <td>267</td>\n",
       "      <td>...</td>\n",
       "      <td>65</td>\n",
       "      <td>55</td>\n",
       "      <td>56</td>\n",
       "      <td>18</td>\n",
       "      <td>232</td>\n",
       "      <td>844</td>\n",
       "      <td>467</td>\n",
       "      <td>467</td>\n",
       "      <td>239</td>\n",
       "      <td>180</td>\n",
       "    </tr>\n",
       "    <tr>\n",
       "      <th>1</th>\n",
       "      <td>j14WgRoU_-2ZE1aw1dXrJg</td>\n",
       "      <td>Daniel</td>\n",
       "      <td>4333</td>\n",
       "      <td>2009-01-25 04:35:42</td>\n",
       "      <td>43091</td>\n",
       "      <td>13066</td>\n",
       "      <td>27281</td>\n",
       "      <td>2009,2010,2011,2012,2013,2014,2015,2016,2017,2...</td>\n",
       "      <td>ueRPE0CX75ePGMqOFVj6IQ, 52oH4DrRvzzl8wh5UXyU0A...</td>\n",
       "      <td>3138</td>\n",
       "      <td>...</td>\n",
       "      <td>264</td>\n",
       "      <td>184</td>\n",
       "      <td>157</td>\n",
       "      <td>251</td>\n",
       "      <td>1847</td>\n",
       "      <td>7054</td>\n",
       "      <td>3131</td>\n",
       "      <td>3131</td>\n",
       "      <td>1521</td>\n",
       "      <td>1946</td>\n",
       "    </tr>\n",
       "    <tr>\n",
       "      <th>2</th>\n",
       "      <td>2WnXYQFK0hXEoTxPtV2zvg</td>\n",
       "      <td>Steph</td>\n",
       "      <td>665</td>\n",
       "      <td>2008-07-25 10:41:00</td>\n",
       "      <td>2086</td>\n",
       "      <td>1010</td>\n",
       "      <td>1003</td>\n",
       "      <td>2009,2010,2011,2012,2013</td>\n",
       "      <td>LuO3Bn4f3rlhyHIaNfTlnA, j9B4XdHUhDfTKVecyWQgyA...</td>\n",
       "      <td>52</td>\n",
       "      <td>...</td>\n",
       "      <td>13</td>\n",
       "      <td>10</td>\n",
       "      <td>17</td>\n",
       "      <td>3</td>\n",
       "      <td>66</td>\n",
       "      <td>96</td>\n",
       "      <td>119</td>\n",
       "      <td>119</td>\n",
       "      <td>35</td>\n",
       "      <td>18</td>\n",
       "    </tr>\n",
       "    <tr>\n",
       "      <th>3</th>\n",
       "      <td>SZDeASXq7o05mMNLshsdIA</td>\n",
       "      <td>Gwen</td>\n",
       "      <td>224</td>\n",
       "      <td>2005-11-29 04:38:33</td>\n",
       "      <td>512</td>\n",
       "      <td>330</td>\n",
       "      <td>299</td>\n",
       "      <td>2009,2010,2011</td>\n",
       "      <td>enx1vVPnfdNUdPho6PH_wg, 4wOcvMLtU6a9Lslggq74Vg...</td>\n",
       "      <td>28</td>\n",
       "      <td>...</td>\n",
       "      <td>4</td>\n",
       "      <td>1</td>\n",
       "      <td>6</td>\n",
       "      <td>2</td>\n",
       "      <td>12</td>\n",
       "      <td>16</td>\n",
       "      <td>26</td>\n",
       "      <td>26</td>\n",
       "      <td>10</td>\n",
       "      <td>9</td>\n",
       "    </tr>\n",
       "    <tr>\n",
       "      <th>4</th>\n",
       "      <td>hA5lMy-EnncsH4JoR-hFGQ</td>\n",
       "      <td>Karen</td>\n",
       "      <td>79</td>\n",
       "      <td>2007-01-05 19:40:59</td>\n",
       "      <td>29</td>\n",
       "      <td>15</td>\n",
       "      <td>7</td>\n",
       "      <td></td>\n",
       "      <td>PBK4q9KEEBHhFvSXCUirIw, 3FWPpM7KU1gXeOM_ZbYMbA...</td>\n",
       "      <td>1</td>\n",
       "      <td>...</td>\n",
       "      <td>1</td>\n",
       "      <td>0</td>\n",
       "      <td>0</td>\n",
       "      <td>0</td>\n",
       "      <td>1</td>\n",
       "      <td>1</td>\n",
       "      <td>0</td>\n",
       "      <td>0</td>\n",
       "      <td>0</td>\n",
       "      <td>0</td>\n",
       "    </tr>\n",
       "    <tr>\n",
       "      <th>...</th>\n",
       "      <td>...</td>\n",
       "      <td>...</td>\n",
       "      <td>...</td>\n",
       "      <td>...</td>\n",
       "      <td>...</td>\n",
       "      <td>...</td>\n",
       "      <td>...</td>\n",
       "      <td>...</td>\n",
       "      <td>...</td>\n",
       "      <td>...</td>\n",
       "      <td>...</td>\n",
       "      <td>...</td>\n",
       "      <td>...</td>\n",
       "      <td>...</td>\n",
       "      <td>...</td>\n",
       "      <td>...</td>\n",
       "      <td>...</td>\n",
       "      <td>...</td>\n",
       "      <td>...</td>\n",
       "      <td>...</td>\n",
       "      <td>...</td>\n",
       "    </tr>\n",
       "    <tr>\n",
       "      <th>49995</th>\n",
       "      <td>K_sPBSw9NXANtRDnzj3L3A</td>\n",
       "      <td>Melody</td>\n",
       "      <td>9</td>\n",
       "      <td>2015-08-04 18:57:30</td>\n",
       "      <td>25</td>\n",
       "      <td>6</td>\n",
       "      <td>19</td>\n",
       "      <td></td>\n",
       "      <td>7SqoEgw5E9VEG3S-ZqkFLw, ZqiYF-PJURHqMz-qacpbXg...</td>\n",
       "      <td>0</td>\n",
       "      <td>...</td>\n",
       "      <td>0</td>\n",
       "      <td>0</td>\n",
       "      <td>0</td>\n",
       "      <td>0</td>\n",
       "      <td>0</td>\n",
       "      <td>1</td>\n",
       "      <td>2</td>\n",
       "      <td>2</td>\n",
       "      <td>1</td>\n",
       "      <td>0</td>\n",
       "    </tr>\n",
       "    <tr>\n",
       "      <th>49996</th>\n",
       "      <td>a4m4ZwQu_0zsJhTrAHBsdA</td>\n",
       "      <td>Chris</td>\n",
       "      <td>428</td>\n",
       "      <td>2014-01-17 03:32:21</td>\n",
       "      <td>2609</td>\n",
       "      <td>758</td>\n",
       "      <td>1973</td>\n",
       "      <td>2017,2018,2019,20,20,2021</td>\n",
       "      <td>xGkFsFetNPw1ttCLBu4OKA, NHbBrBtAjNe_iymNa7R0UA...</td>\n",
       "      <td>75</td>\n",
       "      <td>...</td>\n",
       "      <td>10</td>\n",
       "      <td>3</td>\n",
       "      <td>0</td>\n",
       "      <td>0</td>\n",
       "      <td>78</td>\n",
       "      <td>124</td>\n",
       "      <td>106</td>\n",
       "      <td>106</td>\n",
       "      <td>93</td>\n",
       "      <td>34</td>\n",
       "    </tr>\n",
       "    <tr>\n",
       "      <th>49997</th>\n",
       "      <td>vnJyZJ2GGZkGYtGABHqRVg</td>\n",
       "      <td>Alyssa</td>\n",
       "      <td>16</td>\n",
       "      <td>2014-07-18 20:51:17</td>\n",
       "      <td>3</td>\n",
       "      <td>3</td>\n",
       "      <td>1</td>\n",
       "      <td></td>\n",
       "      <td>KRcKfzPyUlP4NbkNf4vgXg, MJxnyvRq4kpe96j_QZIHmQ...</td>\n",
       "      <td>1</td>\n",
       "      <td>...</td>\n",
       "      <td>0</td>\n",
       "      <td>0</td>\n",
       "      <td>0</td>\n",
       "      <td>0</td>\n",
       "      <td>0</td>\n",
       "      <td>0</td>\n",
       "      <td>0</td>\n",
       "      <td>0</td>\n",
       "      <td>0</td>\n",
       "      <td>2</td>\n",
       "    </tr>\n",
       "    <tr>\n",
       "      <th>49998</th>\n",
       "      <td>zhx48x_XOjJQBA0DMnPG2Q</td>\n",
       "      <td>Rasheen</td>\n",
       "      <td>91</td>\n",
       "      <td>2014-07-07 15:08:13</td>\n",
       "      <td>41</td>\n",
       "      <td>29</td>\n",
       "      <td>19</td>\n",
       "      <td></td>\n",
       "      <td>dGenjnbtpR0EaTWYmGJ5gw, WBAz3tyA7lXSppC8ctHO2Q...</td>\n",
       "      <td>2</td>\n",
       "      <td>...</td>\n",
       "      <td>0</td>\n",
       "      <td>0</td>\n",
       "      <td>0</td>\n",
       "      <td>0</td>\n",
       "      <td>0</td>\n",
       "      <td>2</td>\n",
       "      <td>0</td>\n",
       "      <td>0</td>\n",
       "      <td>1</td>\n",
       "      <td>0</td>\n",
       "    </tr>\n",
       "    <tr>\n",
       "      <th>49999</th>\n",
       "      <td>btSaJqMiUwMemMZ1AhCe3Q</td>\n",
       "      <td>Cameron</td>\n",
       "      <td>333</td>\n",
       "      <td>2012-08-02 01:10:16</td>\n",
       "      <td>491</td>\n",
       "      <td>158</td>\n",
       "      <td>231</td>\n",
       "      <td>2013,2014,2015,2016</td>\n",
       "      <td>wM5xJ61cPe9R-b73tYW6lw, ZRi5iXZW5qfKNem-Gk7coA...</td>\n",
       "      <td>14</td>\n",
       "      <td>...</td>\n",
       "      <td>3</td>\n",
       "      <td>2</td>\n",
       "      <td>1</td>\n",
       "      <td>0</td>\n",
       "      <td>17</td>\n",
       "      <td>15</td>\n",
       "      <td>12</td>\n",
       "      <td>12</td>\n",
       "      <td>12</td>\n",
       "      <td>2</td>\n",
       "    </tr>\n",
       "  </tbody>\n",
       "</table>\n",
       "<p>50000 rows × 22 columns</p>\n",
       "</div>"
      ],
      "text/plain": [
       "                      user_id     name  review_count        yelping_since  \\\n",
       "0      qVc8ODYU5SZjKXVBgXdI7w   Walker           585  2007-01-25 16:47:26   \n",
       "1      j14WgRoU_-2ZE1aw1dXrJg   Daniel          4333  2009-01-25 04:35:42   \n",
       "2      2WnXYQFK0hXEoTxPtV2zvg    Steph           665  2008-07-25 10:41:00   \n",
       "3      SZDeASXq7o05mMNLshsdIA     Gwen           224  2005-11-29 04:38:33   \n",
       "4      hA5lMy-EnncsH4JoR-hFGQ    Karen            79  2007-01-05 19:40:59   \n",
       "...                       ...      ...           ...                  ...   \n",
       "49995  K_sPBSw9NXANtRDnzj3L3A   Melody             9  2015-08-04 18:57:30   \n",
       "49996  a4m4ZwQu_0zsJhTrAHBsdA    Chris           428  2014-01-17 03:32:21   \n",
       "49997  vnJyZJ2GGZkGYtGABHqRVg   Alyssa            16  2014-07-18 20:51:17   \n",
       "49998  zhx48x_XOjJQBA0DMnPG2Q  Rasheen            91  2014-07-07 15:08:13   \n",
       "49999  btSaJqMiUwMemMZ1AhCe3Q  Cameron           333  2012-08-02 01:10:16   \n",
       "\n",
       "       useful  funny   cool  \\\n",
       "0        7217   1259   5994   \n",
       "1       43091  13066  27281   \n",
       "2        2086   1010   1003   \n",
       "3         512    330    299   \n",
       "4          29     15      7   \n",
       "...       ...    ...    ...   \n",
       "49995      25      6     19   \n",
       "49996    2609    758   1973   \n",
       "49997       3      3      1   \n",
       "49998      41     29     19   \n",
       "49999     491    158    231   \n",
       "\n",
       "                                                   elite  \\\n",
       "0                                                   2007   \n",
       "1      2009,2010,2011,2012,2013,2014,2015,2016,2017,2...   \n",
       "2                               2009,2010,2011,2012,2013   \n",
       "3                                         2009,2010,2011   \n",
       "4                                                          \n",
       "...                                                  ...   \n",
       "49995                                                      \n",
       "49996                          2017,2018,2019,20,20,2021   \n",
       "49997                                                      \n",
       "49998                                                      \n",
       "49999                                2013,2014,2015,2016   \n",
       "\n",
       "                                                 friends  fans  ...  \\\n",
       "0      NSCy54eWehBJyZdG2iE84w, pe42u7DcCH2QmI81NX-8qA...   267  ...   \n",
       "1      ueRPE0CX75ePGMqOFVj6IQ, 52oH4DrRvzzl8wh5UXyU0A...  3138  ...   \n",
       "2      LuO3Bn4f3rlhyHIaNfTlnA, j9B4XdHUhDfTKVecyWQgyA...    52  ...   \n",
       "3      enx1vVPnfdNUdPho6PH_wg, 4wOcvMLtU6a9Lslggq74Vg...    28  ...   \n",
       "4      PBK4q9KEEBHhFvSXCUirIw, 3FWPpM7KU1gXeOM_ZbYMbA...     1  ...   \n",
       "...                                                  ...   ...  ...   \n",
       "49995  7SqoEgw5E9VEG3S-ZqkFLw, ZqiYF-PJURHqMz-qacpbXg...     0  ...   \n",
       "49996  xGkFsFetNPw1ttCLBu4OKA, NHbBrBtAjNe_iymNa7R0UA...    75  ...   \n",
       "49997  KRcKfzPyUlP4NbkNf4vgXg, MJxnyvRq4kpe96j_QZIHmQ...     1  ...   \n",
       "49998  dGenjnbtpR0EaTWYmGJ5gw, WBAz3tyA7lXSppC8ctHO2Q...     2  ...   \n",
       "49999  wM5xJ61cPe9R-b73tYW6lw, ZRi5iXZW5qfKNem-Gk7coA...    14  ...   \n",
       "\n",
       "       compliment_more  compliment_profile  compliment_cute  compliment_list  \\\n",
       "0                   65                  55               56               18   \n",
       "1                  264                 184              157              251   \n",
       "2                   13                  10               17                3   \n",
       "3                    4                   1                6                2   \n",
       "4                    1                   0                0                0   \n",
       "...                ...                 ...              ...              ...   \n",
       "49995                0                   0                0                0   \n",
       "49996               10                   3                0                0   \n",
       "49997                0                   0                0                0   \n",
       "49998                0                   0                0                0   \n",
       "49999                3                   2                1                0   \n",
       "\n",
       "       compliment_note  compliment_plain  compliment_cool  compliment_funny  \\\n",
       "0                  232               844              467               467   \n",
       "1                 1847              7054             3131              3131   \n",
       "2                   66                96              119               119   \n",
       "3                   12                16               26                26   \n",
       "4                    1                 1                0                 0   \n",
       "...                ...               ...              ...               ...   \n",
       "49995                0                 1                2                 2   \n",
       "49996               78               124              106               106   \n",
       "49997                0                 0                0                 0   \n",
       "49998                0                 2                0                 0   \n",
       "49999               17                15               12                12   \n",
       "\n",
       "       compliment_writer  compliment_photos  \n",
       "0                    239                180  \n",
       "1                   1521               1946  \n",
       "2                     35                 18  \n",
       "3                     10                  9  \n",
       "4                      0                  0  \n",
       "...                  ...                ...  \n",
       "49995                  1                  0  \n",
       "49996                 93                 34  \n",
       "49997                  0                  2  \n",
       "49998                  1                  0  \n",
       "49999                 12                  2  \n",
       "\n",
       "[50000 rows x 22 columns]"
      ]
     },
     "execution_count": 9,
     "metadata": {},
     "output_type": "execute_result"
    }
   ],
   "source": [
    "# Charge df_user\n",
    "df_user = load_json('data/json/yelp_academic_dataset_user.json')\n",
    "df_user"
   ]
  },
  {
   "cell_type": "code",
   "execution_count": 10,
   "id": "3f2af26f-6fae-43a4-94f8-795b1e6d6238",
   "metadata": {
    "ExecuteTime": {
     "end_time": "2023-02-10T03:42:24.573057Z",
     "start_time": "2023-02-10T03:42:24.564059Z"
    },
    "colab": {
     "base_uri": "https://localhost:8080/"
    },
    "execution": {
     "iopub.execute_input": "2023-05-07T20:22:40.146966Z",
     "iopub.status.busy": "2023-05-07T20:22:40.146454Z",
     "iopub.status.idle": "2023-05-07T20:22:40.151084Z",
     "shell.execute_reply": "2023-05-07T20:22:40.150451Z",
     "shell.execute_reply.started": "2023-05-07T20:22:40.146951Z"
    },
    "id": "3f2af26f-6fae-43a4-94f8-795b1e6d6238",
    "outputId": "e86efde4-de7c-42da-8946-1e2738e91258",
    "tags": []
   },
   "outputs": [
    {
     "name": "stdout",
     "output_type": "stream",
     "text": [
      "Business: ['business_id', 'name', 'address', 'city', 'state', 'postal_code', 'latitude', 'longitude', 'stars', 'review_count', 'is_open', 'attributes', 'categories', 'hours']\n",
      "----------------------------------------\n",
      "Checkin: ['business_id', 'date']\n",
      "----------------------------------------\n",
      "Review: ['review_id', 'user_id', 'business_id', 'stars', 'useful', 'funny', 'cool', 'text', 'date']\n",
      "----------------------------------------\n",
      "Tip: ['user_id', 'business_id', 'text', 'date', 'compliment_count']\n",
      "----------------------------------------\n",
      "User: ['user_id', 'name', 'review_count', 'yelping_since', 'useful', 'funny', 'cool', 'elite', 'friends', 'fans', 'average_stars', 'compliment_hot', 'compliment_more', 'compliment_profile', 'compliment_cute', 'compliment_list', 'compliment_note', 'compliment_plain', 'compliment_cool', 'compliment_funny', 'compliment_writer', 'compliment_photos']\n"
     ]
    }
   ],
   "source": [
    "# Columnas de cada DF\n",
    "print(\"Business:\", df_business.columns.tolist())\n",
    "print(\"----------------------------------------\")\n",
    "print(\"Checkin:\", df_checkin.columns.tolist())\n",
    "print(\"----------------------------------------\")\n",
    "print(\"Review:\", df_review.columns.tolist())\n",
    "print(\"----------------------------------------\")\n",
    "print(\"Tip:\", df_tip.columns.tolist())\n",
    "print(\"----------------------------------------\")\n",
    "print(\"User:\", df_user.columns.tolist())"
   ]
  },
  {
   "cell_type": "markdown",
   "id": "e6668a01-3658-4ee9-9e3f-a7a682621488",
   "metadata": {
    "tags": []
   },
   "source": [
    "# **Perfilamiento y entendimiento de los datos**\n",
    "Obtendremos estadísticas descriptivas pertinentes y posteriormente ingresaremos el conjunto de datos a Pandas Profiling para obtener un reporte adecuado de correlación e interacción entre variables."
   ]
  },
  {
   "cell_type": "code",
   "execution_count": 11,
   "id": "3796a83b-0777-409b-954b-b19aed0ea3c0",
   "metadata": {
    "execution": {
     "iopub.execute_input": "2023-05-07T20:22:44.534295Z",
     "iopub.status.busy": "2023-05-07T20:22:44.533620Z",
     "iopub.status.idle": "2023-05-07T20:22:44.609515Z",
     "shell.execute_reply": "2023-05-07T20:22:44.608603Z",
     "shell.execute_reply.started": "2023-05-07T20:22:44.534268Z"
    },
    "tags": []
   },
   "outputs": [
    {
     "data": {
      "text/html": [
       "<div>\n",
       "<style scoped>\n",
       "    .dataframe tbody tr th:only-of-type {\n",
       "        vertical-align: middle;\n",
       "    }\n",
       "\n",
       "    .dataframe tbody tr th {\n",
       "        vertical-align: top;\n",
       "    }\n",
       "\n",
       "    .dataframe thead th {\n",
       "        text-align: right;\n",
       "    }\n",
       "</style>\n",
       "<table border=\"1\" class=\"dataframe\">\n",
       "  <thead>\n",
       "    <tr style=\"text-align: right;\">\n",
       "      <th></th>\n",
       "      <th>review_id</th>\n",
       "      <th>user_id</th>\n",
       "      <th>business_id</th>\n",
       "      <th>stars</th>\n",
       "      <th>useful</th>\n",
       "      <th>funny</th>\n",
       "      <th>cool</th>\n",
       "      <th>text</th>\n",
       "      <th>date</th>\n",
       "    </tr>\n",
       "  </thead>\n",
       "  <tbody>\n",
       "    <tr>\n",
       "      <th>6</th>\n",
       "      <td>6AxgBCNX_PNTOxmbRSwcKQ</td>\n",
       "      <td>r3zeYsv1XFBRA4dJpL78cw</td>\n",
       "      <td>gmjsEdUsKpj9Xxu6pdjH0g</td>\n",
       "      <td>5</td>\n",
       "      <td>0</td>\n",
       "      <td>2</td>\n",
       "      <td>0</td>\n",
       "      <td>Loved this tour! I grabbed a groupon and the p...</td>\n",
       "      <td>2015-01-03 23:21:18</td>\n",
       "    </tr>\n",
       "    <tr>\n",
       "      <th>10</th>\n",
       "      <td>rGQRf8UafX7OTlMNN19I8A</td>\n",
       "      <td>1WHRWwQmZOZDAhp2Qyny4g</td>\n",
       "      <td>uMvVYRgGNXf5boolA9HXTw</td>\n",
       "      <td>5</td>\n",
       "      <td>2</td>\n",
       "      <td>0</td>\n",
       "      <td>0</td>\n",
       "      <td>My experience with Shalimar was nothing but wo...</td>\n",
       "      <td>2015-06-21 14:48:06</td>\n",
       "    </tr>\n",
       "    <tr>\n",
       "      <th>13</th>\n",
       "      <td>8JFGBuHMoiNDyfcxuWNtrA</td>\n",
       "      <td>smOvOajNG0lS4Pq7d8g4JQ</td>\n",
       "      <td>RZtGWDLCAtuipwaZ-UfjmQ</td>\n",
       "      <td>4</td>\n",
       "      <td>0</td>\n",
       "      <td>0</td>\n",
       "      <td>0</td>\n",
       "      <td>Good food--loved the gnocchi with marinara\\nth...</td>\n",
       "      <td>2009-10-14 19:57:14</td>\n",
       "    </tr>\n",
       "    <tr>\n",
       "      <th>14</th>\n",
       "      <td>UBp0zWyH60Hmw6Fsasei7w</td>\n",
       "      <td>4Uh27DgGzsp6PqrH913giQ</td>\n",
       "      <td>otQS34_MymijPTdNBoBdCw</td>\n",
       "      <td>4</td>\n",
       "      <td>0</td>\n",
       "      <td>2</td>\n",
       "      <td>0</td>\n",
       "      <td>The bun makes the Sonoran Dog. It's like a snu...</td>\n",
       "      <td>2011-10-27 17:12:05</td>\n",
       "    </tr>\n",
       "    <tr>\n",
       "      <th>17</th>\n",
       "      <td>LnGZB0fjfgeVDVz5IHuEVA</td>\n",
       "      <td>j2wlzrntrbKwyOcOiB3l3w</td>\n",
       "      <td>rBdG_23USc7DletfZ11xGA</td>\n",
       "      <td>4</td>\n",
       "      <td>1</td>\n",
       "      <td>0</td>\n",
       "      <td>0</td>\n",
       "      <td>The hubby and I have been here on multiple occ...</td>\n",
       "      <td>2014-08-10 19:41:43</td>\n",
       "    </tr>\n",
       "    <tr>\n",
       "      <th>...</th>\n",
       "      <td>...</td>\n",
       "      <td>...</td>\n",
       "      <td>...</td>\n",
       "      <td>...</td>\n",
       "      <td>...</td>\n",
       "      <td>...</td>\n",
       "      <td>...</td>\n",
       "      <td>...</td>\n",
       "      <td>...</td>\n",
       "    </tr>\n",
       "    <tr>\n",
       "      <th>49981</th>\n",
       "      <td>ILor-aKEGUyqN7BfEhS_yQ</td>\n",
       "      <td>nNVzXH7zcL80i-eB1yAxBg</td>\n",
       "      <td>mY02hIpeZSVCaWObvvyECA</td>\n",
       "      <td>3</td>\n",
       "      <td>3</td>\n",
       "      <td>0</td>\n",
       "      <td>0</td>\n",
       "      <td>Went to The Good Pie before catching a show at...</td>\n",
       "      <td>2010-01-15 14:38:01</td>\n",
       "    </tr>\n",
       "    <tr>\n",
       "      <th>49988</th>\n",
       "      <td>aD3HuxyhH-_RwnhYq04gCA</td>\n",
       "      <td>Oo-Sim3XTQXb0oVHJJem8w</td>\n",
       "      <td>DGvkU7CkdBs6lNbncQmF3A</td>\n",
       "      <td>3</td>\n",
       "      <td>0</td>\n",
       "      <td>0</td>\n",
       "      <td>1</td>\n",
       "      <td>Very cool bar not too far from the train.  Goo...</td>\n",
       "      <td>2015-07-29 23:29:43</td>\n",
       "    </tr>\n",
       "    <tr>\n",
       "      <th>49992</th>\n",
       "      <td>E8tLAMXjqKTKjUm-0V8dFA</td>\n",
       "      <td>mNj4sfnrw4JWX3mWgjMx-A</td>\n",
       "      <td>8uF-bhJFgT4Tn6DTb27viA</td>\n",
       "      <td>5</td>\n",
       "      <td>1</td>\n",
       "      <td>0</td>\n",
       "      <td>1</td>\n",
       "      <td>Changed my conception of what a donut can be. ...</td>\n",
       "      <td>2016-06-02 01:27:42</td>\n",
       "    </tr>\n",
       "    <tr>\n",
       "      <th>49994</th>\n",
       "      <td>aTHV0rnfLWMVLLCzC1clyw</td>\n",
       "      <td>C8yFR7W6fcRT_FAyuItMJw</td>\n",
       "      <td>X5fWO9e82EICHXzzs6eQMg</td>\n",
       "      <td>2</td>\n",
       "      <td>15</td>\n",
       "      <td>0</td>\n",
       "      <td>0</td>\n",
       "      <td>I know I'm one of the few who seem to have had...</td>\n",
       "      <td>2012-01-07 04:01:18</td>\n",
       "    </tr>\n",
       "    <tr>\n",
       "      <th>49997</th>\n",
       "      <td>rjFWnq1zQTRzCyqV0jzZHw</td>\n",
       "      <td>AT_p7NkLqd50ugp3wjFg2Q</td>\n",
       "      <td>_RFqyBgklIBqOAM-zzV_WQ</td>\n",
       "      <td>3</td>\n",
       "      <td>0</td>\n",
       "      <td>1</td>\n",
       "      <td>0</td>\n",
       "      <td>It's cool that Second Image is trying. They so...</td>\n",
       "      <td>2010-07-11 21:41:35</td>\n",
       "    </tr>\n",
       "  </tbody>\n",
       "</table>\n",
       "<p>16537 rows × 9 columns</p>\n",
       "</div>"
      ],
      "text/plain": [
       "                    review_id                 user_id             business_id  \\\n",
       "6      6AxgBCNX_PNTOxmbRSwcKQ  r3zeYsv1XFBRA4dJpL78cw  gmjsEdUsKpj9Xxu6pdjH0g   \n",
       "10     rGQRf8UafX7OTlMNN19I8A  1WHRWwQmZOZDAhp2Qyny4g  uMvVYRgGNXf5boolA9HXTw   \n",
       "13     8JFGBuHMoiNDyfcxuWNtrA  smOvOajNG0lS4Pq7d8g4JQ  RZtGWDLCAtuipwaZ-UfjmQ   \n",
       "14     UBp0zWyH60Hmw6Fsasei7w  4Uh27DgGzsp6PqrH913giQ  otQS34_MymijPTdNBoBdCw   \n",
       "17     LnGZB0fjfgeVDVz5IHuEVA  j2wlzrntrbKwyOcOiB3l3w  rBdG_23USc7DletfZ11xGA   \n",
       "...                       ...                     ...                     ...   \n",
       "49981  ILor-aKEGUyqN7BfEhS_yQ  nNVzXH7zcL80i-eB1yAxBg  mY02hIpeZSVCaWObvvyECA   \n",
       "49988  aD3HuxyhH-_RwnhYq04gCA  Oo-Sim3XTQXb0oVHJJem8w  DGvkU7CkdBs6lNbncQmF3A   \n",
       "49992  E8tLAMXjqKTKjUm-0V8dFA  mNj4sfnrw4JWX3mWgjMx-A  8uF-bhJFgT4Tn6DTb27viA   \n",
       "49994  aTHV0rnfLWMVLLCzC1clyw  C8yFR7W6fcRT_FAyuItMJw  X5fWO9e82EICHXzzs6eQMg   \n",
       "49997  rjFWnq1zQTRzCyqV0jzZHw  AT_p7NkLqd50ugp3wjFg2Q  _RFqyBgklIBqOAM-zzV_WQ   \n",
       "\n",
       "       stars  useful  funny  cool  \\\n",
       "6          5       0      2     0   \n",
       "10         5       2      0     0   \n",
       "13         4       0      0     0   \n",
       "14         4       0      2     0   \n",
       "17         4       1      0     0   \n",
       "...      ...     ...    ...   ...   \n",
       "49981      3       3      0     0   \n",
       "49988      3       0      0     1   \n",
       "49992      5       1      0     1   \n",
       "49994      2      15      0     0   \n",
       "49997      3       0      1     0   \n",
       "\n",
       "                                                    text                date  \n",
       "6      Loved this tour! I grabbed a groupon and the p... 2015-01-03 23:21:18  \n",
       "10     My experience with Shalimar was nothing but wo... 2015-06-21 14:48:06  \n",
       "13     Good food--loved the gnocchi with marinara\\nth... 2009-10-14 19:57:14  \n",
       "14     The bun makes the Sonoran Dog. It's like a snu... 2011-10-27 17:12:05  \n",
       "17     The hubby and I have been here on multiple occ... 2014-08-10 19:41:43  \n",
       "...                                                  ...                 ...  \n",
       "49981  Went to The Good Pie before catching a show at... 2010-01-15 14:38:01  \n",
       "49988  Very cool bar not too far from the train.  Goo... 2015-07-29 23:29:43  \n",
       "49992  Changed my conception of what a donut can be. ... 2016-06-02 01:27:42  \n",
       "49994  I know I'm one of the few who seem to have had... 2012-01-07 04:01:18  \n",
       "49997  It's cool that Second Image is trying. They so... 2010-07-11 21:41:35  \n",
       "\n",
       "[16537 rows x 9 columns]"
      ]
     },
     "execution_count": 11,
     "metadata": {},
     "output_type": "execute_result"
    }
   ],
   "source": [
    "df_review_f = df_review[df_review['user_id'].isin(df_user['user_id']) & df_review['business_id'].isin(df_business['business_id'])]\n",
    "# df_review_f = df_review_f[(df_review_f['cool'] <= 1) & (df_review_f['funny'] <= 1) & (df_review_f['useful'] <= 1)]\n",
    "df_review_f"
   ]
  },
  {
   "cell_type": "code",
   "execution_count": 12,
   "id": "a6aa1c15-9d57-408b-9659-c65eaee3a8b2",
   "metadata": {
    "execution": {
     "iopub.execute_input": "2023-05-07T20:22:46.954441Z",
     "iopub.status.busy": "2023-05-07T20:22:46.953617Z",
     "iopub.status.idle": "2023-05-07T20:22:46.965944Z",
     "shell.execute_reply": "2023-05-07T20:22:46.965317Z",
     "shell.execute_reply.started": "2023-05-07T20:22:46.954400Z"
    },
    "tags": []
   },
   "outputs": [
    {
     "data": {
      "text/html": [
       "<div>\n",
       "<style scoped>\n",
       "    .dataframe tbody tr th:only-of-type {\n",
       "        vertical-align: middle;\n",
       "    }\n",
       "\n",
       "    .dataframe tbody tr th {\n",
       "        vertical-align: top;\n",
       "    }\n",
       "\n",
       "    .dataframe thead th {\n",
       "        text-align: right;\n",
       "    }\n",
       "</style>\n",
       "<table border=\"1\" class=\"dataframe\">\n",
       "  <thead>\n",
       "    <tr style=\"text-align: right;\">\n",
       "      <th></th>\n",
       "      <th>review_id</th>\n",
       "      <th>user_id</th>\n",
       "      <th>business_id</th>\n",
       "      <th>stars</th>\n",
       "      <th>useful</th>\n",
       "      <th>funny</th>\n",
       "      <th>cool</th>\n",
       "      <th>text</th>\n",
       "      <th>date</th>\n",
       "    </tr>\n",
       "  </thead>\n",
       "  <tbody>\n",
       "    <tr>\n",
       "      <th>14</th>\n",
       "      <td>UBp0zWyH60Hmw6Fsasei7w</td>\n",
       "      <td>4Uh27DgGzsp6PqrH913giQ</td>\n",
       "      <td>otQS34_MymijPTdNBoBdCw</td>\n",
       "      <td>4</td>\n",
       "      <td>0</td>\n",
       "      <td>2</td>\n",
       "      <td>0</td>\n",
       "      <td>The bun makes the Sonoran Dog. It's like a snu...</td>\n",
       "      <td>2011-10-27 17:12:05</td>\n",
       "    </tr>\n",
       "    <tr>\n",
       "      <th>4943</th>\n",
       "      <td>yNAmr9WPJjC05wTXiIap9A</td>\n",
       "      <td>4Uh27DgGzsp6PqrH913giQ</td>\n",
       "      <td>Y3ZCO17N1_T_Ms1JmswwzA</td>\n",
       "      <td>4</td>\n",
       "      <td>2</td>\n",
       "      <td>5</td>\n",
       "      <td>4</td>\n",
       "      <td>During my visit last week, I ate so many shrim...</td>\n",
       "      <td>2011-08-25 03:46:43</td>\n",
       "    </tr>\n",
       "  </tbody>\n",
       "</table>\n",
       "</div>"
      ],
      "text/plain": [
       "                   review_id                 user_id             business_id  \\\n",
       "14    UBp0zWyH60Hmw6Fsasei7w  4Uh27DgGzsp6PqrH913giQ  otQS34_MymijPTdNBoBdCw   \n",
       "4943  yNAmr9WPJjC05wTXiIap9A  4Uh27DgGzsp6PqrH913giQ  Y3ZCO17N1_T_Ms1JmswwzA   \n",
       "\n",
       "      stars  useful  funny  cool  \\\n",
       "14        4       0      2     0   \n",
       "4943      4       2      5     4   \n",
       "\n",
       "                                                   text                date  \n",
       "14    The bun makes the Sonoran Dog. It's like a snu... 2011-10-27 17:12:05  \n",
       "4943  During my visit last week, I ate so many shrim... 2011-08-25 03:46:43  "
      ]
     },
     "execution_count": 12,
     "metadata": {},
     "output_type": "execute_result"
    }
   ],
   "source": [
    "df_review_f[df_review_f[\"user_id\"] == \"4Uh27DgGzsp6PqrH913giQ\"]"
   ]
  },
  {
   "cell_type": "markdown",
   "id": "6f96bd1a-081b-48bc-ad7b-e55a3b5c7ea7",
   "metadata": {
    "execution": {
     "iopub.execute_input": "2023-02-24T19:14:30.432166Z",
     "iopub.status.busy": "2023-02-24T19:14:30.431043Z",
     "iopub.status.idle": "2023-02-24T19:14:30.464999Z",
     "shell.execute_reply": "2023-02-24T19:14:30.460485Z",
     "shell.execute_reply.started": "2023-02-24T19:14:30.432134Z"
    },
    "tags": []
   },
   "source": [
    "# **Creación de la base de datos SQLite3**\n",
    "Creamos una base de datos SQLite3, con base en los DF's generados."
   ]
  },
  {
   "cell_type": "code",
   "execution_count": null,
   "id": "61fd1734-2f22-4a6e-97f1-32401dad1dba",
   "metadata": {
    "execution": {
     "iopub.status.busy": "2023-03-07T04:27:32.828088Z",
     "iopub.status.idle": "2023-03-07T04:27:32.828472Z",
     "shell.execute_reply": "2023-03-07T04:27:32.828320Z",
     "shell.execute_reply.started": "2023-03-07T04:27:32.828302Z"
    },
    "tags": []
   },
   "outputs": [],
   "source": [
    "# # Connect to the SQLite3 database\n",
    "# conn = sqlite3.connect('../backend/data/data.db')\n",
    "\n",
    "# # Create a cursor object\n",
    "# cur = conn.cursor()\n",
    "\n",
    "# # Create a new table in the database\n",
    "# cur.execute('CREATE TABLE IF NOT EXISTS user (user_id PRIMARY KEY, gender TEXT, age INTEGER, country TEXT, registered TIMESTAMP, password_hash TEXT)')\n",
    "\n",
    "# for index, row in df_users.iterrows():\n",
    "#     cur.execute('INSERT INTO user (user_id, gender, age, country, registered, password_hash) VALUES (?, ?, ?, ?, ?, ?)', \n",
    "#                 (row['user_id'] , row['gender'], row['age'], row['country'], row['registered'], row['password_hash']))\n",
    "\n",
    "# # Commit the changes and close the database connection\n",
    "# conn.commit()\n",
    "# cur.close()\n",
    "# conn.close()"
   ]
  },
  {
   "cell_type": "code",
   "execution_count": 20,
   "id": "78ec5098",
   "metadata": {
    "execution": {
     "iopub.execute_input": "2023-03-15T20:17:11.490185Z",
     "iopub.status.busy": "2023-03-15T20:17:11.489473Z",
     "iopub.status.idle": "2023-03-15T20:20:46.509885Z",
     "shell.execute_reply": "2023-03-15T20:20:46.508777Z",
     "shell.execute_reply.started": "2023-03-15T20:17:11.490161Z"
    },
    "tags": []
   },
   "outputs": [],
   "source": [
    "# # Connect to the SQLite3 database\n",
    "# conn = sqlite3.connect('../backend/data/data.db')\n",
    "\n",
    "# # Create a cursor object\n",
    "# cur = conn.cursor()\n",
    "\n",
    "# # Create a new table in the database\n",
    "# cur.execute('CREATE TABLE IF NOT EXISTS user_track_artist (id INTEGER PRIMARY KEY, user_id TEXT, track_name TEXT, artist_name TEXT, track_artist TEXT, reproductions INTEGER, rating INTEGER)')\n",
    "\n",
    "# for index, row in df_UT.iterrows():\n",
    "#     cur.execute('INSERT INTO user_track_artist (id, user_id, track_name, artist_name, track_artist, reproductions, rating) VALUES (?, ?, ?, ?, ?, ?, ?)', \n",
    "#                 (index, row['user_id'], row['track_name'], row['artist_name'], row['track_artist'], row['reproductions'], row['rating']))\n",
    "\n",
    "# # Commit the changes and close the database connection\n",
    "# conn.commit()\n",
    "# cur.close()\n",
    "# conn.close()"
   ]
  },
  {
   "cell_type": "markdown",
   "id": "82762407-3805-4810-a722-9ba6104e1779",
   "metadata": {
    "id": "kOd-SiVhLd_x",
    "jp-MarkdownHeadingCollapsed": true,
    "tags": []
   },
   "source": [
    "# **Creación de modelo de filtrado colaborativo basado en similitud con usuarios o items cercanos**\n",
    "\n",
    "Surprise cuenta con la implementación de los modelos colaborativos dentro de la clase [KNNBasic] (https://surprise.readthedocs.io/en/stable/knn_inspired.html)  \n",
    "\n",
    "El modelo recibe los siguientes parámetros: \n",
    "\n",
    "\n",
    "*   k: El máximo número de vecinos con el que se hará la extrapolación\n",
    "*   min_k : El mínimo número de vecinos con el que se extrapolará un rating\n",
    "*   sim_options : Opciones de similitud pasadas como un diccionario de python, aqui se le configura al modelo el tipo de similitud a usar para encontrar los vecinos y si la extrapolación debe hacerse usando usuarios o items similares. Revise el formato y similitudes disponibles en surprise en [este link](https://surprise.readthedocs.io/en/stable/prediction_algorithms.html#similarity-measure-configuration)\n",
    "\n",
    "\n",
    "\n"
   ]
  },
  {
   "cell_type": "code",
   "execution_count": 53,
   "id": "1cd11cc8-625a-4f06-aca7-b00d98783ce5",
   "metadata": {
    "execution": {
     "iopub.execute_input": "2023-05-07T18:46:22.316398Z",
     "iopub.status.busy": "2023-05-07T18:46:22.315562Z",
     "iopub.status.idle": "2023-05-07T18:46:34.321299Z",
     "shell.execute_reply": "2023-05-07T18:46:34.320523Z",
     "shell.execute_reply.started": "2023-05-07T18:46:22.316375Z"
    },
    "tags": []
   },
   "outputs": [],
   "source": [
    "from surprise import SVD\n",
    "from surprise import KNNWithMeans\n",
    "from surprise import Dataset\n",
    "from surprise import Reader\n",
    "from surprise.model_selection import train_test_split\n",
    "from surprise import accuracy\n",
    "from surprise import PredictionImpossible\n",
    "from collections import defaultdict\n",
    "\n",
    "df_reviews = df_review_f\n",
    "\n",
    "# Cargar datos de las reviews\n",
    "reader = Reader(rating_scale=(1, 5))\n",
    "data = Dataset.load_from_df(df_reviews[['user_id', 'business_id', 'stars']], reader)\n",
    "\n",
    "# Paso 3: Dividir los datos en conjuntos de entrenamiento y prueba\n",
    "trainset, testset = train_test_split(data, test_size=0.20)"
   ]
  },
  {
   "cell_type": "code",
   "execution_count": null,
   "id": "a5f3e008-a351-4381-b65b-02c86caa1bde",
   "metadata": {},
   "outputs": [],
   "source": [
    "# Paso 4: Crear el modelo de filtrado colaborativo por factorización y ajustarlo al conjunto de entrenamiento\n",
    "algo_svd = SVD()\n",
    "algo_svd.fit(trainset)\n",
    "\n",
    "# Paso 5: Crear el modelo de recomendación sensible al contexto y ajustarlo al conjunto de entrenamiento\n",
    "sim_options = {'name': 'cosine', 'user_based': False}\n",
    "algo_knn = KNNWithMeans(sim_options=sim_options)\n",
    "algo_knn.fit(trainset)"
   ]
  },
  {
   "cell_type": "code",
   "execution_count": null,
   "id": "b3b0acb1-4d0d-406a-97ed-61c67a542598",
   "metadata": {},
   "outputs": [],
   "source": [
    "# Paso 6: Hacer predicciones en el conjunto de prueba utilizando ambos modelos\n",
    "predictions_svd = algo_svd.test(testset)\n",
    "predictions_knn = algo_knn.test(testset)"
   ]
  },
  {
   "cell_type": "code",
   "execution_count": null,
   "id": "bc950cc7-e9b0-4710-af31-d87f359f1db6",
   "metadata": {},
   "outputs": [],
   "source": [
    "# Paso 7: Mezclar las predicciones de ambos modelos con los pesos correspondientes para crear la recomendación final\n",
    "hybrid_predictions = []\n",
    "for prediction_svd, prediction_knn in zip(predictions_svd, predictions_knn):\n",
    "    uid = prediction_svd.uid\n",
    "    iid = prediction_svd.iid\n",
    "    true_rating = prediction_svd.r_ui\n",
    "    svd_rating = prediction_svd.est\n",
    "    knn_rating = prediction_knn.est\n",
    "    hybrid_rating = 0.5 * svd_rating + 0.5 * knn_rating\n",
    "    prediction = Prediction(uid=uid, iid=iid, r_ui=true_rating, est=hybrid_rating)\n",
    "    hybrid_predictions.append(prediction)\n",
    "\n",
    "hybrid_predictions"
   ]
  },
  {
   "cell_type": "code",
   "execution_count": null,
   "id": "8a4a837f-e48c-4796-948b-06e4130acf26",
   "metadata": {},
   "outputs": [],
   "source": [
    "# Calcular el RMSE del modelo híbrido\n",
    "accuracy.rmse(hybrid_predictions)"
   ]
  },
  {
   "cell_type": "code",
   "execution_count": 54,
   "id": "69eb1bd8-5b03-4cfc-b758-ec5f7a1d9ed7",
   "metadata": {
    "execution": {
     "iopub.execute_input": "2023-05-07T19:24:18.589702Z",
     "iopub.status.busy": "2023-05-07T19:24:18.584395Z",
     "iopub.status.idle": "2023-05-07T19:24:25.126727Z",
     "shell.execute_reply": "2023-05-07T19:24:25.125226Z",
     "shell.execute_reply.started": "2023-05-07T19:24:18.589559Z"
    },
    "tags": []
   },
   "outputs": [
    {
     "name": "stdout",
     "output_type": "stream",
     "text": [
      "Dataset ml-100k could not be found. Do you want to download it? [Y/n] "
     ]
    },
    {
     "name": "stdin",
     "output_type": "stream",
     "text": [
      " y\n"
     ]
    },
    {
     "name": "stdout",
     "output_type": "stream",
     "text": [
      "Trying to download dataset from https://files.grouplens.org/datasets/movielens/ml-100k.zip...\n",
      "Done! Dataset ml-100k has been saved to /root/.surprise_data/ml-100k\n"
     ]
    },
    {
     "ename": "TypeError",
     "evalue": "'SVD' object is not callable",
     "output_type": "error",
     "traceback": [
      "\u001b[0;31m---------------------------------------------------------------------------\u001b[0m",
      "\u001b[0;31mEmpty\u001b[0m                                     Traceback (most recent call last)",
      "File \u001b[0;32m~/miniconda3/envs/rapids-22.12/lib/python3.9/site-packages/joblib/parallel.py:862\u001b[0m, in \u001b[0;36mParallel.dispatch_one_batch\u001b[0;34m(self, iterator)\u001b[0m\n\u001b[1;32m    861\u001b[0m \u001b[38;5;28;01mtry\u001b[39;00m:\n\u001b[0;32m--> 862\u001b[0m     tasks \u001b[38;5;241m=\u001b[39m \u001b[38;5;28;43mself\u001b[39;49m\u001b[38;5;241;43m.\u001b[39;49m\u001b[43m_ready_batches\u001b[49m\u001b[38;5;241;43m.\u001b[39;49m\u001b[43mget\u001b[49m\u001b[43m(\u001b[49m\u001b[43mblock\u001b[49m\u001b[38;5;241;43m=\u001b[39;49m\u001b[38;5;28;43;01mFalse\u001b[39;49;00m\u001b[43m)\u001b[49m\n\u001b[1;32m    863\u001b[0m \u001b[38;5;28;01mexcept\u001b[39;00m queue\u001b[38;5;241m.\u001b[39mEmpty:\n\u001b[1;32m    864\u001b[0m     \u001b[38;5;66;03m# slice the iterator n_jobs * batchsize items at a time. If the\u001b[39;00m\n\u001b[1;32m    865\u001b[0m     \u001b[38;5;66;03m# slice returns less than that, then the current batchsize puts\u001b[39;00m\n\u001b[0;32m   (...)\u001b[0m\n\u001b[1;32m    868\u001b[0m     \u001b[38;5;66;03m# accordingly to distribute evenly the last items between all\u001b[39;00m\n\u001b[1;32m    869\u001b[0m     \u001b[38;5;66;03m# workers.\u001b[39;00m\n",
      "File \u001b[0;32m~/miniconda3/envs/rapids-22.12/lib/python3.9/queue.py:168\u001b[0m, in \u001b[0;36mQueue.get\u001b[0;34m(self, block, timeout)\u001b[0m\n\u001b[1;32m    167\u001b[0m     \u001b[38;5;28;01mif\u001b[39;00m \u001b[38;5;129;01mnot\u001b[39;00m \u001b[38;5;28mself\u001b[39m\u001b[38;5;241m.\u001b[39m_qsize():\n\u001b[0;32m--> 168\u001b[0m         \u001b[38;5;28;01mraise\u001b[39;00m Empty\n\u001b[1;32m    169\u001b[0m \u001b[38;5;28;01melif\u001b[39;00m timeout \u001b[38;5;129;01mis\u001b[39;00m \u001b[38;5;28;01mNone\u001b[39;00m:\n",
      "\u001b[0;31mEmpty\u001b[0m: ",
      "\nDuring handling of the above exception, another exception occurred:\n",
      "\u001b[0;31mTypeError\u001b[0m                                 Traceback (most recent call last)",
      "Cell \u001b[0;32mIn[54], line 23\u001b[0m\n\u001b[1;32m     21\u001b[0m \u001b[38;5;66;03m# Perform grid search\u001b[39;00m\n\u001b[1;32m     22\u001b[0m gs \u001b[38;5;241m=\u001b[39m GridSearchCV(model, param_grid, measures\u001b[38;5;241m=\u001b[39m[\u001b[38;5;124m'\u001b[39m\u001b[38;5;124mrmse\u001b[39m\u001b[38;5;124m'\u001b[39m, \u001b[38;5;124m'\u001b[39m\u001b[38;5;124mmae\u001b[39m\u001b[38;5;124m'\u001b[39m], cv\u001b[38;5;241m=\u001b[39m\u001b[38;5;241m3\u001b[39m)\n\u001b[0;32m---> 23\u001b[0m \u001b[43mgs\u001b[49m\u001b[38;5;241;43m.\u001b[39;49m\u001b[43mfit\u001b[49m\u001b[43m(\u001b[49m\u001b[43mdata\u001b[49m\u001b[43m)\u001b[49m\n\u001b[1;32m     25\u001b[0m \u001b[38;5;66;03m# Get the best model from grid search\u001b[39;00m\n\u001b[1;32m     26\u001b[0m best_model \u001b[38;5;241m=\u001b[39m gs\u001b[38;5;241m.\u001b[39mbest_estimator[\u001b[38;5;124m'\u001b[39m\u001b[38;5;124mrmse\u001b[39m\u001b[38;5;124m'\u001b[39m]\n",
      "File \u001b[0;32m~/miniconda3/envs/rapids-22.12/lib/python3.9/site-packages/surprise/model_selection/search.py:104\u001b[0m, in \u001b[0;36mBaseSearchCV.fit\u001b[0;34m(self, data)\u001b[0m\n\u001b[1;32m     90\u001b[0m cv \u001b[38;5;241m=\u001b[39m get_cv(\u001b[38;5;28mself\u001b[39m\u001b[38;5;241m.\u001b[39mcv)\n\u001b[1;32m     92\u001b[0m delayed_list \u001b[38;5;241m=\u001b[39m (\n\u001b[1;32m     93\u001b[0m     delayed(fit_and_score)(\n\u001b[1;32m     94\u001b[0m         \u001b[38;5;28mself\u001b[39m\u001b[38;5;241m.\u001b[39malgo_class(\u001b[38;5;241m*\u001b[39m\u001b[38;5;241m*\u001b[39mparams),\n\u001b[0;32m   (...)\u001b[0m\n\u001b[1;32m    102\u001b[0m     )\n\u001b[1;32m    103\u001b[0m )\n\u001b[0;32m--> 104\u001b[0m out \u001b[38;5;241m=\u001b[39m \u001b[43mParallel\u001b[49m\u001b[43m(\u001b[49m\n\u001b[1;32m    105\u001b[0m \u001b[43m    \u001b[49m\u001b[43mn_jobs\u001b[49m\u001b[38;5;241;43m=\u001b[39;49m\u001b[38;5;28;43mself\u001b[39;49m\u001b[38;5;241;43m.\u001b[39;49m\u001b[43mn_jobs\u001b[49m\u001b[43m,\u001b[49m\n\u001b[1;32m    106\u001b[0m \u001b[43m    \u001b[49m\u001b[43mpre_dispatch\u001b[49m\u001b[38;5;241;43m=\u001b[39;49m\u001b[38;5;28;43mself\u001b[39;49m\u001b[38;5;241;43m.\u001b[39;49m\u001b[43mpre_dispatch\u001b[49m\u001b[43m,\u001b[49m\n\u001b[1;32m    107\u001b[0m \u001b[43m    \u001b[49m\u001b[43mverbose\u001b[49m\u001b[38;5;241;43m=\u001b[39;49m\u001b[38;5;28;43mself\u001b[39;49m\u001b[38;5;241;43m.\u001b[39;49m\u001b[43mjoblib_verbose\u001b[49m\u001b[43m,\u001b[49m\n\u001b[1;32m    108\u001b[0m \u001b[43m\u001b[49m\u001b[43m)\u001b[49m\u001b[43m(\u001b[49m\u001b[43mdelayed_list\u001b[49m\u001b[43m)\u001b[49m\n\u001b[1;32m    110\u001b[0m (test_measures_dicts, train_measures_dicts, fit_times, test_times) \u001b[38;5;241m=\u001b[39m \u001b[38;5;28mzip\u001b[39m(\u001b[38;5;241m*\u001b[39mout)\n\u001b[1;32m    112\u001b[0m \u001b[38;5;66;03m# test_measures_dicts is a list of dict like this:\u001b[39;00m\n\u001b[1;32m    113\u001b[0m \u001b[38;5;66;03m# [{'mae': 1, 'rmse': 2}, {'mae': 2, 'rmse': 3} ...]\u001b[39;00m\n\u001b[1;32m    114\u001b[0m \u001b[38;5;66;03m# E.g. for 5 splits, the first 5 dicts are for the first param\u001b[39;00m\n\u001b[0;32m   (...)\u001b[0m\n\u001b[1;32m    121\u001b[0m \u001b[38;5;66;03m# (n_parameters_combinations, n_splits). This way we can easily compute\u001b[39;00m\n\u001b[1;32m    122\u001b[0m \u001b[38;5;66;03m# the mean and std dev over all splits or over all param comb.\u001b[39;00m\n",
      "File \u001b[0;32m~/miniconda3/envs/rapids-22.12/lib/python3.9/site-packages/joblib/parallel.py:1085\u001b[0m, in \u001b[0;36mParallel.__call__\u001b[0;34m(self, iterable)\u001b[0m\n\u001b[1;32m   1076\u001b[0m \u001b[38;5;28;01mtry\u001b[39;00m:\n\u001b[1;32m   1077\u001b[0m     \u001b[38;5;66;03m# Only set self._iterating to True if at least a batch\u001b[39;00m\n\u001b[1;32m   1078\u001b[0m     \u001b[38;5;66;03m# was dispatched. In particular this covers the edge\u001b[39;00m\n\u001b[0;32m   (...)\u001b[0m\n\u001b[1;32m   1082\u001b[0m     \u001b[38;5;66;03m# was very quick and its callback already dispatched all the\u001b[39;00m\n\u001b[1;32m   1083\u001b[0m     \u001b[38;5;66;03m# remaining jobs.\u001b[39;00m\n\u001b[1;32m   1084\u001b[0m     \u001b[38;5;28mself\u001b[39m\u001b[38;5;241m.\u001b[39m_iterating \u001b[38;5;241m=\u001b[39m \u001b[38;5;28;01mFalse\u001b[39;00m\n\u001b[0;32m-> 1085\u001b[0m     \u001b[38;5;28;01mif\u001b[39;00m \u001b[38;5;28;43mself\u001b[39;49m\u001b[38;5;241;43m.\u001b[39;49m\u001b[43mdispatch_one_batch\u001b[49m\u001b[43m(\u001b[49m\u001b[43miterator\u001b[49m\u001b[43m)\u001b[49m:\n\u001b[1;32m   1086\u001b[0m         \u001b[38;5;28mself\u001b[39m\u001b[38;5;241m.\u001b[39m_iterating \u001b[38;5;241m=\u001b[39m \u001b[38;5;28mself\u001b[39m\u001b[38;5;241m.\u001b[39m_original_iterator \u001b[38;5;129;01mis\u001b[39;00m \u001b[38;5;129;01mnot\u001b[39;00m \u001b[38;5;28;01mNone\u001b[39;00m\n\u001b[1;32m   1088\u001b[0m     \u001b[38;5;28;01mwhile\u001b[39;00m \u001b[38;5;28mself\u001b[39m\u001b[38;5;241m.\u001b[39mdispatch_one_batch(iterator):\n",
      "File \u001b[0;32m~/miniconda3/envs/rapids-22.12/lib/python3.9/site-packages/joblib/parallel.py:873\u001b[0m, in \u001b[0;36mParallel.dispatch_one_batch\u001b[0;34m(self, iterator)\u001b[0m\n\u001b[1;32m    870\u001b[0m n_jobs \u001b[38;5;241m=\u001b[39m \u001b[38;5;28mself\u001b[39m\u001b[38;5;241m.\u001b[39m_cached_effective_n_jobs\n\u001b[1;32m    871\u001b[0m big_batch_size \u001b[38;5;241m=\u001b[39m batch_size \u001b[38;5;241m*\u001b[39m n_jobs\n\u001b[0;32m--> 873\u001b[0m islice \u001b[38;5;241m=\u001b[39m \u001b[38;5;28;43mlist\u001b[39;49m\u001b[43m(\u001b[49m\u001b[43mitertools\u001b[49m\u001b[38;5;241;43m.\u001b[39;49m\u001b[43mislice\u001b[49m\u001b[43m(\u001b[49m\u001b[43miterator\u001b[49m\u001b[43m,\u001b[49m\u001b[43m \u001b[49m\u001b[43mbig_batch_size\u001b[49m\u001b[43m)\u001b[49m\u001b[43m)\u001b[49m\n\u001b[1;32m    874\u001b[0m \u001b[38;5;28;01mif\u001b[39;00m \u001b[38;5;28mlen\u001b[39m(islice) \u001b[38;5;241m==\u001b[39m \u001b[38;5;241m0\u001b[39m:\n\u001b[1;32m    875\u001b[0m     \u001b[38;5;28;01mreturn\u001b[39;00m \u001b[38;5;28;01mFalse\u001b[39;00m\n",
      "File \u001b[0;32m~/miniconda3/envs/rapids-22.12/lib/python3.9/site-packages/surprise/model_selection/search.py:94\u001b[0m, in \u001b[0;36m<genexpr>\u001b[0;34m(.0)\u001b[0m\n\u001b[1;32m     85\u001b[0m     \u001b[38;5;28;01mraise\u001b[39;00m \u001b[38;5;167;01mValueError\u001b[39;00m(\n\u001b[1;32m     86\u001b[0m         \u001b[38;5;124m\"\u001b[39m\u001b[38;5;124mrefit cannot be used when data has been \u001b[39m\u001b[38;5;124m\"\u001b[39m\n\u001b[1;32m     87\u001b[0m         \u001b[38;5;124m\"\u001b[39m\u001b[38;5;124mloaded with load_from_folds().\u001b[39m\u001b[38;5;124m\"\u001b[39m\n\u001b[1;32m     88\u001b[0m     )\n\u001b[1;32m     90\u001b[0m cv \u001b[38;5;241m=\u001b[39m get_cv(\u001b[38;5;28mself\u001b[39m\u001b[38;5;241m.\u001b[39mcv)\n\u001b[1;32m     92\u001b[0m delayed_list \u001b[38;5;241m=\u001b[39m (\n\u001b[1;32m     93\u001b[0m     delayed(fit_and_score)(\n\u001b[0;32m---> 94\u001b[0m         \u001b[38;5;28;43mself\u001b[39;49m\u001b[38;5;241;43m.\u001b[39;49m\u001b[43malgo_class\u001b[49m\u001b[43m(\u001b[49m\u001b[38;5;241;43m*\u001b[39;49m\u001b[38;5;241;43m*\u001b[39;49m\u001b[43mparams\u001b[49m\u001b[43m)\u001b[49m,\n\u001b[1;32m     95\u001b[0m         trainset,\n\u001b[1;32m     96\u001b[0m         testset,\n\u001b[1;32m     97\u001b[0m         \u001b[38;5;28mself\u001b[39m\u001b[38;5;241m.\u001b[39mmeasures,\n\u001b[1;32m     98\u001b[0m         \u001b[38;5;28mself\u001b[39m\u001b[38;5;241m.\u001b[39mreturn_train_measures,\n\u001b[1;32m     99\u001b[0m     )\n\u001b[1;32m    100\u001b[0m     \u001b[38;5;28;01mfor\u001b[39;00m params, (trainset, testset) \u001b[38;5;129;01min\u001b[39;00m product(\n\u001b[1;32m    101\u001b[0m         \u001b[38;5;28mself\u001b[39m\u001b[38;5;241m.\u001b[39mparam_combinations, cv\u001b[38;5;241m.\u001b[39msplit(data)\n\u001b[1;32m    102\u001b[0m     )\n\u001b[1;32m    103\u001b[0m )\n\u001b[1;32m    104\u001b[0m out \u001b[38;5;241m=\u001b[39m Parallel(\n\u001b[1;32m    105\u001b[0m     n_jobs\u001b[38;5;241m=\u001b[39m\u001b[38;5;28mself\u001b[39m\u001b[38;5;241m.\u001b[39mn_jobs,\n\u001b[1;32m    106\u001b[0m     pre_dispatch\u001b[38;5;241m=\u001b[39m\u001b[38;5;28mself\u001b[39m\u001b[38;5;241m.\u001b[39mpre_dispatch,\n\u001b[1;32m    107\u001b[0m     verbose\u001b[38;5;241m=\u001b[39m\u001b[38;5;28mself\u001b[39m\u001b[38;5;241m.\u001b[39mjoblib_verbose,\n\u001b[1;32m    108\u001b[0m )(delayed_list)\n\u001b[1;32m    110\u001b[0m (test_measures_dicts, train_measures_dicts, fit_times, test_times) \u001b[38;5;241m=\u001b[39m \u001b[38;5;28mzip\u001b[39m(\u001b[38;5;241m*\u001b[39mout)\n",
      "\u001b[0;31mTypeError\u001b[0m: 'SVD' object is not callable"
     ]
    }
   ],
   "source": [
    "from surprise import SVD\n",
    "from surprise import Dataset\n",
    "from surprise import accuracy\n",
    "from surprise.model_selection import train_test_split\n",
    "from surprise.model_selection import GridSearchCV\n",
    "\n",
    "# Load the dataset\n",
    "data = Dataset.load_builtin('ml-100k')\n",
    "\n",
    "# Split the dataset into training and testing sets\n",
    "trainset, testset = train_test_split(data, test_size=0.25)\n",
    "\n",
    "# Create a model\n",
    "model = SVD()\n",
    "\n",
    "# Define the parameter grid for grid search\n",
    "param_grid = {'n_factors': [50, 100, 150],\n",
    "              'lr_all': [0.002, 0.005],\n",
    "              'reg_all': [0.4, 0.6]}\n",
    "\n",
    "# Perform grid search\n",
    "gs = GridSearchCV(model, param_grid, measures=['rmse', 'mae'], cv=3)\n",
    "gs.fit(data)\n",
    "\n",
    "# Get the best model from grid search\n",
    "best_model = gs.best_estimator['rmse']\n",
    "\n",
    "# Train the best model on the entire dataset\n",
    "trainset = data.build_full_trainset()\n",
    "best_model.fit(trainset)\n",
    "\n",
    "# Define a function to predict ratings based on context\n",
    "def predict_ratings(user_id, item_id, context):\n",
    "    # Create a context-aware rating prediction\n",
    "    predicted_rating = best_model.predict(user_id, item_id, r_ui=None, clip=False, verbose=False, context=context)\n",
    "    return predicted_rating.est\n",
    "\n",
    "# Example usage of the predict_ratings function\n",
    "user_id = '196'\n",
    "item_id = '302'\n",
    "context = {'time_of_day': 'morning', 'day_of_week': 'Monday'}\n",
    "predicted_rating = predict_ratings(user_id, item_id, context)\n",
    "print(predicted_rating)"
   ]
  },
  {
   "cell_type": "markdown",
   "id": "9e5931e8-9090-4fd8-918c-00903f389e7c",
   "metadata": {},
   "source": [
    "# 1. user-user usando Tracks y Cosine"
   ]
  },
  {
   "cell_type": "code",
   "execution_count": 19,
   "id": "55a7d88f-c842-4da1-b60d-2d6acbb31291",
   "metadata": {
    "execution": {
     "iopub.execute_input": "2023-05-07T20:30:08.834353Z",
     "iopub.status.busy": "2023-05-07T20:30:08.834023Z",
     "iopub.status.idle": "2023-05-07T20:30:08.888878Z",
     "shell.execute_reply": "2023-05-07T20:30:08.887963Z",
     "shell.execute_reply.started": "2023-05-07T20:30:08.834335Z"
    },
    "tags": []
   },
   "outputs": [],
   "source": [
    "from surprise import Dataset, Reader, SVD, KNNWithZScore, accuracy\n",
    "from surprise.model_selection import train_test_split\n",
    "\n",
    "df = df_review_f[['user_id', 'business_id', 'stars']]\n",
    "\n",
    "# Load data\n",
    "reader = Reader(rating_scale=(1, 5))\n",
    "data = Dataset.load_from_df(df, reader)\n",
    "\n",
    "# Split data\n",
    "trainset, testset = train_test_split(data, test_size=0.2)"
   ]
  },
  {
   "cell_type": "code",
   "execution_count": null,
   "id": "88681f8f-b347-45fd-b717-f6d37d335b86",
   "metadata": {
    "execution": {
     "iopub.execute_input": "2023-05-07T20:22:52.223753Z",
     "iopub.status.busy": "2023-05-07T20:22:52.223274Z"
    },
    "tags": []
   },
   "outputs": [
    {
     "name": "stdout",
     "output_type": "stream",
     "text": [
      "Computing the cosine similarity matrix...\n",
      "Done computing similarity matrix.\n",
      "Computing the cosine similarity matrix...\n",
      "Done computing similarity matrix.\n",
      "Computing the cosine similarity matrix...\n",
      "Done computing similarity matrix.\n",
      "Estimating biases using als...\n",
      "Computing the pearson_baseline similarity matrix...\n",
      "Done computing similarity matrix.\n",
      "Estimating biases using als...\n",
      "Computing the pearson_baseline similarity matrix...\n",
      "Done computing similarity matrix.\n",
      "Estimating biases using als...\n",
      "Computing the pearson_baseline similarity matrix...\n",
      "Done computing similarity matrix.\n",
      "Computing the cosine similarity matrix...\n",
      "Done computing similarity matrix.\n",
      "Computing the cosine similarity matrix...\n",
      "Done computing similarity matrix.\n",
      "Computing the cosine similarity matrix...\n",
      "Done computing similarity matrix.\n",
      "Estimating biases using als...\n",
      "Computing the pearson_baseline similarity matrix...\n",
      "Done computing similarity matrix.\n",
      "Estimating biases using als...\n",
      "Computing the pearson_baseline similarity matrix...\n",
      "Done computing similarity matrix.\n",
      "Estimating biases using als...\n",
      "Computing the pearson_baseline similarity matrix...\n",
      "Done computing similarity matrix.\n",
      "Computing the cosine similarity matrix...\n",
      "Done computing similarity matrix.\n",
      "Computing the cosine similarity matrix...\n",
      "Done computing similarity matrix.\n",
      "Computing the cosine similarity matrix...\n",
      "Done computing similarity matrix.\n",
      "Estimating biases using als...\n",
      "Computing the pearson_baseline similarity matrix...\n",
      "Done computing similarity matrix.\n",
      "Estimating biases using als...\n",
      "Computing the pearson_baseline similarity matrix...\n",
      "Done computing similarity matrix.\n",
      "Estimating biases using als...\n",
      "Computing the pearson_baseline similarity matrix...\n",
      "Done computing similarity matrix.\n",
      "Best score: 1.2470261293042897\n",
      "Best parameters: {'k': 40, 'sim_options': {'name': 'pearson_baseline', 'user_based': True}}\n"
     ]
    }
   ],
   "source": [
    "from surprise import KNNWithZScore, Dataset, Reader\n",
    "from surprise.model_selection import GridSearchCV\n",
    "\n",
    "# Set up the hyperparameter grid\n",
    "param_grid = {'k': [40, 50, 60],\n",
    "              'sim_options': {'name': ['cosine', 'pearson_baseline'], # cosine, pearson, pearson_baseline\n",
    "                              'user_based': [False]}}\n",
    "\n",
    "# Set up the grid search\n",
    "gs = GridSearchCV(KNNWithZScore, param_grid, measures=['rmse', 'mae'], cv=5)\n",
    "\n",
    "# Fit the grid search on the dataset\n",
    "gs.fit(data)\n",
    "\n",
    "# Print the best score and parameters\n",
    "print('Best score:', gs.best_score['rmse'])\n",
    "print('Best parameters:', gs.best_params['rmse'])"
   ]
  },
  {
   "cell_type": "code",
   "execution_count": 16,
   "id": "508d4e6b-b837-4b80-a542-7327bc3ceafb",
   "metadata": {
    "execution": {
     "iopub.execute_input": "2023-05-07T20:23:49.965417Z",
     "iopub.status.busy": "2023-05-07T20:23:49.964391Z",
     "iopub.status.idle": "2023-05-07T20:23:49.969230Z",
     "shell.execute_reply": "2023-05-07T20:23:49.968479Z",
     "shell.execute_reply.started": "2023-05-07T20:23:49.965389Z"
    },
    "tags": []
   },
   "outputs": [],
   "source": [
    "# Define the algorithm\n",
    "sim_options = {'name': 'pearson_baseline', 'user_based': True}\n",
    "knn = KNNWithZScore(k=40, sim_options=sim_options)"
   ]
  },
  {
   "cell_type": "code",
   "execution_count": 17,
   "id": "96dcb1a6-d81b-4d6f-ac66-e14051982799",
   "metadata": {
    "execution": {
     "iopub.execute_input": "2023-05-07T20:24:24.302133Z",
     "iopub.status.busy": "2023-05-07T20:24:24.301418Z",
     "iopub.status.idle": "2023-05-07T20:24:26.240268Z",
     "shell.execute_reply": "2023-05-07T20:24:26.239385Z",
     "shell.execute_reply.started": "2023-05-07T20:24:24.302108Z"
    },
    "tags": []
   },
   "outputs": [
    {
     "name": "stdout",
     "output_type": "stream",
     "text": [
      "Estimating biases using als...\n",
      "Computing the pearson_baseline similarity matrix...\n",
      "Done computing similarity matrix.\n"
     ]
    },
    {
     "data": {
      "text/plain": [
       "<surprise.prediction_algorithms.knns.KNNWithZScore at 0x7f221bc03e80>"
      ]
     },
     "execution_count": 17,
     "metadata": {},
     "output_type": "execute_result"
    }
   ],
   "source": [
    "# Train models\n",
    "# Factorization model\n",
    "svd = SVD()\n",
    "svd.fit(trainset)\n",
    "\n",
    "# Context model\n",
    "knn = KNNWithZScore(k=40, sim_options={'name': 'pearson_baseline', 'user_based': True})\n",
    "knn.fit(trainset)"
   ]
  },
  {
   "cell_type": "code",
   "execution_count": 35,
   "id": "76102729-4304-41a4-b21c-5ed315070d75",
   "metadata": {
    "execution": {
     "iopub.execute_input": "2023-05-07T20:49:04.053006Z",
     "iopub.status.busy": "2023-05-07T20:49:04.052397Z",
     "iopub.status.idle": "2023-05-07T20:49:04.057884Z",
     "shell.execute_reply": "2023-05-07T20:49:04.056863Z",
     "shell.execute_reply.started": "2023-05-07T20:49:04.052983Z"
    },
    "tags": []
   },
   "outputs": [
    {
     "name": "stdout",
     "output_type": "stream",
     "text": [
      "4.3448582668130955\n"
     ]
    }
   ],
   "source": [
    "# Make hybrid predictions\n",
    "def hybrid_predict(user_id, business_id):\n",
    "    svd_prediction = svd.predict(user_id, business_id).est\n",
    "    knn_prediction = knn.predict(user_id, business_id).est\n",
    "    hybrid_prediction = (0.5 * svd_prediction) + (0.5 * knn_prediction)\n",
    "    return hybrid_prediction\n",
    "\n",
    "# Example usage of hybrid predictor\n",
    "user_id = '4Uh27DgGzsp6PqrH913giQ'\n",
    "business_id = 'm5-FtgWRd4qA7j0vaOXiXQ'\n",
    "prediction = hybrid_predict(user_id, business_id)\n",
    "print(prediction)"
   ]
  },
  {
   "cell_type": "code",
   "execution_count": 33,
   "id": "e832f7a3-0414-4107-bfe6-874b03dba465",
   "metadata": {
    "execution": {
     "iopub.execute_input": "2023-05-07T20:48:22.311669Z",
     "iopub.status.busy": "2023-05-07T20:48:22.311131Z",
     "iopub.status.idle": "2023-05-07T20:48:22.404428Z",
     "shell.execute_reply": "2023-05-07T20:48:22.403485Z",
     "shell.execute_reply.started": "2023-05-07T20:48:22.311647Z"
    },
    "tags": []
   },
   "outputs": [
    {
     "data": {
      "text/html": [
       "<div>\n",
       "<style scoped>\n",
       "    .dataframe tbody tr th:only-of-type {\n",
       "        vertical-align: middle;\n",
       "    }\n",
       "\n",
       "    .dataframe tbody tr th {\n",
       "        vertical-align: top;\n",
       "    }\n",
       "\n",
       "    .dataframe thead th {\n",
       "        text-align: right;\n",
       "    }\n",
       "</style>\n",
       "<table border=\"1\" class=\"dataframe\">\n",
       "  <thead>\n",
       "    <tr style=\"text-align: right;\">\n",
       "      <th></th>\n",
       "      <th>business_id</th>\n",
       "      <th>prediction</th>\n",
       "    </tr>\n",
       "  </thead>\n",
       "  <tbody>\n",
       "    <tr>\n",
       "      <th>0</th>\n",
       "      <td>m5-FtgWRd4qA7j0vaOXiXQ</td>\n",
       "      <td>4.344858</td>\n",
       "    </tr>\n",
       "    <tr>\n",
       "      <th>1</th>\n",
       "      <td>_aKr7POnacW_VizRKBpCiA</td>\n",
       "      <td>4.342281</td>\n",
       "    </tr>\n",
       "    <tr>\n",
       "      <th>2</th>\n",
       "      <td>AzseSGgDC6bVtMPEYo1CNQ</td>\n",
       "      <td>4.339491</td>\n",
       "    </tr>\n",
       "    <tr>\n",
       "      <th>3</th>\n",
       "      <td>nRKndeZLQ3eDL10UMwS2rQ</td>\n",
       "      <td>4.302049</td>\n",
       "    </tr>\n",
       "    <tr>\n",
       "      <th>4</th>\n",
       "      <td>6x6rR-SErwOo3xF2AzXVHA</td>\n",
       "      <td>4.292562</td>\n",
       "    </tr>\n",
       "    <tr>\n",
       "      <th>5</th>\n",
       "      <td>rQW9iupvhk6ScPn2VPNLVQ</td>\n",
       "      <td>4.279630</td>\n",
       "    </tr>\n",
       "    <tr>\n",
       "      <th>6</th>\n",
       "      <td>HMkjv277ZaW_2tZelEn6LQ</td>\n",
       "      <td>4.279220</td>\n",
       "    </tr>\n",
       "    <tr>\n",
       "      <th>7</th>\n",
       "      <td>Wjutpifh3rVa7bS1UK3dmA</td>\n",
       "      <td>4.275704</td>\n",
       "    </tr>\n",
       "    <tr>\n",
       "      <th>8</th>\n",
       "      <td>pafrjSu3h0v0N8GR3ghNtQ</td>\n",
       "      <td>4.270999</td>\n",
       "    </tr>\n",
       "    <tr>\n",
       "      <th>9</th>\n",
       "      <td>vN6v8m4DO45Z4pp8yxxF_w</td>\n",
       "      <td>4.268858</td>\n",
       "    </tr>\n",
       "  </tbody>\n",
       "</table>\n",
       "</div>"
      ],
      "text/plain": [
       "              business_id  prediction\n",
       "0  m5-FtgWRd4qA7j0vaOXiXQ    4.344858\n",
       "1  _aKr7POnacW_VizRKBpCiA    4.342281\n",
       "2  AzseSGgDC6bVtMPEYo1CNQ    4.339491\n",
       "3  nRKndeZLQ3eDL10UMwS2rQ    4.302049\n",
       "4  6x6rR-SErwOo3xF2AzXVHA    4.292562\n",
       "5  rQW9iupvhk6ScPn2VPNLVQ    4.279630\n",
       "6  HMkjv277ZaW_2tZelEn6LQ    4.279220\n",
       "7  Wjutpifh3rVa7bS1UK3dmA    4.275704\n",
       "8  pafrjSu3h0v0N8GR3ghNtQ    4.270999\n",
       "9  vN6v8m4DO45Z4pp8yxxF_w    4.268858"
      ]
     },
     "execution_count": 33,
     "metadata": {},
     "output_type": "execute_result"
    }
   ],
   "source": [
    "def get_top_n(user_id, n):\n",
    "    # Get all businesses the user has not reviewed\n",
    "    all_businesses = set(df['business_id'].unique())\n",
    "    reviewed_businesses = set(df[df['user_id'] == user_id]['business_id'].unique())\n",
    "    unreviewed_businesses = all_businesses - reviewed_businesses\n",
    "\n",
    "    # Make predictions for unreviewed businesses and sort by prediction\n",
    "    predictions = []\n",
    "    for business_id in unreviewed_businesses:\n",
    "        prediction = hybrid_predict(user_id, business_id)\n",
    "        predictions.append((business_id, prediction))\n",
    "    predictions.sort(key=lambda x: x[1], reverse=True)\n",
    "\n",
    "    # Get top n recommended businesses and their predictions\n",
    "    top_n = predictions[:n]\n",
    "    top_n_businesses = [x[0] for x in top_n]\n",
    "    top_n_predictions = [x[1] for x in top_n]\n",
    "\n",
    "    # Create DataFrame with business ids and predictions\n",
    "    df_top_n = pd.DataFrame({'business_id': top_n_businesses, 'prediction': top_n_predictions})\n",
    "    return df_top_n\n",
    "\n",
    "# Example usage of hybrid predictor\n",
    "user_id = '4Uh27DgGzsp6PqrH913giQ'\n",
    "n = 10\n",
    "top_n_business_ids = get_top_n(user_id, n)\n",
    "top_n_business_ids"
   ]
  },
  {
   "cell_type": "code",
   "execution_count": 30,
   "id": "e2d9d8de-d089-4500-a28b-f3dcdb1b45b7",
   "metadata": {
    "execution": {
     "iopub.execute_input": "2023-03-15T20:29:49.859501Z",
     "iopub.status.busy": "2023-03-15T20:29:49.859093Z",
     "iopub.status.idle": "2023-03-15T20:29:57.368491Z",
     "shell.execute_reply": "2023-03-15T20:29:57.367759Z",
     "shell.execute_reply.started": "2023-03-15T20:29:49.859483Z"
    },
    "tags": []
   },
   "outputs": [],
   "source": [
    "# Save the model\n",
    "from surprise import dump\n",
    "dump.dump('../backend/data/models/uu_cosine.pkl', algo=algo)"
   ]
  },
  {
   "cell_type": "code",
   "execution_count": 31,
   "id": "1a21dd85-6841-4d27-ba0c-6ef06f4017a5",
   "metadata": {
    "execution": {
     "iopub.execute_input": "2023-03-15T20:29:57.369784Z",
     "iopub.status.busy": "2023-03-15T20:29:57.369537Z",
     "iopub.status.idle": "2023-03-15T20:29:57.377360Z",
     "shell.execute_reply": "2023-03-15T20:29:57.376669Z",
     "shell.execute_reply.started": "2023-03-15T20:29:57.369753Z"
    },
    "tags": []
   },
   "outputs": [
    {
     "data": {
      "text/plain": [
       "Prediction(uid='user_000084', iid='Gimme More-/-Britney Spears', r_ui=None, est=2.1906587819600043, details={'actual_k': 10, 'was_impossible': False})"
      ]
     },
     "execution_count": 31,
     "metadata": {},
     "output_type": "execute_result"
    }
   ],
   "source": [
    "algo.predict('user_000084', 'Gimme More-/-Britney Spears')"
   ]
  },
  {
   "cell_type": "code",
   "execution_count": 32,
   "id": "52caaecf-5b0d-4051-8857-210ad2053926",
   "metadata": {
    "execution": {
     "iopub.execute_input": "2023-03-15T20:29:57.378749Z",
     "iopub.status.busy": "2023-03-15T20:29:57.378214Z",
     "iopub.status.idle": "2023-03-15T20:29:57.384627Z",
     "shell.execute_reply": "2023-03-15T20:29:57.383855Z",
     "shell.execute_reply.started": "2023-03-15T20:29:57.378730Z"
    },
    "tags": []
   },
   "outputs": [
    {
     "data": {
      "text/plain": [
       "Prediction(uid='user_000084', iid='Heaven On Earth-/-Britney Spears', r_ui=None, est=1.2540829068682953, details={'actual_k': 10, 'was_impossible': False})"
      ]
     },
     "execution_count": 32,
     "metadata": {},
     "output_type": "execute_result"
    }
   ],
   "source": [
    "algo.predict('user_000084', 'Heaven On Earth-/-Britney Spears')"
   ]
  },
  {
   "cell_type": "code",
   "execution_count": 33,
   "id": "e4a9e998-f953-4ac1-aba6-81d9866eda61",
   "metadata": {
    "execution": {
     "iopub.execute_input": "2023-03-15T20:29:57.388047Z",
     "iopub.status.busy": "2023-03-15T20:29:57.387397Z",
     "iopub.status.idle": "2023-03-15T20:30:30.077670Z",
     "shell.execute_reply": "2023-03-15T20:30:30.076959Z",
     "shell.execute_reply.started": "2023-03-15T20:29:57.388020Z"
    },
    "tags": []
   },
   "outputs": [],
   "source": [
    "test_predictions = algo.test(test_set)"
   ]
  },
  {
   "cell_type": "code",
   "execution_count": 34,
   "id": "3df743f2-20ad-4cd8-8b3c-31ce3845218b",
   "metadata": {
    "execution": {
     "iopub.execute_input": "2023-03-15T20:30:30.079149Z",
     "iopub.status.busy": "2023-03-15T20:30:30.078602Z",
     "iopub.status.idle": "2023-03-15T20:30:30.727312Z",
     "shell.execute_reply": "2023-03-15T20:30:30.726586Z",
     "shell.execute_reply.started": "2023-03-15T20:30:30.079133Z"
    },
    "tags": []
   },
   "outputs": [
    {
     "name": "stdout",
     "output_type": "stream",
     "text": [
      "RMSE: 0.3132\n"
     ]
    },
    {
     "data": {
      "text/plain": [
       "0.3132348548086579"
      ]
     },
     "execution_count": 34,
     "metadata": {},
     "output_type": "execute_result"
    }
   ],
   "source": [
    "accuracy.rmse( test_predictions, verbose = True )"
   ]
  },
  {
   "cell_type": "code",
   "execution_count": 35,
   "id": "925c562f-b531-4783-9166-88ad473c4c2a",
   "metadata": {
    "execution": {
     "iopub.execute_input": "2023-03-15T20:30:30.728528Z",
     "iopub.status.busy": "2023-03-15T20:30:30.728164Z",
     "iopub.status.idle": "2023-03-15T20:30:31.301010Z",
     "shell.execute_reply": "2023-03-15T20:30:31.299737Z",
     "shell.execute_reply.started": "2023-03-15T20:30:30.728512Z"
    },
    "tags": []
   },
   "outputs": [
    {
     "name": "stdout",
     "output_type": "stream",
     "text": [
      "MAE:  0.1793\n"
     ]
    },
    {
     "data": {
      "text/plain": [
       "0.17931618894336512"
      ]
     },
     "execution_count": 35,
     "metadata": {},
     "output_type": "execute_result"
    }
   ],
   "source": [
    "accuracy.mae( test_predictions, verbose = True )"
   ]
  },
  {
   "cell_type": "markdown",
   "id": "aa8db556-6213-48e3-9d9a-cd92afbc8bf8",
   "metadata": {},
   "source": [
    "Modelo over fitting"
   ]
  },
  {
   "cell_type": "markdown",
   "id": "edb2a27f-6c27-49ed-abb8-ecfc9125005b",
   "metadata": {},
   "source": [
    "# 2. user-user usando Tracks y Pearson"
   ]
  },
  {
   "cell_type": "code",
   "execution_count": 5,
   "id": "41dc7ce9-3f6f-4d36-ae4a-5963eedd207c",
   "metadata": {
    "execution": {
     "iopub.execute_input": "2023-03-15T20:34:12.548828Z",
     "iopub.status.busy": "2023-03-15T20:34:12.548622Z",
     "iopub.status.idle": "2023-03-15T20:34:30.088659Z",
     "shell.execute_reply": "2023-03-15T20:34:30.087761Z",
     "shell.execute_reply.started": "2023-03-15T20:34:12.548812Z"
    },
    "tags": []
   },
   "outputs": [],
   "source": [
    "# Segunda predicción, usando df_UT, User-User y Pearson\n",
    "reader = Reader( rating_scale = ( 1, 5 ) )\n",
    "#Se crea el dataset a partir del dataframe\n",
    "surprise_dataset = Dataset.load_from_df( df_UT[['user_id', 'track_artist', 'rating']], reader )\n",
    "\n",
    "train_set, test_set=  train_test_split(surprise_dataset, test_size=.2)"
   ]
  },
  {
   "cell_type": "code",
   "execution_count": 6,
   "id": "b84bf7a0-7766-47db-b889-a2465795a955",
   "metadata": {
    "execution": {
     "iopub.execute_input": "2023-03-15T20:34:30.090323Z",
     "iopub.status.busy": "2023-03-15T20:34:30.090045Z",
     "iopub.status.idle": "2023-03-15T20:34:30.094496Z",
     "shell.execute_reply": "2023-03-15T20:34:30.093565Z",
     "shell.execute_reply.started": "2023-03-15T20:34:30.090301Z"
    },
    "tags": []
   },
   "outputs": [],
   "source": [
    "sim_options = {'name': 'pearson_baseline',\n",
    "               'user_based': True # calcule similitud user-user\n",
    "               }\n",
    "\n",
    "algo = KNNWithZScore(k=10, min_k=2, sim_options=sim_options)"
   ]
  },
  {
   "cell_type": "code",
   "execution_count": 7,
   "id": "eef6d8c4-8e5f-4e0f-b852-db10971437ab",
   "metadata": {
    "execution": {
     "iopub.execute_input": "2023-03-15T20:34:30.095854Z",
     "iopub.status.busy": "2023-03-15T20:34:30.095649Z",
     "iopub.status.idle": "2023-03-15T20:34:30.313781Z",
     "shell.execute_reply": "2023-03-15T20:34:30.313039Z",
     "shell.execute_reply.started": "2023-03-15T20:34:30.095838Z"
    },
    "tags": []
   },
   "outputs": [
    {
     "data": {
      "text/html": [
       "<div>\n",
       "<style scoped>\n",
       "    .dataframe tbody tr th:only-of-type {\n",
       "        vertical-align: middle;\n",
       "    }\n",
       "\n",
       "    .dataframe tbody tr th {\n",
       "        vertical-align: top;\n",
       "    }\n",
       "\n",
       "    .dataframe thead th {\n",
       "        text-align: right;\n",
       "    }\n",
       "</style>\n",
       "<table border=\"1\" class=\"dataframe\">\n",
       "  <thead>\n",
       "    <tr style=\"text-align: right;\">\n",
       "      <th></th>\n",
       "      <th>user_id</th>\n",
       "      <th>track_name</th>\n",
       "      <th>artist_name</th>\n",
       "      <th>track_artist</th>\n",
       "      <th>reproductions</th>\n",
       "      <th>rating</th>\n",
       "    </tr>\n",
       "    <tr>\n",
       "      <th>id</th>\n",
       "      <th></th>\n",
       "      <th></th>\n",
       "      <th></th>\n",
       "      <th></th>\n",
       "      <th></th>\n",
       "      <th></th>\n",
       "    </tr>\n",
       "  </thead>\n",
       "  <tbody>\n",
       "    <tr>\n",
       "      <th>23</th>\n",
       "      <td>user_000084</td>\n",
       "      <td>Gimme More</td>\n",
       "      <td>Britney Spears</td>\n",
       "      <td>Gimme More-/-Britney Spears</td>\n",
       "      <td>1004</td>\n",
       "      <td>5.000000</td>\n",
       "    </tr>\n",
       "    <tr>\n",
       "      <th>39</th>\n",
       "      <td>user_000084</td>\n",
       "      <td>Piece Of Me</td>\n",
       "      <td>Britney Spears</td>\n",
       "      <td>Piece Of Me-/-Britney Spears</td>\n",
       "      <td>786</td>\n",
       "      <td>4.130608</td>\n",
       "    </tr>\n",
       "    <tr>\n",
       "      <th>50</th>\n",
       "      <td>user_000084</td>\n",
       "      <td>Womanizer</td>\n",
       "      <td>Britney Spears</td>\n",
       "      <td>Womanizer-/-Britney Spears</td>\n",
       "      <td>739</td>\n",
       "      <td>3.943170</td>\n",
       "    </tr>\n",
       "    <tr>\n",
       "      <th>93</th>\n",
       "      <td>user_000084</td>\n",
       "      <td>Radar</td>\n",
       "      <td>Britney Spears</td>\n",
       "      <td>Radar-/-Britney Spears</td>\n",
       "      <td>534</td>\n",
       "      <td>3.125623</td>\n",
       "    </tr>\n",
       "    <tr>\n",
       "      <th>130</th>\n",
       "      <td>user_000084</td>\n",
       "      <td>Circus</td>\n",
       "      <td>Britney Spears</td>\n",
       "      <td>Circus-/-Britney Spears</td>\n",
       "      <td>453</td>\n",
       "      <td>2.802592</td>\n",
       "    </tr>\n",
       "    <tr>\n",
       "      <th>...</th>\n",
       "      <td>...</td>\n",
       "      <td>...</td>\n",
       "      <td>...</td>\n",
       "      <td>...</td>\n",
       "      <td>...</td>\n",
       "      <td>...</td>\n",
       "    </tr>\n",
       "    <tr>\n",
       "      <th>4330248</th>\n",
       "      <td>user_000084</td>\n",
       "      <td>Trial Of Tears</td>\n",
       "      <td>Dream Theater</td>\n",
       "      <td>Trial Of Tears-/-Dream Theater</td>\n",
       "      <td>1</td>\n",
       "      <td>1.000000</td>\n",
       "    </tr>\n",
       "    <tr>\n",
       "      <th>4330257</th>\n",
       "      <td>user_000084</td>\n",
       "      <td>Tu Recuerdo (Feat. La Mari &amp; Tommy Torres)</td>\n",
       "      <td>Ricky Martin</td>\n",
       "      <td>Tu Recuerdo (Feat. La Mari &amp; Tommy Torres)-/-R...</td>\n",
       "      <td>1</td>\n",
       "      <td>1.000000</td>\n",
       "    </tr>\n",
       "    <tr>\n",
       "      <th>4330259</th>\n",
       "      <td>user_000084</td>\n",
       "      <td>Tu Tienes Lo Que Quiero</td>\n",
       "      <td>Maná</td>\n",
       "      <td>Tu Tienes Lo Que Quiero-/-Maná</td>\n",
       "      <td>1</td>\n",
       "      <td>1.000000</td>\n",
       "    </tr>\n",
       "    <tr>\n",
       "      <th>4330261</th>\n",
       "      <td>user_000084</td>\n",
       "      <td>Tunayt</td>\n",
       "      <td>The Caracas Sound Machine</td>\n",
       "      <td>Tunayt-/-The Caracas Sound Machine</td>\n",
       "      <td>1</td>\n",
       "      <td>1.000000</td>\n",
       "    </tr>\n",
       "    <tr>\n",
       "      <th>4330262</th>\n",
       "      <td>user_000084</td>\n",
       "      <td>Turn It Again</td>\n",
       "      <td>Red Hot Chili Peppers</td>\n",
       "      <td>Turn It Again-/-Red Hot Chili Peppers</td>\n",
       "      <td>1</td>\n",
       "      <td>1.000000</td>\n",
       "    </tr>\n",
       "  </tbody>\n",
       "</table>\n",
       "<p>2110 rows × 6 columns</p>\n",
       "</div>"
      ],
      "text/plain": [
       "             user_id                                  track_name  \\\n",
       "id                                                                 \n",
       "23       user_000084                                  Gimme More   \n",
       "39       user_000084                                 Piece Of Me   \n",
       "50       user_000084                                   Womanizer   \n",
       "93       user_000084                                       Radar   \n",
       "130      user_000084                                      Circus   \n",
       "...              ...                                         ...   \n",
       "4330248  user_000084                              Trial Of Tears   \n",
       "4330257  user_000084  Tu Recuerdo (Feat. La Mari & Tommy Torres)   \n",
       "4330259  user_000084                     Tu Tienes Lo Que Quiero   \n",
       "4330261  user_000084                                      Tunayt   \n",
       "4330262  user_000084                               Turn It Again   \n",
       "\n",
       "                       artist_name  \\\n",
       "id                                   \n",
       "23                  Britney Spears   \n",
       "39                  Britney Spears   \n",
       "50                  Britney Spears   \n",
       "93                  Britney Spears   \n",
       "130                 Britney Spears   \n",
       "...                            ...   \n",
       "4330248              Dream Theater   \n",
       "4330257               Ricky Martin   \n",
       "4330259                       Maná   \n",
       "4330261  The Caracas Sound Machine   \n",
       "4330262      Red Hot Chili Peppers   \n",
       "\n",
       "                                              track_artist  reproductions  \\\n",
       "id                                                                          \n",
       "23                             Gimme More-/-Britney Spears           1004   \n",
       "39                            Piece Of Me-/-Britney Spears            786   \n",
       "50                              Womanizer-/-Britney Spears            739   \n",
       "93                                  Radar-/-Britney Spears            534   \n",
       "130                                Circus-/-Britney Spears            453   \n",
       "...                                                    ...            ...   \n",
       "4330248                     Trial Of Tears-/-Dream Theater              1   \n",
       "4330257  Tu Recuerdo (Feat. La Mari & Tommy Torres)-/-R...              1   \n",
       "4330259                     Tu Tienes Lo Que Quiero-/-Maná              1   \n",
       "4330261                 Tunayt-/-The Caracas Sound Machine              1   \n",
       "4330262              Turn It Again-/-Red Hot Chili Peppers              1   \n",
       "\n",
       "           rating  \n",
       "id                 \n",
       "23       5.000000  \n",
       "39       4.130608  \n",
       "50       3.943170  \n",
       "93       3.125623  \n",
       "130      2.802592  \n",
       "...           ...  \n",
       "4330248  1.000000  \n",
       "4330257  1.000000  \n",
       "4330259  1.000000  \n",
       "4330261  1.000000  \n",
       "4330262  1.000000  \n",
       "\n",
       "[2110 rows x 6 columns]"
      ]
     },
     "execution_count": 7,
     "metadata": {},
     "output_type": "execute_result"
    }
   ],
   "source": [
    "df_UT.loc[df_UT['user_id'] == 'user_000084']"
   ]
  },
  {
   "cell_type": "code",
   "execution_count": 8,
   "id": "91fd20ae-ce88-4c58-9af2-e7e732103b5c",
   "metadata": {
    "execution": {
     "iopub.execute_input": "2023-03-15T20:34:30.314871Z",
     "iopub.status.busy": "2023-03-15T20:34:30.314646Z",
     "iopub.status.idle": "2023-03-15T20:35:01.004018Z",
     "shell.execute_reply": "2023-03-15T20:35:01.003110Z",
     "shell.execute_reply.started": "2023-03-15T20:34:30.314853Z"
    },
    "tags": []
   },
   "outputs": [
    {
     "name": "stdout",
     "output_type": "stream",
     "text": [
      "Estimating biases using als...\n",
      "Computing the pearson_baseline similarity matrix...\n",
      "Done computing similarity matrix.\n"
     ]
    },
    {
     "data": {
      "text/plain": [
       "<surprise.prediction_algorithms.knns.KNNWithZScore at 0x7f8494389a60>"
      ]
     },
     "execution_count": 8,
     "metadata": {},
     "output_type": "execute_result"
    }
   ],
   "source": [
    "algo.fit(train_set)"
   ]
  },
  {
   "cell_type": "code",
   "execution_count": 9,
   "id": "ebe7e82e-048b-4687-8dee-da01e49f533a",
   "metadata": {
    "execution": {
     "iopub.execute_input": "2023-03-15T20:35:01.005379Z",
     "iopub.status.busy": "2023-03-15T20:35:01.005130Z",
     "iopub.status.idle": "2023-03-15T20:35:08.033161Z",
     "shell.execute_reply": "2023-03-15T20:35:08.032288Z",
     "shell.execute_reply.started": "2023-03-15T20:35:01.005352Z"
    },
    "tags": []
   },
   "outputs": [],
   "source": [
    "# Save the model\n",
    "from surprise import dump\n",
    "dump.dump('../backend/data/models/uu_pearson.pkl', algo=algo)"
   ]
  },
  {
   "cell_type": "code",
   "execution_count": 10,
   "id": "1c6d3c64-bcc6-480f-a35e-a3991afb15af",
   "metadata": {
    "execution": {
     "iopub.execute_input": "2023-03-15T20:35:08.034616Z",
     "iopub.status.busy": "2023-03-15T20:35:08.034170Z",
     "iopub.status.idle": "2023-03-15T20:35:08.040199Z",
     "shell.execute_reply": "2023-03-15T20:35:08.039269Z",
     "shell.execute_reply.started": "2023-03-15T20:35:08.034590Z"
    },
    "tags": []
   },
   "outputs": [
    {
     "data": {
      "text/plain": [
       "Prediction(uid='user_000084', iid='Gimme More-/-Britney Spears', r_ui=None, est=3.6099519672115106, details={'actual_k': 10, 'was_impossible': False})"
      ]
     },
     "execution_count": 10,
     "metadata": {},
     "output_type": "execute_result"
    }
   ],
   "source": [
    "algo.predict('user_000084', 'Gimme More-/-Britney Spears')"
   ]
  },
  {
   "cell_type": "code",
   "execution_count": 11,
   "id": "5faa34e7-386b-43e4-a24c-6809568879db",
   "metadata": {
    "execution": {
     "iopub.execute_input": "2023-03-15T20:35:08.041924Z",
     "iopub.status.busy": "2023-03-15T20:35:08.041359Z",
     "iopub.status.idle": "2023-03-15T20:35:08.050630Z",
     "shell.execute_reply": "2023-03-15T20:35:08.049545Z",
     "shell.execute_reply.started": "2023-03-15T20:35:08.041897Z"
    },
    "tags": []
   },
   "outputs": [
    {
     "data": {
      "text/plain": [
       "Prediction(uid='user_000084', iid='Heaven On Earth-/-Britney Spears', r_ui=None, est=1.6939704225187753, details={'actual_k': 10, 'was_impossible': False})"
      ]
     },
     "execution_count": 11,
     "metadata": {},
     "output_type": "execute_result"
    }
   ],
   "source": [
    "algo.predict('user_000084', 'Heaven On Earth-/-Britney Spears')"
   ]
  },
  {
   "cell_type": "code",
   "execution_count": 12,
   "id": "7d4cfbb7-84f7-4068-89a4-2c3044814da1",
   "metadata": {
    "execution": {
     "iopub.execute_input": "2023-03-15T20:35:08.053759Z",
     "iopub.status.busy": "2023-03-15T20:35:08.052958Z",
     "iopub.status.idle": "2023-03-15T20:35:36.335089Z",
     "shell.execute_reply": "2023-03-15T20:35:36.334198Z",
     "shell.execute_reply.started": "2023-03-15T20:35:08.053718Z"
    },
    "tags": []
   },
   "outputs": [],
   "source": [
    "test_predictions = algo.test(test_set)"
   ]
  },
  {
   "cell_type": "code",
   "execution_count": 13,
   "id": "15a7b7a3-72ae-4aee-a28b-efa9317e3acf",
   "metadata": {
    "execution": {
     "iopub.execute_input": "2023-03-15T20:35:36.336528Z",
     "iopub.status.busy": "2023-03-15T20:35:36.336271Z",
     "iopub.status.idle": "2023-03-15T20:35:36.990709Z",
     "shell.execute_reply": "2023-03-15T20:35:36.989817Z",
     "shell.execute_reply.started": "2023-03-15T20:35:36.336505Z"
    },
    "tags": []
   },
   "outputs": [
    {
     "name": "stdout",
     "output_type": "stream",
     "text": [
      "RMSE: 0.3063\n"
     ]
    },
    {
     "data": {
      "text/plain": [
       "0.30632432193390574"
      ]
     },
     "execution_count": 13,
     "metadata": {},
     "output_type": "execute_result"
    }
   ],
   "source": [
    "accuracy.rmse( test_predictions, verbose = True )"
   ]
  },
  {
   "cell_type": "code",
   "execution_count": 14,
   "id": "3646d0f5-041d-47cc-85f1-0faf2b90c7e0",
   "metadata": {
    "execution": {
     "iopub.execute_input": "2023-03-15T20:35:36.992330Z",
     "iopub.status.busy": "2023-03-15T20:35:36.991663Z",
     "iopub.status.idle": "2023-03-15T20:35:37.503044Z",
     "shell.execute_reply": "2023-03-15T20:35:37.501947Z",
     "shell.execute_reply.started": "2023-03-15T20:35:36.992305Z"
    },
    "tags": []
   },
   "outputs": [
    {
     "name": "stdout",
     "output_type": "stream",
     "text": [
      "MAE:  0.1781\n"
     ]
    },
    {
     "data": {
      "text/plain": [
       "0.17813887688042232"
      ]
     },
     "execution_count": 14,
     "metadata": {},
     "output_type": "execute_result"
    }
   ],
   "source": [
    "accuracy.mae( test_predictions, verbose = True )"
   ]
  },
  {
   "cell_type": "markdown",
   "id": "138b4ae7-1150-494a-a35a-db6e8c0afcb8",
   "metadata": {},
   "source": [
    "# 3. item-item usando Tracks y cosine"
   ]
  },
  {
   "cell_type": "code",
   "execution_count": 15,
   "id": "09823f1c-70ef-41c9-86e3-2c194d57386e",
   "metadata": {
    "execution": {
     "iopub.execute_input": "2023-03-15T20:35:58.765242Z",
     "iopub.status.busy": "2023-03-15T20:35:58.764520Z",
     "iopub.status.idle": "2023-03-15T20:35:58.809762Z",
     "shell.execute_reply": "2023-03-15T20:35:58.808969Z",
     "shell.execute_reply.started": "2023-03-15T20:35:58.765215Z"
    },
    "tags": []
   },
   "outputs": [],
   "source": [
    "# Tercera predicción, usando df_UT, Item-Item y cosine\n",
    "reader = Reader( rating_scale = ( 1, 5 ) )\n",
    "#Se crea el dataset a partir del dataframe\n",
    "surprise_dataset = Dataset.load_from_df( df_ut_sample[['user_id', 'track_artist', 'rating']], reader )\n",
    "\n",
    "train_set, test_set=  train_test_split(surprise_dataset, test_size=.2)"
   ]
  },
  {
   "cell_type": "code",
   "execution_count": 16,
   "id": "89dd6b02-8dd4-4d5e-882e-b253005f0c2f",
   "metadata": {
    "execution": {
     "iopub.execute_input": "2023-03-15T20:35:59.160623Z",
     "iopub.status.busy": "2023-03-15T20:35:59.159909Z",
     "iopub.status.idle": "2023-03-15T20:35:59.164157Z",
     "shell.execute_reply": "2023-03-15T20:35:59.163381Z",
     "shell.execute_reply.started": "2023-03-15T20:35:59.160595Z"
    },
    "tags": []
   },
   "outputs": [],
   "source": [
    "sim_options = {'name': 'cosine',\n",
    "               'user_based': False # calcule similitud item-item\n",
    "               }\n",
    "\n",
    "algo = KNNWithZScore(k=50, min_k=2, sim_options=sim_options)"
   ]
  },
  {
   "cell_type": "code",
   "execution_count": 17,
   "id": "5e89e5e6-5043-4f07-8f1b-5972ec03c860",
   "metadata": {
    "execution": {
     "iopub.execute_input": "2023-03-15T20:35:59.552083Z",
     "iopub.status.busy": "2023-03-15T20:35:59.551395Z",
     "iopub.status.idle": "2023-03-15T20:35:59.562608Z",
     "shell.execute_reply": "2023-03-15T20:35:59.561879Z",
     "shell.execute_reply.started": "2023-03-15T20:35:59.552055Z"
    },
    "tags": []
   },
   "outputs": [
    {
     "data": {
      "text/html": [
       "<div>\n",
       "<style scoped>\n",
       "    .dataframe tbody tr th:only-of-type {\n",
       "        vertical-align: middle;\n",
       "    }\n",
       "\n",
       "    .dataframe tbody tr th {\n",
       "        vertical-align: top;\n",
       "    }\n",
       "\n",
       "    .dataframe thead th {\n",
       "        text-align: right;\n",
       "    }\n",
       "</style>\n",
       "<table border=\"1\" class=\"dataframe\">\n",
       "  <thead>\n",
       "    <tr style=\"text-align: right;\">\n",
       "      <th></th>\n",
       "      <th>user_id</th>\n",
       "      <th>track_name</th>\n",
       "      <th>artist_name</th>\n",
       "      <th>track_artist</th>\n",
       "      <th>reproductions</th>\n",
       "      <th>rating</th>\n",
       "    </tr>\n",
       "    <tr>\n",
       "      <th>id</th>\n",
       "      <th></th>\n",
       "      <th></th>\n",
       "      <th></th>\n",
       "      <th></th>\n",
       "      <th></th>\n",
       "      <th></th>\n",
       "    </tr>\n",
       "  </thead>\n",
       "  <tbody>\n",
       "    <tr>\n",
       "      <th>23</th>\n",
       "      <td>user_000084</td>\n",
       "      <td>Gimme More</td>\n",
       "      <td>Britney Spears</td>\n",
       "      <td>Gimme More-/-Britney Spears</td>\n",
       "      <td>1004</td>\n",
       "      <td>5.000000</td>\n",
       "    </tr>\n",
       "    <tr>\n",
       "      <th>39</th>\n",
       "      <td>user_000084</td>\n",
       "      <td>Piece Of Me</td>\n",
       "      <td>Britney Spears</td>\n",
       "      <td>Piece Of Me-/-Britney Spears</td>\n",
       "      <td>786</td>\n",
       "      <td>4.130608</td>\n",
       "    </tr>\n",
       "    <tr>\n",
       "      <th>50</th>\n",
       "      <td>user_000084</td>\n",
       "      <td>Womanizer</td>\n",
       "      <td>Britney Spears</td>\n",
       "      <td>Womanizer-/-Britney Spears</td>\n",
       "      <td>739</td>\n",
       "      <td>3.943170</td>\n",
       "    </tr>\n",
       "    <tr>\n",
       "      <th>93</th>\n",
       "      <td>user_000084</td>\n",
       "      <td>Radar</td>\n",
       "      <td>Britney Spears</td>\n",
       "      <td>Radar-/-Britney Spears</td>\n",
       "      <td>534</td>\n",
       "      <td>3.125623</td>\n",
       "    </tr>\n",
       "    <tr>\n",
       "      <th>130</th>\n",
       "      <td>user_000084</td>\n",
       "      <td>Circus</td>\n",
       "      <td>Britney Spears</td>\n",
       "      <td>Circus-/-Britney Spears</td>\n",
       "      <td>453</td>\n",
       "      <td>2.802592</td>\n",
       "    </tr>\n",
       "    <tr>\n",
       "      <th>142</th>\n",
       "      <td>user_000084</td>\n",
       "      <td>Break The Ice</td>\n",
       "      <td>Britney Spears</td>\n",
       "      <td>Break The Ice-/-Britney Spears</td>\n",
       "      <td>434</td>\n",
       "      <td>2.726820</td>\n",
       "    </tr>\n",
       "    <tr>\n",
       "      <th>243</th>\n",
       "      <td>user_000084</td>\n",
       "      <td>If U Seek Amy</td>\n",
       "      <td>Britney Spears</td>\n",
       "      <td>If U Seek Amy-/-Britney Spears</td>\n",
       "      <td>361</td>\n",
       "      <td>2.435693</td>\n",
       "    </tr>\n",
       "    <tr>\n",
       "      <th>557</th>\n",
       "      <td>user_000084</td>\n",
       "      <td>They Talk Shit About Me (Feat. Verse)</td>\n",
       "      <td>M. Pokora</td>\n",
       "      <td>They Talk Shit About Me (Feat. Verse)-/-M. Pokora</td>\n",
       "      <td>252</td>\n",
       "      <td>2.000997</td>\n",
       "    </tr>\n",
       "    <tr>\n",
       "      <th>607</th>\n",
       "      <td>user_000084</td>\n",
       "      <td>Hot As Ice</td>\n",
       "      <td>Britney Spears</td>\n",
       "      <td>Hot As Ice-/-Britney Spears</td>\n",
       "      <td>242</td>\n",
       "      <td>1.961117</td>\n",
       "    </tr>\n",
       "    <tr>\n",
       "      <th>705</th>\n",
       "      <td>user_000084</td>\n",
       "      <td>Kill The Lights</td>\n",
       "      <td>Britney Spears</td>\n",
       "      <td>Kill The Lights-/-Britney Spears</td>\n",
       "      <td>229</td>\n",
       "      <td>1.909272</td>\n",
       "    </tr>\n",
       "    <tr>\n",
       "      <th>769</th>\n",
       "      <td>user_000084</td>\n",
       "      <td>Toy Soldier</td>\n",
       "      <td>Britney Spears</td>\n",
       "      <td>Toy Soldier-/-Britney Spears</td>\n",
       "      <td>220</td>\n",
       "      <td>1.873380</td>\n",
       "    </tr>\n",
       "    <tr>\n",
       "      <th>914</th>\n",
       "      <td>user_000084</td>\n",
       "      <td>I'M A Slave 4 U</td>\n",
       "      <td>Britney Spears</td>\n",
       "      <td>I'M A Slave 4 U-/-Britney Spears</td>\n",
       "      <td>205</td>\n",
       "      <td>1.813559</td>\n",
       "    </tr>\n",
       "    <tr>\n",
       "      <th>991</th>\n",
       "      <td>user_000084</td>\n",
       "      <td>Me Against The Music</td>\n",
       "      <td>Britney Spears</td>\n",
       "      <td>Me Against The Music-/-Britney Spears</td>\n",
       "      <td>198</td>\n",
       "      <td>1.785643</td>\n",
       "    </tr>\n",
       "    <tr>\n",
       "      <th>1196</th>\n",
       "      <td>user_000084</td>\n",
       "      <td>Shattered Glass</td>\n",
       "      <td>Britney Spears</td>\n",
       "      <td>Shattered Glass-/-Britney Spears</td>\n",
       "      <td>183</td>\n",
       "      <td>1.725823</td>\n",
       "    </tr>\n",
       "    <tr>\n",
       "      <th>1440</th>\n",
       "      <td>user_000084</td>\n",
       "      <td>Ooh Ooh Baby</td>\n",
       "      <td>Britney Spears</td>\n",
       "      <td>Ooh Ooh Baby-/-Britney Spears</td>\n",
       "      <td>172</td>\n",
       "      <td>1.681954</td>\n",
       "    </tr>\n",
       "    <tr>\n",
       "      <th>1501</th>\n",
       "      <td>user_000084</td>\n",
       "      <td>4 Minutes (Feat. Justin Timberlake)</td>\n",
       "      <td>Madonna</td>\n",
       "      <td>4 Minutes (Feat. Justin Timberlake)-/-Madonna</td>\n",
       "      <td>169</td>\n",
       "      <td>1.669990</td>\n",
       "    </tr>\n",
       "    <tr>\n",
       "      <th>1548</th>\n",
       "      <td>user_000084</td>\n",
       "      <td>The Kill</td>\n",
       "      <td>30 Seconds To Mars</td>\n",
       "      <td>The Kill-/-30 Seconds To Mars</td>\n",
       "      <td>167</td>\n",
       "      <td>1.662014</td>\n",
       "    </tr>\n",
       "    <tr>\n",
       "      <th>1610</th>\n",
       "      <td>user_000084</td>\n",
       "      <td>Everybody</td>\n",
       "      <td>Britney Spears</td>\n",
       "      <td>Everybody-/-Britney Spears</td>\n",
       "      <td>165</td>\n",
       "      <td>1.654038</td>\n",
       "    </tr>\n",
       "    <tr>\n",
       "      <th>1775</th>\n",
       "      <td>user_000084</td>\n",
       "      <td>Freakshow</td>\n",
       "      <td>Britney Spears</td>\n",
       "      <td>Freakshow-/-Britney Spears</td>\n",
       "      <td>159</td>\n",
       "      <td>1.630110</td>\n",
       "    </tr>\n",
       "    <tr>\n",
       "      <th>1827</th>\n",
       "      <td>user_000084</td>\n",
       "      <td>Heaven On Earth</td>\n",
       "      <td>Britney Spears</td>\n",
       "      <td>Heaven On Earth-/-Britney Spears</td>\n",
       "      <td>157</td>\n",
       "      <td>1.622134</td>\n",
       "    </tr>\n",
       "  </tbody>\n",
       "</table>\n",
       "</div>"
      ],
      "text/plain": [
       "          user_id                             track_name         artist_name  \\\n",
       "id                                                                             \n",
       "23    user_000084                             Gimme More      Britney Spears   \n",
       "39    user_000084                            Piece Of Me      Britney Spears   \n",
       "50    user_000084                              Womanizer      Britney Spears   \n",
       "93    user_000084                                  Radar      Britney Spears   \n",
       "130   user_000084                                 Circus      Britney Spears   \n",
       "142   user_000084                          Break The Ice      Britney Spears   \n",
       "243   user_000084                          If U Seek Amy      Britney Spears   \n",
       "557   user_000084  They Talk Shit About Me (Feat. Verse)           M. Pokora   \n",
       "607   user_000084                             Hot As Ice      Britney Spears   \n",
       "705   user_000084                        Kill The Lights      Britney Spears   \n",
       "769   user_000084                            Toy Soldier      Britney Spears   \n",
       "914   user_000084                        I'M A Slave 4 U      Britney Spears   \n",
       "991   user_000084                   Me Against The Music      Britney Spears   \n",
       "1196  user_000084                        Shattered Glass      Britney Spears   \n",
       "1440  user_000084                           Ooh Ooh Baby      Britney Spears   \n",
       "1501  user_000084    4 Minutes (Feat. Justin Timberlake)             Madonna   \n",
       "1548  user_000084                               The Kill  30 Seconds To Mars   \n",
       "1610  user_000084                              Everybody      Britney Spears   \n",
       "1775  user_000084                              Freakshow      Britney Spears   \n",
       "1827  user_000084                        Heaven On Earth      Britney Spears   \n",
       "\n",
       "                                           track_artist  reproductions  \\\n",
       "id                                                                       \n",
       "23                          Gimme More-/-Britney Spears           1004   \n",
       "39                         Piece Of Me-/-Britney Spears            786   \n",
       "50                           Womanizer-/-Britney Spears            739   \n",
       "93                               Radar-/-Britney Spears            534   \n",
       "130                             Circus-/-Britney Spears            453   \n",
       "142                      Break The Ice-/-Britney Spears            434   \n",
       "243                      If U Seek Amy-/-Britney Spears            361   \n",
       "557   They Talk Shit About Me (Feat. Verse)-/-M. Pokora            252   \n",
       "607                         Hot As Ice-/-Britney Spears            242   \n",
       "705                    Kill The Lights-/-Britney Spears            229   \n",
       "769                        Toy Soldier-/-Britney Spears            220   \n",
       "914                    I'M A Slave 4 U-/-Britney Spears            205   \n",
       "991               Me Against The Music-/-Britney Spears            198   \n",
       "1196                   Shattered Glass-/-Britney Spears            183   \n",
       "1440                      Ooh Ooh Baby-/-Britney Spears            172   \n",
       "1501      4 Minutes (Feat. Justin Timberlake)-/-Madonna            169   \n",
       "1548                      The Kill-/-30 Seconds To Mars            167   \n",
       "1610                         Everybody-/-Britney Spears            165   \n",
       "1775                         Freakshow-/-Britney Spears            159   \n",
       "1827                   Heaven On Earth-/-Britney Spears            157   \n",
       "\n",
       "        rating  \n",
       "id              \n",
       "23    5.000000  \n",
       "39    4.130608  \n",
       "50    3.943170  \n",
       "93    3.125623  \n",
       "130   2.802592  \n",
       "142   2.726820  \n",
       "243   2.435693  \n",
       "557   2.000997  \n",
       "607   1.961117  \n",
       "705   1.909272  \n",
       "769   1.873380  \n",
       "914   1.813559  \n",
       "991   1.785643  \n",
       "1196  1.725823  \n",
       "1440  1.681954  \n",
       "1501  1.669990  \n",
       "1548  1.662014  \n",
       "1610  1.654038  \n",
       "1775  1.630110  \n",
       "1827  1.622134  "
      ]
     },
     "execution_count": 17,
     "metadata": {},
     "output_type": "execute_result"
    }
   ],
   "source": [
    "df_ut_sample.loc[df_ut_sample['user_id'] == 'user_000084']"
   ]
  },
  {
   "cell_type": "code",
   "execution_count": 18,
   "id": "33b96a96-8f2f-44b2-b9f9-de82705dc049",
   "metadata": {
    "execution": {
     "iopub.execute_input": "2023-03-15T20:36:01.293339Z",
     "iopub.status.busy": "2023-03-15T20:36:01.292562Z",
     "iopub.status.idle": "2023-03-15T20:36:07.635763Z",
     "shell.execute_reply": "2023-03-15T20:36:07.603748Z",
     "shell.execute_reply.started": "2023-03-15T20:36:01.293307Z"
    },
    "id": "s5A8reiHLdXy",
    "tags": []
   },
   "outputs": [
    {
     "name": "stdout",
     "output_type": "stream",
     "text": [
      "Computing the cosine similarity matrix...\n",
      "Done computing similarity matrix.\n"
     ]
    },
    {
     "data": {
      "text/plain": [
       "<surprise.prediction_algorithms.knns.KNNWithZScore at 0x7f83e476fdc0>"
      ]
     },
     "execution_count": 18,
     "metadata": {},
     "output_type": "execute_result"
    }
   ],
   "source": [
    "algo.fit(train_set)"
   ]
  },
  {
   "cell_type": "code",
   "execution_count": 19,
   "id": "db326aa9-3324-4693-aa5a-4dd70efa7bd7",
   "metadata": {
    "execution": {
     "iopub.execute_input": "2023-03-15T20:36:07.695838Z",
     "iopub.status.busy": "2023-03-15T20:36:07.693333Z",
     "iopub.status.idle": "2023-03-15T20:36:10.891691Z",
     "shell.execute_reply": "2023-03-15T20:36:10.890564Z",
     "shell.execute_reply.started": "2023-03-15T20:36:07.695546Z"
    },
    "tags": []
   },
   "outputs": [],
   "source": [
    "# Save the model\n",
    "from surprise import dump\n",
    "dump.dump('../backend/data/models/ii_cosine.pkl', algo=algo)"
   ]
  },
  {
   "cell_type": "code",
   "execution_count": 20,
   "id": "9811e02a-d072-445a-a778-6a6cd3abf587",
   "metadata": {
    "execution": {
     "iopub.execute_input": "2023-03-15T20:36:10.896564Z",
     "iopub.status.busy": "2023-03-15T20:36:10.896077Z",
     "iopub.status.idle": "2023-03-15T20:36:10.930506Z",
     "shell.execute_reply": "2023-03-15T20:36:10.929495Z",
     "shell.execute_reply.started": "2023-03-15T20:36:10.896542Z"
    },
    "tags": []
   },
   "outputs": [
    {
     "data": {
      "text/plain": [
       "Prediction(uid='user_000084', iid='Gimme More-/-Britney Spears', r_ui=None, est=3.3558410727613355, details={'actual_k': 18, 'was_impossible': False})"
      ]
     },
     "execution_count": 20,
     "metadata": {},
     "output_type": "execute_result"
    }
   ],
   "source": [
    "algo.predict('user_000084', 'Gimme More-/-Britney Spears')"
   ]
  },
  {
   "cell_type": "code",
   "execution_count": 21,
   "id": "562cedf2-6308-4d65-a1eb-1bb35b53760b",
   "metadata": {
    "execution": {
     "iopub.execute_input": "2023-03-15T20:36:10.938851Z",
     "iopub.status.busy": "2023-03-15T20:36:10.938264Z",
     "iopub.status.idle": "2023-03-15T20:36:10.949178Z",
     "shell.execute_reply": "2023-03-15T20:36:10.948310Z",
     "shell.execute_reply.started": "2023-03-15T20:36:10.938826Z"
    },
    "tags": []
   },
   "outputs": [
    {
     "data": {
      "text/plain": [
       "Prediction(uid='user_000084', iid='Heaven On Earth-/-Britney Spears', r_ui=None, est=1.9811948744665275, details={'actual_k': 18, 'was_impossible': False})"
      ]
     },
     "execution_count": 21,
     "metadata": {},
     "output_type": "execute_result"
    }
   ],
   "source": [
    "algo.predict('user_000084', 'Heaven On Earth-/-Britney Spears')"
   ]
  },
  {
   "cell_type": "code",
   "execution_count": 22,
   "id": "cec6f222-1590-4f78-9833-0e4c1e93baa4",
   "metadata": {
    "execution": {
     "iopub.execute_input": "2023-03-15T20:36:10.957535Z",
     "iopub.status.busy": "2023-03-15T20:36:10.956928Z",
     "iopub.status.idle": "2023-03-15T20:36:11.060998Z",
     "shell.execute_reply": "2023-03-15T20:36:11.060139Z",
     "shell.execute_reply.started": "2023-03-15T20:36:10.957483Z"
    },
    "tags": []
   },
   "outputs": [],
   "source": [
    "test_predictions = algo.test(test_set)"
   ]
  },
  {
   "cell_type": "code",
   "execution_count": 23,
   "id": "629a95ae-ec60-4f8e-9fcc-51406b0fa8f7",
   "metadata": {
    "execution": {
     "iopub.execute_input": "2023-03-15T20:36:11.064251Z",
     "iopub.status.busy": "2023-03-15T20:36:11.063527Z",
     "iopub.status.idle": "2023-03-15T20:36:11.085929Z",
     "shell.execute_reply": "2023-03-15T20:36:11.084750Z",
     "shell.execute_reply.started": "2023-03-15T20:36:11.064221Z"
    },
    "tags": []
   },
   "outputs": [
    {
     "name": "stdout",
     "output_type": "stream",
     "text": [
      "RMSE: 1.0098\n"
     ]
    },
    {
     "data": {
      "text/plain": [
       "1.0097780085578663"
      ]
     },
     "execution_count": 23,
     "metadata": {},
     "output_type": "execute_result"
    }
   ],
   "source": [
    "accuracy.rmse( test_predictions, verbose = True )"
   ]
  },
  {
   "cell_type": "code",
   "execution_count": 24,
   "id": "87cd5c43-140f-45d1-9314-d0d6a73d6b4e",
   "metadata": {
    "execution": {
     "iopub.execute_input": "2023-03-15T20:36:11.089676Z",
     "iopub.status.busy": "2023-03-15T20:36:11.089212Z",
     "iopub.status.idle": "2023-03-15T20:36:11.100873Z",
     "shell.execute_reply": "2023-03-15T20:36:11.099924Z",
     "shell.execute_reply.started": "2023-03-15T20:36:11.089646Z"
    },
    "tags": []
   },
   "outputs": [
    {
     "name": "stdout",
     "output_type": "stream",
     "text": [
      "MAE:  0.8043\n"
     ]
    },
    {
     "data": {
      "text/plain": [
       "0.8042592664756583"
      ]
     },
     "execution_count": 24,
     "metadata": {},
     "output_type": "execute_result"
    }
   ],
   "source": [
    "accuracy.mae( test_predictions, verbose = True )"
   ]
  },
  {
   "cell_type": "markdown",
   "id": "27d60042-c523-4085-ae58-ce8d630690d3",
   "metadata": {},
   "source": [
    "# 4. item-item usando Tracks y pearson"
   ]
  },
  {
   "cell_type": "code",
   "execution_count": 4,
   "id": "010e3b0f-c413-4529-a847-de3e23534767",
   "metadata": {
    "execution": {
     "iopub.execute_input": "2023-03-15T20:37:04.342881Z",
     "iopub.status.busy": "2023-03-15T20:37:04.342306Z",
     "iopub.status.idle": "2023-03-15T20:37:04.385149Z",
     "shell.execute_reply": "2023-03-15T20:37:04.384265Z",
     "shell.execute_reply.started": "2023-03-15T20:37:04.342862Z"
    },
    "tags": []
   },
   "outputs": [],
   "source": [
    "# Cuarta predicción, usando df_UT, Item-Item y Pearson\n",
    "reader = Reader( rating_scale = ( 1, 5 ) )\n",
    "#Se crea el dataset a partir del dataframe\n",
    "surprise_dataset = Dataset.load_from_df( df_ut_sample[['user_id', 'track_artist', 'rating']], reader )\n",
    "\n",
    "train_set, test_set =  train_test_split(surprise_dataset, test_size=.2)"
   ]
  },
  {
   "cell_type": "code",
   "execution_count": 5,
   "id": "0fc891d7-ae8a-45b2-92c3-6b7ec9820617",
   "metadata": {
    "execution": {
     "iopub.execute_input": "2023-03-15T20:37:04.712857Z",
     "iopub.status.busy": "2023-03-15T20:37:04.712256Z",
     "iopub.status.idle": "2023-03-15T20:37:04.716303Z",
     "shell.execute_reply": "2023-03-15T20:37:04.715583Z",
     "shell.execute_reply.started": "2023-03-15T20:37:04.712814Z"
    },
    "tags": []
   },
   "outputs": [],
   "source": [
    "sim_options = {'name': 'pearson_baseline',\n",
    "               'user_based': False # calcule similitud item-item\n",
    "               }\n",
    "\n",
    "algo = KNNWithZScore(k=50, min_k=2, sim_options=sim_options)"
   ]
  },
  {
   "cell_type": "code",
   "execution_count": 6,
   "id": "4e43eebf-0675-4d4a-935e-5c97cd2ecafc",
   "metadata": {
    "execution": {
     "iopub.execute_input": "2023-03-15T20:37:05.144700Z",
     "iopub.status.busy": "2023-03-15T20:37:05.144104Z",
     "iopub.status.idle": "2023-03-15T20:37:10.863074Z",
     "shell.execute_reply": "2023-03-15T20:37:10.862052Z",
     "shell.execute_reply.started": "2023-03-15T20:37:05.144678Z"
    },
    "tags": []
   },
   "outputs": [
    {
     "name": "stdout",
     "output_type": "stream",
     "text": [
      "Estimating biases using als...\n",
      "Computing the pearson_baseline similarity matrix...\n",
      "Done computing similarity matrix.\n"
     ]
    },
    {
     "data": {
      "text/plain": [
       "<surprise.prediction_algorithms.knns.KNNWithZScore at 0x7f7b4872e520>"
      ]
     },
     "execution_count": 6,
     "metadata": {},
     "output_type": "execute_result"
    }
   ],
   "source": [
    "algo.fit(train_set)"
   ]
  },
  {
   "cell_type": "code",
   "execution_count": 7,
   "id": "90cbc7d8-a15f-45b9-94b5-6f3dc8fda247",
   "metadata": {
    "execution": {
     "iopub.execute_input": "2023-03-15T20:37:10.865336Z",
     "iopub.status.busy": "2023-03-15T20:37:10.864773Z",
     "iopub.status.idle": "2023-03-15T20:37:13.769180Z",
     "shell.execute_reply": "2023-03-15T20:37:13.768161Z",
     "shell.execute_reply.started": "2023-03-15T20:37:10.865295Z"
    },
    "tags": []
   },
   "outputs": [],
   "source": [
    "# Save the model\n",
    "from surprise import dump\n",
    "dump.dump('../backend/data/models/ii_pearson.pkl', algo=algo)"
   ]
  },
  {
   "cell_type": "code",
   "execution_count": 8,
   "id": "e19674ee-4471-45d1-b00c-44a3c87a7449",
   "metadata": {
    "execution": {
     "iopub.execute_input": "2023-03-15T20:37:13.770701Z",
     "iopub.status.busy": "2023-03-15T20:37:13.770277Z",
     "iopub.status.idle": "2023-03-15T20:37:13.776694Z",
     "shell.execute_reply": "2023-03-15T20:37:13.775824Z",
     "shell.execute_reply.started": "2023-03-15T20:37:13.770667Z"
    },
    "tags": []
   },
   "outputs": [
    {
     "data": {
      "text/plain": [
       "Prediction(uid='user_000084', iid='Gimme More-/-Britney Spears', r_ui=None, est=4.999008771546528, details={'actual_k': 4, 'was_impossible': False})"
      ]
     },
     "execution_count": 8,
     "metadata": {},
     "output_type": "execute_result"
    }
   ],
   "source": [
    "algo.predict('user_000084', 'Gimme More-/-Britney Spears')"
   ]
  },
  {
   "cell_type": "code",
   "execution_count": 9,
   "id": "c3f57d88-b9a3-4573-a33d-0987a5f20254",
   "metadata": {
    "execution": {
     "iopub.execute_input": "2023-03-15T20:37:13.778931Z",
     "iopub.status.busy": "2023-03-15T20:37:13.778393Z",
     "iopub.status.idle": "2023-03-15T20:37:13.784390Z",
     "shell.execute_reply": "2023-03-15T20:37:13.783594Z",
     "shell.execute_reply.started": "2023-03-15T20:37:13.778904Z"
    },
    "tags": []
   },
   "outputs": [
    {
     "data": {
      "text/plain": [
       "Prediction(uid='user_000084', iid='Heaven On Earth-/-Britney Spears', r_ui=None, est=2.3986754966887416, details={'actual_k': 0, 'was_impossible': False})"
      ]
     },
     "execution_count": 9,
     "metadata": {},
     "output_type": "execute_result"
    }
   ],
   "source": [
    "algo.predict('user_000084', 'Heaven On Earth-/-Britney Spears')"
   ]
  },
  {
   "cell_type": "code",
   "execution_count": 12,
   "id": "f0526118-4a4a-4eda-8a18-eca11b12340d",
   "metadata": {
    "execution": {
     "iopub.execute_input": "2023-03-15T20:37:38.986830Z",
     "iopub.status.busy": "2023-03-15T20:37:38.986149Z",
     "iopub.status.idle": "2023-03-15T20:37:39.025025Z",
     "shell.execute_reply": "2023-03-15T20:37:39.023723Z",
     "shell.execute_reply.started": "2023-03-15T20:37:38.986808Z"
    },
    "tags": []
   },
   "outputs": [],
   "source": [
    "test_predictions = algo.test(test_set)"
   ]
  },
  {
   "cell_type": "code",
   "execution_count": 13,
   "id": "da2430ca-1791-4ec3-89d7-e6ad3440275a",
   "metadata": {
    "execution": {
     "iopub.execute_input": "2023-03-15T20:37:39.463462Z",
     "iopub.status.busy": "2023-03-15T20:37:39.462751Z",
     "iopub.status.idle": "2023-03-15T20:37:39.471409Z",
     "shell.execute_reply": "2023-03-15T20:37:39.470472Z",
     "shell.execute_reply.started": "2023-03-15T20:37:39.463439Z"
    },
    "tags": []
   },
   "outputs": [
    {
     "name": "stdout",
     "output_type": "stream",
     "text": [
      "RMSE: 1.0215\n"
     ]
    },
    {
     "data": {
      "text/plain": [
       "1.021537111660306"
      ]
     },
     "execution_count": 13,
     "metadata": {},
     "output_type": "execute_result"
    }
   ],
   "source": [
    "accuracy.rmse( test_predictions, verbose = True )"
   ]
  },
  {
   "cell_type": "code",
   "execution_count": 14,
   "id": "38f8417d-76d3-462e-92b9-2c565199e62a",
   "metadata": {
    "execution": {
     "iopub.execute_input": "2023-03-15T20:37:39.898065Z",
     "iopub.status.busy": "2023-03-15T20:37:39.897226Z",
     "iopub.status.idle": "2023-03-15T20:37:39.906970Z",
     "shell.execute_reply": "2023-03-15T20:37:39.906039Z",
     "shell.execute_reply.started": "2023-03-15T20:37:39.898029Z"
    },
    "tags": []
   },
   "outputs": [
    {
     "name": "stdout",
     "output_type": "stream",
     "text": [
      "MAE:  0.8181\n"
     ]
    },
    {
     "data": {
      "text/plain": [
       "0.818117191882479"
      ]
     },
     "execution_count": 14,
     "metadata": {},
     "output_type": "execute_result"
    }
   ],
   "source": [
    "accuracy.mae( test_predictions, verbose = True )"
   ]
  },
  {
   "cell_type": "markdown",
   "id": "5ee8f93d-56f8-4c03-8cea-07ac174c95d5",
   "metadata": {},
   "source": [
    "# Realizando predicciones con los modelos"
   ]
  },
  {
   "cell_type": "code",
   "execution_count": 19,
   "id": "071bd5ae-a2d6-4e54-9609-5e28d33e48c6",
   "metadata": {
    "execution": {
     "iopub.execute_input": "2023-03-15T21:00:26.553620Z",
     "iopub.status.busy": "2023-03-15T21:00:26.553113Z",
     "iopub.status.idle": "2023-03-15T21:00:26.561857Z",
     "shell.execute_reply": "2023-03-15T21:00:26.560951Z",
     "shell.execute_reply.started": "2023-03-15T21:00:26.553598Z"
    },
    "tags": []
   },
   "outputs": [],
   "source": [
    "def model_prediction(table, id, model):\n",
    "    songs = table['track_artist'].unique()\n",
    "    predictions = []\n",
    "    escuchadas = table.loc[table['user_id'] == id]['track_artist'].to_list()\n",
    "    for i in songs:\n",
    "        if i not in escuchadas:\n",
    "            predictions.append(model.predict(id, i))\n",
    "    predictions.sort(key=lambda x : x.est, reverse=True)\n",
    "    #Se convierte a dataframe\n",
    "    labels = ['track_artist', 'estimation']\n",
    "    df_predictions = pd.DataFrame.from_records(list(map(lambda x: (x.iid, x.est) , predictions)), columns=labels)\n",
    " \n",
    "    # Lo unimos con el dataframe de películas PENDIENTE\n",
    "    df_predictions[['track_name', 'artist_name']] = df_predictions['track_artist'].str.split('-/-', n=1, expand=True)\n",
    "    \n",
    "    df_predictions.index.name='id'\n",
    "\n",
    "    # Drop the original column\n",
    "    df_predictions.drop('track_artist', axis=1, inplace=True)\n",
    "\n",
    "    return df_predictions"
   ]
  },
  {
   "cell_type": "code",
   "execution_count": 4,
   "id": "1bd538f3-0863-4a6a-b47b-45c7e2f73918",
   "metadata": {
    "execution": {
     "iopub.execute_input": "2023-03-15T20:41:49.026822Z",
     "iopub.status.busy": "2023-03-15T20:41:49.026138Z",
     "iopub.status.idle": "2023-03-15T20:42:14.158059Z",
     "shell.execute_reply": "2023-03-15T20:42:14.156423Z",
     "shell.execute_reply.started": "2023-03-15T20:41:49.026800Z"
    },
    "tags": []
   },
   "outputs": [],
   "source": [
    "# Cargamos los modelos\n",
    "from surprise import dump\n",
    "uu_cosine = dump.load('../backend/data/models/uu_cosine.pkl')[1]\n",
    "uu_pearson = dump.load('../backend/data/models/uu_pearson.pkl')[1]\n",
    "\n",
    "ii_cosine = dump.load('../backend/data/models/ii_cosine.pkl')[1]\n",
    "ii_pearson = dump.load('../backend/data/models/ii_pearson.pkl')[1]"
   ]
  },
  {
   "cell_type": "code",
   "execution_count": 8,
   "id": "fc6798cd-b474-49f0-9039-440a289adb54",
   "metadata": {
    "execution": {
     "iopub.execute_input": "2023-03-15T20:42:41.760445Z",
     "iopub.status.busy": "2023-03-15T20:42:41.760108Z",
     "iopub.status.idle": "2023-03-15T20:43:44.025080Z",
     "shell.execute_reply": "2023-03-15T20:43:44.022575Z",
     "shell.execute_reply.started": "2023-03-15T20:42:41.760427Z"
    },
    "tags": []
   },
   "outputs": [],
   "source": [
    "# Se ingresa un usuario y un algoritmo por parámetro, y retorna todas las canciones que NO ha escuchado el usuario, y la predicción.\n",
    "uu_cosine_pred = model_prediction(df_UT, 'user_000084', uu_cosine)"
   ]
  },
  {
   "cell_type": "code",
   "execution_count": 9,
   "id": "630cceda-c371-4534-9d44-c0923d768192",
   "metadata": {
    "execution": {
     "iopub.execute_input": "2023-03-15T20:43:44.028155Z",
     "iopub.status.busy": "2023-03-15T20:43:44.027699Z",
     "iopub.status.idle": "2023-03-15T20:43:44.045879Z",
     "shell.execute_reply": "2023-03-15T20:43:44.045159Z",
     "shell.execute_reply.started": "2023-03-15T20:43:44.028113Z"
    }
   },
   "outputs": [
    {
     "data": {
      "text/html": [
       "<div>\n",
       "<style scoped>\n",
       "    .dataframe tbody tr th:only-of-type {\n",
       "        vertical-align: middle;\n",
       "    }\n",
       "\n",
       "    .dataframe tbody tr th {\n",
       "        vertical-align: top;\n",
       "    }\n",
       "\n",
       "    .dataframe thead th {\n",
       "        text-align: right;\n",
       "    }\n",
       "</style>\n",
       "<table border=\"1\" class=\"dataframe\">\n",
       "  <thead>\n",
       "    <tr style=\"text-align: right;\">\n",
       "      <th></th>\n",
       "      <th>estimation</th>\n",
       "      <th>track_name</th>\n",
       "      <th>artist_name</th>\n",
       "    </tr>\n",
       "  </thead>\n",
       "  <tbody>\n",
       "    <tr>\n",
       "      <th>0</th>\n",
       "      <td>5.000000</td>\n",
       "      <td>Why So Blue</td>\n",
       "      <td>Paul Mccartney</td>\n",
       "    </tr>\n",
       "    <tr>\n",
       "      <th>1</th>\n",
       "      <td>4.526800</td>\n",
       "      <td>Happy Death-Day</td>\n",
       "      <td>Gwar</td>\n",
       "    </tr>\n",
       "    <tr>\n",
       "      <th>2</th>\n",
       "      <td>4.436559</td>\n",
       "      <td>Wreck It Up</td>\n",
       "      <td>The Ethiopians</td>\n",
       "    </tr>\n",
       "    <tr>\n",
       "      <th>3</th>\n",
       "      <td>4.214079</td>\n",
       "      <td>Suru (Original Mix)</td>\n",
       "      <td>Super8 &amp; Tab</td>\n",
       "    </tr>\n",
       "    <tr>\n",
       "      <th>4</th>\n",
       "      <td>4.102660</td>\n",
       "      <td>The Sleeper</td>\n",
       "      <td>Fountain Of Tears</td>\n",
       "    </tr>\n",
       "    <tr>\n",
       "      <th>...</th>\n",
       "      <td>...</td>\n",
       "      <td>...</td>\n",
       "      <td>...</td>\n",
       "    </tr>\n",
       "    <tr>\n",
       "      <th>1496599</th>\n",
       "      <td>1.000000</td>\n",
       "      <td>Downfallen</td>\n",
       "      <td>Scream Silence</td>\n",
       "    </tr>\n",
       "    <tr>\n",
       "      <th>1496600</th>\n",
       "      <td>1.000000</td>\n",
       "      <td>Diary</td>\n",
       "      <td>Scream Silence</td>\n",
       "    </tr>\n",
       "    <tr>\n",
       "      <th>1496601</th>\n",
       "      <td>1.000000</td>\n",
       "      <td>Mutant Message (Full Length Version)</td>\n",
       "      <td>Juno Reactor</td>\n",
       "    </tr>\n",
       "    <tr>\n",
       "      <th>1496602</th>\n",
       "      <td>1.000000</td>\n",
       "      <td>Source Of Suspicions</td>\n",
       "      <td>Cenotaph</td>\n",
       "    </tr>\n",
       "    <tr>\n",
       "      <th>1496603</th>\n",
       "      <td>1.000000</td>\n",
       "      <td>O Lisa</td>\n",
       "      <td>Weezer</td>\n",
       "    </tr>\n",
       "  </tbody>\n",
       "</table>\n",
       "<p>1496604 rows × 3 columns</p>\n",
       "</div>"
      ],
      "text/plain": [
       "         estimation                            track_name        artist_name\n",
       "0          5.000000                           Why So Blue     Paul Mccartney\n",
       "1          4.526800                       Happy Death-Day               Gwar\n",
       "2          4.436559                           Wreck It Up     The Ethiopians\n",
       "3          4.214079                   Suru (Original Mix)       Super8 & Tab\n",
       "4          4.102660                           The Sleeper  Fountain Of Tears\n",
       "...             ...                                   ...                ...\n",
       "1496599    1.000000                            Downfallen     Scream Silence\n",
       "1496600    1.000000                                 Diary     Scream Silence\n",
       "1496601    1.000000  Mutant Message (Full Length Version)       Juno Reactor\n",
       "1496602    1.000000                  Source Of Suspicions           Cenotaph\n",
       "1496603    1.000000                                O Lisa             Weezer\n",
       "\n",
       "[1496604 rows x 3 columns]"
      ]
     },
     "execution_count": 9,
     "metadata": {},
     "output_type": "execute_result"
    }
   ],
   "source": [
    "uu_cosine_pred"
   ]
  },
  {
   "cell_type": "code",
   "execution_count": 10,
   "id": "ae57f2e8-e5a1-45d6-9922-8825f39f12b9",
   "metadata": {
    "execution": {
     "iopub.execute_input": "2023-03-15T20:43:44.047470Z",
     "iopub.status.busy": "2023-03-15T20:43:44.047109Z",
     "iopub.status.idle": "2023-03-15T20:44:47.500440Z",
     "shell.execute_reply": "2023-03-15T20:44:47.499622Z",
     "shell.execute_reply.started": "2023-03-15T20:43:44.047454Z"
    },
    "tags": []
   },
   "outputs": [],
   "source": [
    "# Se ingresa un usuario y un algoritmo por parámetro, y retorna todas las canciones que NO ha escuchado el usuario, y la predicción.\n",
    "uu_pearson_pred = model_prediction(df_UT, 'user_000084', uu_pearson)"
   ]
  },
  {
   "cell_type": "code",
   "execution_count": 11,
   "id": "089e60ea-2bb7-4549-b82e-043b77480d5a",
   "metadata": {
    "execution": {
     "iopub.execute_input": "2023-03-15T20:44:47.501883Z",
     "iopub.status.busy": "2023-03-15T20:44:47.501444Z",
     "iopub.status.idle": "2023-03-15T20:44:47.511787Z",
     "shell.execute_reply": "2023-03-15T20:44:47.511002Z",
     "shell.execute_reply.started": "2023-03-15T20:44:47.501865Z"
    }
   },
   "outputs": [
    {
     "data": {
      "text/html": [
       "<div>\n",
       "<style scoped>\n",
       "    .dataframe tbody tr th:only-of-type {\n",
       "        vertical-align: middle;\n",
       "    }\n",
       "\n",
       "    .dataframe tbody tr th {\n",
       "        vertical-align: top;\n",
       "    }\n",
       "\n",
       "    .dataframe thead th {\n",
       "        text-align: right;\n",
       "    }\n",
       "</style>\n",
       "<table border=\"1\" class=\"dataframe\">\n",
       "  <thead>\n",
       "    <tr style=\"text-align: right;\">\n",
       "      <th></th>\n",
       "      <th>estimation</th>\n",
       "      <th>track_name</th>\n",
       "      <th>artist_name</th>\n",
       "    </tr>\n",
       "  </thead>\n",
       "  <tbody>\n",
       "    <tr>\n",
       "      <th>0</th>\n",
       "      <td>5.000000</td>\n",
       "      <td>Survive</td>\n",
       "      <td>Fountain Of Tears</td>\n",
       "    </tr>\n",
       "    <tr>\n",
       "      <th>1</th>\n",
       "      <td>5.000000</td>\n",
       "      <td>Real</td>\n",
       "      <td>Fountain Of Tears</td>\n",
       "    </tr>\n",
       "    <tr>\n",
       "      <th>2</th>\n",
       "      <td>5.000000</td>\n",
       "      <td>She Wants To Be</td>\n",
       "      <td>Fountain Of Tears</td>\n",
       "    </tr>\n",
       "    <tr>\n",
       "      <th>3</th>\n",
       "      <td>4.987925</td>\n",
       "      <td>Survive (Instrumental Mix)</td>\n",
       "      <td>Fountain Of Tears</td>\n",
       "    </tr>\n",
       "    <tr>\n",
       "      <th>4</th>\n",
       "      <td>4.925866</td>\n",
       "      <td>Over The Pavements</td>\n",
       "      <td>Ensemble Modern, Ingo Metzmacher, Cond.; H. He...</td>\n",
       "    </tr>\n",
       "    <tr>\n",
       "      <th>...</th>\n",
       "      <td>...</td>\n",
       "      <td>...</td>\n",
       "      <td>...</td>\n",
       "    </tr>\n",
       "    <tr>\n",
       "      <th>1496599</th>\n",
       "      <td>1.000000</td>\n",
       "      <td>Song To The Siren</td>\n",
       "      <td>Charlotte Martin</td>\n",
       "    </tr>\n",
       "    <tr>\n",
       "      <th>1496600</th>\n",
       "      <td>1.000000</td>\n",
       "      <td>We Believe In Karma</td>\n",
       "      <td>Piebald</td>\n",
       "    </tr>\n",
       "    <tr>\n",
       "      <th>1496601</th>\n",
       "      <td>1.000000</td>\n",
       "      <td>All Of The Words</td>\n",
       "      <td>Kutless</td>\n",
       "    </tr>\n",
       "    <tr>\n",
       "      <th>1496602</th>\n",
       "      <td>1.000000</td>\n",
       "      <td>Source Of Suspicions</td>\n",
       "      <td>Cenotaph</td>\n",
       "    </tr>\n",
       "    <tr>\n",
       "      <th>1496603</th>\n",
       "      <td>1.000000</td>\n",
       "      <td>O Lisa</td>\n",
       "      <td>Weezer</td>\n",
       "    </tr>\n",
       "  </tbody>\n",
       "</table>\n",
       "<p>1496604 rows × 3 columns</p>\n",
       "</div>"
      ],
      "text/plain": [
       "         estimation                  track_name  \\\n",
       "0          5.000000                     Survive   \n",
       "1          5.000000                        Real   \n",
       "2          5.000000             She Wants To Be   \n",
       "3          4.987925  Survive (Instrumental Mix)   \n",
       "4          4.925866          Over The Pavements   \n",
       "...             ...                         ...   \n",
       "1496599    1.000000           Song To The Siren   \n",
       "1496600    1.000000         We Believe In Karma   \n",
       "1496601    1.000000            All Of The Words   \n",
       "1496602    1.000000        Source Of Suspicions   \n",
       "1496603    1.000000                      O Lisa   \n",
       "\n",
       "                                               artist_name  \n",
       "0                                        Fountain Of Tears  \n",
       "1                                        Fountain Of Tears  \n",
       "2                                        Fountain Of Tears  \n",
       "3                                        Fountain Of Tears  \n",
       "4        Ensemble Modern, Ingo Metzmacher, Cond.; H. He...  \n",
       "...                                                    ...  \n",
       "1496599                                   Charlotte Martin  \n",
       "1496600                                            Piebald  \n",
       "1496601                                            Kutless  \n",
       "1496602                                           Cenotaph  \n",
       "1496603                                             Weezer  \n",
       "\n",
       "[1496604 rows x 3 columns]"
      ]
     },
     "execution_count": 11,
     "metadata": {},
     "output_type": "execute_result"
    }
   ],
   "source": [
    "uu_pearson_pred"
   ]
  },
  {
   "cell_type": "code",
   "execution_count": 20,
   "id": "545c28a2-d7d8-45f3-a085-5b7853c303ad",
   "metadata": {
    "execution": {
     "iopub.execute_input": "2023-03-15T21:00:35.566652Z",
     "iopub.status.busy": "2023-03-15T21:00:35.566391Z",
     "iopub.status.idle": "2023-03-15T21:00:36.195992Z",
     "shell.execute_reply": "2023-03-15T21:00:36.195103Z",
     "shell.execute_reply.started": "2023-03-15T21:00:35.566635Z"
    },
    "tags": []
   },
   "outputs": [],
   "source": [
    "# Se ingresa un usuario y un algoritmo por parámetro, y retorna todas las canciones que NO ha escuchado el usuario, y la predicción.\n",
    "ii_cosine_pred = model_prediction(df_ut_sample, 'user_000084', ii_cosine)"
   ]
  },
  {
   "cell_type": "code",
   "execution_count": 21,
   "id": "ee236b90-2a52-4297-a6ce-03255f84d17d",
   "metadata": {
    "execution": {
     "iopub.execute_input": "2023-03-15T21:00:36.587323Z",
     "iopub.status.busy": "2023-03-15T21:00:36.586764Z",
     "iopub.status.idle": "2023-03-15T21:00:36.599529Z",
     "shell.execute_reply": "2023-03-15T21:00:36.598765Z",
     "shell.execute_reply.started": "2023-03-15T21:00:36.587304Z"
    },
    "tags": []
   },
   "outputs": [
    {
     "data": {
      "text/html": [
       "<div>\n",
       "<style scoped>\n",
       "    .dataframe tbody tr th:only-of-type {\n",
       "        vertical-align: middle;\n",
       "    }\n",
       "\n",
       "    .dataframe tbody tr th {\n",
       "        vertical-align: top;\n",
       "    }\n",
       "\n",
       "    .dataframe thead th {\n",
       "        text-align: right;\n",
       "    }\n",
       "</style>\n",
       "<table border=\"1\" class=\"dataframe\">\n",
       "  <thead>\n",
       "    <tr style=\"text-align: right;\">\n",
       "      <th></th>\n",
       "      <th>estimation</th>\n",
       "      <th>track_name</th>\n",
       "      <th>artist_name</th>\n",
       "    </tr>\n",
       "    <tr>\n",
       "      <th>id</th>\n",
       "      <th></th>\n",
       "      <th></th>\n",
       "      <th></th>\n",
       "    </tr>\n",
       "  </thead>\n",
       "  <tbody>\n",
       "    <tr>\n",
       "      <th>0</th>\n",
       "      <td>5.0</td>\n",
       "      <td>See You In My Nightmares</td>\n",
       "      <td>Kanye West</td>\n",
       "    </tr>\n",
       "    <tr>\n",
       "      <th>1</th>\n",
       "      <td>5.0</td>\n",
       "      <td>Jolene</td>\n",
       "      <td>Cake</td>\n",
       "    </tr>\n",
       "    <tr>\n",
       "      <th>2</th>\n",
       "      <td>5.0</td>\n",
       "      <td>Wings Of Words</td>\n",
       "      <td>Chemistry</td>\n",
       "    </tr>\n",
       "    <tr>\n",
       "      <th>3</th>\n",
       "      <td>5.0</td>\n",
       "      <td>If I Don'T Live Today, Then I Might Be Here To...</td>\n",
       "      <td>Mando Diao</td>\n",
       "    </tr>\n",
       "    <tr>\n",
       "      <th>4</th>\n",
       "      <td>5.0</td>\n",
       "      <td>Rock On</td>\n",
       "      <td>Jackson And His Computer Band</td>\n",
       "    </tr>\n",
       "    <tr>\n",
       "      <th>...</th>\n",
       "      <td>...</td>\n",
       "      <td>...</td>\n",
       "      <td>...</td>\n",
       "    </tr>\n",
       "    <tr>\n",
       "      <th>16271</th>\n",
       "      <td>1.0</td>\n",
       "      <td>One Advice, Space</td>\n",
       "      <td>Deus</td>\n",
       "    </tr>\n",
       "    <tr>\n",
       "      <th>16272</th>\n",
       "      <td>1.0</td>\n",
       "      <td>Open Your Arms</td>\n",
       "      <td>Editors</td>\n",
       "    </tr>\n",
       "    <tr>\n",
       "      <th>16273</th>\n",
       "      <td>1.0</td>\n",
       "      <td>Seven Forty Seven</td>\n",
       "      <td>The Juliana Theory</td>\n",
       "    </tr>\n",
       "    <tr>\n",
       "      <th>16274</th>\n",
       "      <td>1.0</td>\n",
       "      <td>Little Fury Bugs</td>\n",
       "      <td>Death Cab For Cutie</td>\n",
       "    </tr>\n",
       "    <tr>\n",
       "      <th>16275</th>\n",
       "      <td>1.0</td>\n",
       "      <td>Long-Forgotten Fairytale</td>\n",
       "      <td>The Magnetic Fields</td>\n",
       "    </tr>\n",
       "  </tbody>\n",
       "</table>\n",
       "<p>16276 rows × 3 columns</p>\n",
       "</div>"
      ],
      "text/plain": [
       "       estimation                                         track_name  \\\n",
       "id                                                                     \n",
       "0             5.0                           See You In My Nightmares   \n",
       "1             5.0                                             Jolene   \n",
       "2             5.0                                     Wings Of Words   \n",
       "3             5.0  If I Don'T Live Today, Then I Might Be Here To...   \n",
       "4             5.0                                            Rock On   \n",
       "...           ...                                                ...   \n",
       "16271         1.0                                  One Advice, Space   \n",
       "16272         1.0                                     Open Your Arms   \n",
       "16273         1.0                                  Seven Forty Seven   \n",
       "16274         1.0                                   Little Fury Bugs   \n",
       "16275         1.0                           Long-Forgotten Fairytale   \n",
       "\n",
       "                         artist_name  \n",
       "id                                    \n",
       "0                         Kanye West  \n",
       "1                               Cake  \n",
       "2                          Chemistry  \n",
       "3                         Mando Diao  \n",
       "4      Jackson And His Computer Band  \n",
       "...                              ...  \n",
       "16271                           Deus  \n",
       "16272                        Editors  \n",
       "16273             The Juliana Theory  \n",
       "16274            Death Cab For Cutie  \n",
       "16275            The Magnetic Fields  \n",
       "\n",
       "[16276 rows x 3 columns]"
      ]
     },
     "execution_count": 21,
     "metadata": {},
     "output_type": "execute_result"
    }
   ],
   "source": [
    "ii_cosine_pred"
   ]
  },
  {
   "cell_type": "code",
   "execution_count": 14,
   "id": "9104f282-afaf-4eb9-abbb-a34e8c3514cb",
   "metadata": {
    "execution": {
     "iopub.execute_input": "2023-03-15T20:44:57.637944Z",
     "iopub.status.busy": "2023-03-15T20:44:57.637665Z",
     "iopub.status.idle": "2023-03-15T20:44:59.103434Z",
     "shell.execute_reply": "2023-03-15T20:44:59.102566Z",
     "shell.execute_reply.started": "2023-03-15T20:44:57.637923Z"
    }
   },
   "outputs": [],
   "source": [
    "# Se ingresa un usuario y un algoritmo por parámetro, y retorna todas las canciones que NO ha escuchado el usuario, y la predicción.\n",
    "ii_pearson_pred = model_prediction(df_ut_sample, 'user_000084', ii_pearson)"
   ]
  },
  {
   "cell_type": "code",
   "execution_count": 15,
   "id": "d498b36c-40a2-48a7-8423-ad18c9edf31e",
   "metadata": {
    "execution": {
     "iopub.execute_input": "2023-03-15T20:44:59.104651Z",
     "iopub.status.busy": "2023-03-15T20:44:59.104412Z",
     "iopub.status.idle": "2023-03-15T20:44:59.114143Z",
     "shell.execute_reply": "2023-03-15T20:44:59.113270Z",
     "shell.execute_reply.started": "2023-03-15T20:44:59.104633Z"
    }
   },
   "outputs": [
    {
     "data": {
      "text/html": [
       "<div>\n",
       "<style scoped>\n",
       "    .dataframe tbody tr th:only-of-type {\n",
       "        vertical-align: middle;\n",
       "    }\n",
       "\n",
       "    .dataframe tbody tr th {\n",
       "        vertical-align: top;\n",
       "    }\n",
       "\n",
       "    .dataframe thead th {\n",
       "        text-align: right;\n",
       "    }\n",
       "</style>\n",
       "<table border=\"1\" class=\"dataframe\">\n",
       "  <thead>\n",
       "    <tr style=\"text-align: right;\">\n",
       "      <th></th>\n",
       "      <th>estimation</th>\n",
       "      <th>track_name</th>\n",
       "      <th>artist_name</th>\n",
       "    </tr>\n",
       "  </thead>\n",
       "  <tbody>\n",
       "    <tr>\n",
       "      <th>0</th>\n",
       "      <td>5.0</td>\n",
       "      <td>See You In My Nightmares</td>\n",
       "      <td>Kanye West</td>\n",
       "    </tr>\n",
       "    <tr>\n",
       "      <th>1</th>\n",
       "      <td>5.0</td>\n",
       "      <td>Jolene</td>\n",
       "      <td>Cake</td>\n",
       "    </tr>\n",
       "    <tr>\n",
       "      <th>2</th>\n",
       "      <td>5.0</td>\n",
       "      <td>Wings Of Words</td>\n",
       "      <td>Chemistry</td>\n",
       "    </tr>\n",
       "    <tr>\n",
       "      <th>3</th>\n",
       "      <td>5.0</td>\n",
       "      <td>Je T'Aime...Moi Non Plus</td>\n",
       "      <td>Serge Gainsbourg</td>\n",
       "    </tr>\n",
       "    <tr>\n",
       "      <th>4</th>\n",
       "      <td>5.0</td>\n",
       "      <td>If I Don'T Live Today, Then I Might Be Here To...</td>\n",
       "      <td>Mando Diao</td>\n",
       "    </tr>\n",
       "    <tr>\n",
       "      <th>...</th>\n",
       "      <td>...</td>\n",
       "      <td>...</td>\n",
       "      <td>...</td>\n",
       "    </tr>\n",
       "    <tr>\n",
       "      <th>16271</th>\n",
       "      <td>1.0</td>\n",
       "      <td>Seven Forty Seven</td>\n",
       "      <td>The Juliana Theory</td>\n",
       "    </tr>\n",
       "    <tr>\n",
       "      <th>16272</th>\n",
       "      <td>1.0</td>\n",
       "      <td>Little Fury Bugs</td>\n",
       "      <td>Death Cab For Cutie</td>\n",
       "    </tr>\n",
       "    <tr>\n",
       "      <th>16273</th>\n",
       "      <td>1.0</td>\n",
       "      <td>Ladies Night</td>\n",
       "      <td>Atomic Kitten</td>\n",
       "    </tr>\n",
       "    <tr>\n",
       "      <th>16274</th>\n",
       "      <td>1.0</td>\n",
       "      <td>Little Room</td>\n",
       "      <td>The White Stripes</td>\n",
       "    </tr>\n",
       "    <tr>\n",
       "      <th>16275</th>\n",
       "      <td>1.0</td>\n",
       "      <td>Long-Forgotten Fairytale</td>\n",
       "      <td>The Magnetic Fields</td>\n",
       "    </tr>\n",
       "  </tbody>\n",
       "</table>\n",
       "<p>16276 rows × 3 columns</p>\n",
       "</div>"
      ],
      "text/plain": [
       "       estimation                                         track_name  \\\n",
       "0             5.0                           See You In My Nightmares   \n",
       "1             5.0                                             Jolene   \n",
       "2             5.0                                     Wings Of Words   \n",
       "3             5.0                           Je T'Aime...Moi Non Plus   \n",
       "4             5.0  If I Don'T Live Today, Then I Might Be Here To...   \n",
       "...           ...                                                ...   \n",
       "16271         1.0                                  Seven Forty Seven   \n",
       "16272         1.0                                   Little Fury Bugs   \n",
       "16273         1.0                                       Ladies Night   \n",
       "16274         1.0                                        Little Room   \n",
       "16275         1.0                           Long-Forgotten Fairytale   \n",
       "\n",
       "               artist_name  \n",
       "0               Kanye West  \n",
       "1                     Cake  \n",
       "2                Chemistry  \n",
       "3         Serge Gainsbourg  \n",
       "4               Mando Diao  \n",
       "...                    ...  \n",
       "16271   The Juliana Theory  \n",
       "16272  Death Cab For Cutie  \n",
       "16273        Atomic Kitten  \n",
       "16274    The White Stripes  \n",
       "16275  The Magnetic Fields  \n",
       "\n",
       "[16276 rows x 3 columns]"
      ]
     },
     "execution_count": 15,
     "metadata": {},
     "output_type": "execute_result"
    }
   ],
   "source": [
    "ii_pearson_pred"
   ]
  }
 ],
 "metadata": {
  "colab": {
   "collapsed_sections": [],
   "name": "Lab1_ee.ortiz_mc.parrad_sj.zona.ipynb",
   "provenance": []
  },
  "gist": {
   "data": {
    "description": "OneDrive/OneDrive - Universidad de los Andes/Universidad/Semestres/09. Noveno semestre/Sistemas de recomendación/Talleres/Taller 1/Solución/Taller1_SR_202310/notebooks/Taller1_data_analysis.ipynb",
    "public": false
   },
   "id": ""
  },
  "kernelspec": {
   "display_name": "Python 3 (ipykernel)",
   "language": "python",
   "name": "python3"
  },
  "language_info": {
   "codemirror_mode": {
    "name": "ipython",
    "version": 3
   },
   "file_extension": ".py",
   "mimetype": "text/x-python",
   "name": "python",
   "nbconvert_exporter": "python",
   "pygments_lexer": "ipython3",
   "version": "3.9.15"
  },
  "toc": {
   "base_numbering": 1,
   "nav_menu": {},
   "number_sections": true,
   "sideBar": true,
   "skip_h1_title": false,
   "title_cell": "Table of Contents",
   "title_sidebar": "Contents",
   "toc_cell": false,
   "toc_position": {
    "height": "calc(100% - 180px)",
    "left": "10px",
    "top": "150px",
    "width": "303.837px"
   },
   "toc_section_display": true,
   "toc_window_display": true
  },
  "varInspector": {
   "cols": {
    "lenName": 16,
    "lenType": 16,
    "lenVar": 40
   },
   "kernels_config": {
    "python": {
     "delete_cmd_postfix": "",
     "delete_cmd_prefix": "del ",
     "library": "var_list.py",
     "varRefreshCmd": "print(var_dic_list())"
    },
    "r": {
     "delete_cmd_postfix": ") ",
     "delete_cmd_prefix": "rm(",
     "library": "var_list.r",
     "varRefreshCmd": "cat(var_dic_list()) "
    }
   },
   "types_to_exclude": [
    "module",
    "function",
    "builtin_function_or_method",
    "instance",
    "_Feature"
   ],
   "window_display": false
  }
 },
 "nbformat": 4,
 "nbformat_minor": 5
}
